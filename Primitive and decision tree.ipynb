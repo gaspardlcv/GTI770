{
 "cells": [
  {
   "cell_type": "markdown",
   "metadata": {},
   "source": [
    "# Primitive and decision tree"
   ]
  },
  {
   "cell_type": "code",
   "execution_count": 1,
   "metadata": {},
   "outputs": [],
   "source": [
    "import numpy as np\n",
    "import random\n",
    "import math\n",
    "import csv\n",
    "import matplotlib\n",
    "import matplotlib.pyplot as plt\n",
    "from mpl_toolkits.mplot3d import Axes3D\n",
    "import cv2\n",
    "from sklearn.tree import DecisionTreeClassifier"
   ]
  },
  {
   "cell_type": "markdown",
   "metadata": {},
   "source": [
    "# Récuperer X et Y"
   ]
  },
  {
   "cell_type": "code",
   "execution_count": 2,
   "metadata": {},
   "outputs": [
    {
     "name": "stdout",
     "output_type": "stream",
     "text": [
      "forme de Y(100, 2)\n",
      "forme de X(100, 424, 424, 3)\n"
     ]
    }
   ],
   "source": [
    "Y = []\n",
    "class_names = []\n",
    "found = False;\n",
    "# lire dans le fichier csv\n",
    "with open(r'C:\\Users\\gaspa\\OneDrive\\Bureau\\COURS\\ING 5\\Semestre 1\\Machine Learning\\GTI770_label_data_set.csv') as csv_file:\n",
    "    csv_reader = csv.reader(csv_file, delimiter=',')\n",
    "    line_count = 0\n",
    "    for row in csv_reader:\n",
    "        found = False;\n",
    "        # ne pas lire la première ligne\n",
    "        if row[1] != \"class\":\n",
    "            # permet d'ajouter les différentes classes à la liste \n",
    "            for i in range(len(class_names)):\n",
    "                if row[1] == class_names[i][0]:\n",
    "                    # commence le compte pour cette classe\n",
    "                    if len(class_names[i]) == 0:\n",
    "                        class_names[i].append(1)\n",
    "                    # incrémente le compte pour atteindre 50\n",
    "                    else :\n",
    "                        class_names[i][1] += 1\n",
    "                    found = True\n",
    "            # si la classe n'existe pas encore on la rajoute. Permet de travailler avec n classes\n",
    "            if found == False:\n",
    "                    class_names.append([row[1]])\n",
    "                    class_names[len(class_names)-1].append(1)\n",
    "            for i in range(len(class_names)):\n",
    "                # on verifie si la classe n'a pas encore atteind le nombre 50 pour ajouter le nouvel id\n",
    "                if row[1] == class_names[i][0] and class_names[i][1] <= 50:\n",
    "                    Y.append(row)\n",
    "print(\"forme de Y\" + str(np.shape(Y)))\n",
    "url=''\n",
    "n= []\n",
    "for j in range(len(Y)):\n",
    "    # creation de l'url correspond à l'id de l'image\n",
    "    url = \"C:/Users/gaspa/OneDrive/Bureau/COURS/ING 5/Semestre 1/Machine Learning/images_training/\" + Y[j][0] + '.jpg'\n",
    "    #print(url)\n",
    "    i = plt.imread(url)\n",
    "    n.append(i)\n",
    "# creation de la matriced'image\n",
    "X = np.array(n)\n",
    "#print(X)\n",
    "print(\"forme de X\" + str(X.shape))"
   ]
  },
  {
   "cell_type": "markdown",
   "metadata": {},
   "source": [
    "# Séparer les parties train et test "
   ]
  },
  {
   "cell_type": "code",
   "execution_count": 3,
   "metadata": {},
   "outputs": [],
   "source": [
    "#Separate the input into training and test set\n",
    "i = 0\n",
    "k = 0\n",
    "j = 0\n",
    "y_tr = []\n",
    "y_te = []\n",
    "x_tr = []\n",
    "x_te = []\n",
    "\n",
    "# tant que 35 spirales et 35 smooths n'ont pas été ajoutées, on ajoute l'image dans le train\n",
    "while i<=35 and k<=35 and j<100:\n",
    "    if Y[j][1] == \"smooth\" and i <= 34:\n",
    "        y_tr.append(Y[j])\n",
    "        x_tr.append(X[j])\n",
    "        i += 1\n",
    "    if Y[j][1] == \"spiral\" and k < 35:\n",
    "        y_tr.append(Y[j])\n",
    "        x_tr.append(X[j])\n",
    "        k += 1\n",
    "    j += 1\n",
    "# ajout des 30% dans la partie test\n",
    "for m in range(0,30):\n",
    "    y_te.append(Y[m])\n",
    "    x_te.append(X[m])\n",
    "Y_train = np.array(y_tr)\n",
    "Y_test = np.array(y_te)\n",
    "X_train = np.array(x_tr)\n",
    "X_test = np.array(x_te)"
   ]
  },
  {
   "cell_type": "markdown",
   "metadata": {},
   "source": [
    "# Crop les images de train et test"
   ]
  },
  {
   "cell_type": "code",
   "execution_count": 4,
   "metadata": {},
   "outputs": [
    {
     "name": "stdout",
     "output_type": "stream",
     "text": [
      "(30, 130, 130, 3)\n"
     ]
    }
   ],
   "source": [
    "# crop image\n",
    "f = []\n",
    "c = []\n",
    "for i in range(len(X_train)):\n",
    "    # on crée une image en gardant uniquement les pixels entre 188 et 238 pi\n",
    "    img_cropped = X_train[i][148:278, 148:278, :]\n",
    "    f.append(img_cropped)\n",
    "for i in range(len(X_test)):\n",
    "    # on crée une image en gardant uniquement les pixels entre 188 et 238 pi\n",
    "    img_cropped = X_test[i][148:278, 148:278, :]\n",
    "    c.append(img_cropped)\n",
    "X_test_crop = np.array(c)\n",
    "X_train_crop = np.array(f)\n",
    "# confirm cropped image shape\n",
    "print(X_test_crop.shape)"
   ]
  },
  {
   "cell_type": "markdown",
   "metadata": {},
   "source": [
    "# Convertir en greyscale train et test"
   ]
  },
  {
   "cell_type": "code",
   "execution_count": 5,
   "metadata": {},
   "outputs": [],
   "source": [
    "#Fonction pour convertir une image RGB en image Gray Scale\n",
    "def rgb2gray(rgb):\n",
    "    return np.dot(rgb[...,:3], [0.2989, 0.5870, 0.1140]) #On applique sur l'image en entrée un filtre\n",
    "\n",
    "#Fonction de binairisation \n",
    "def ToBinary(x):\n",
    "    #Conversion de l'image RGB en image grayscale \n",
    "    im = rgb2gray(x)\n",
    "    \n",
    "    #Binairisation autour de la valeur 127\n",
    "    im_b = (im >170)*255\n",
    "    #plt.figure()\n",
    "    #plt.imshow(x)\n",
    "    #plt.figure()\n",
    "    #plt.imshow(im)\n",
    "    #plt.figure()\n",
    "    #plt.imshow(im_b)\n",
    "    return im_b\n",
    "\n",
    "X_train_binary=np.arange(1183000).reshape(70,130,130) #Création d'un tableau pour stocker les images\n",
    "for i in range(0,70,1): #Binairisation de toutes les images d'entrainement  \n",
    "    X_train_binary[i]=ToBinary(X_train_crop[i])\n",
    "    \n",
    "X_test_binary=np.arange(507000).reshape(30,130,130) #Création d'un tableau pour stocker les images\n",
    "for i in range(0,30,1): #Binairisation de toutes les images d'entrainement  \n",
    "    X_test_binary[i]=ToBinary(X_test_crop[i])"
   ]
  },
  {
   "cell_type": "markdown",
   "metadata": {},
   "source": [
    "# Compter le nombre de points blancs et noirs"
   ]
  },
  {
   "cell_type": "code",
   "execution_count": 6,
   "metadata": {},
   "outputs": [],
   "source": [
    "plot = []\n",
    "for i in range(len(X_train_binary)):\n",
    "    img = X_train_binary[i]\n",
    "    numberOfOne = np.count_nonzero(img)\n",
    "    numberOfZero = (img.shape[0]*img.shape[1])-numberOfOne\n",
    "    plot.append([])\n",
    "    plot[i].append(numberOfOne)\n",
    "    plot[i].append(numberOfZero)\n",
    "X_train_plot = np.array(plot)\n",
    "\n",
    "\n",
    "plot = []\n",
    "for i in range(len(X_test_binary)):\n",
    "    img = X_test_binary[i]\n",
    "    numberOfOne = np.count_nonzero(img)\n",
    "    numberOfZero = (img.shape[0]*img.shape[1])-numberOfOne\n",
    "    plot.append([])\n",
    "    plot[i].append(numberOfOne)\n",
    "    plot[i].append(numberOfZero)\n",
    "X_test_plot = np.array(plot)"
   ]
  },
  {
   "cell_type": "markdown",
   "metadata": {},
   "source": [
    "# Récupérer la valeur rouge la plus élevée"
   ]
  },
  {
   "cell_type": "code",
   "execution_count": 7,
   "metadata": {},
   "outputs": [],
   "source": [
    "# crop image more on train sample\n",
    "f = []\n",
    "for i in range(len(X_train)):\n",
    "    # on crée une image en gardant uniquement les pixels entre 188 et 238 pi\n",
    "    img_c = X_train[i][168:258, 168:258, :]\n",
    "    img_cropped = img_c[35:55, 35:55, :]\n",
    "    #img_cropped = img_c[35:55, 35:55, :]\n",
    "    f.append(img_c)\n",
    "X_train_crop_little = np.array(f)\n",
    "\n",
    "\n",
    "ratios = []\n",
    "for i in range(len(Y_train)):\n",
    "    img = X_train_crop_little[i]\n",
    "    ratiob = 0\n",
    "    ratior = 0\n",
    "    b = 0\n",
    "    r = 0\n",
    "    g = 0\n",
    "    b2 = 0\n",
    "    g2 = 0\n",
    "    r2 = 0\n",
    "    bp,gp,rp = cv2.split(img)\n",
    "    (minVal, maxVal, minLoc, maxLoc) = cv2.minMaxLoc(bp, mask = None)\n",
    "    for row in range (len(bp)):\n",
    "        for col in range(len(bp[row])):\n",
    "            b += bp[row][col]\n",
    "            r += rp[row][col]\n",
    "            g += gp[row][col]\n",
    "    ratiob = b/(b+r)\n",
    "    ratior = r/(b+r)\n",
    "    ratios.append(maxVal)\n",
    "X_train_ratio = np.array(ratios)\n",
    "\n",
    "ratios = []\n",
    "for i in range(len(Y_test)):\n",
    "    img = X_test_crop[i]\n",
    "    bp,gp,rp = cv2.split(img)\n",
    "    (minVal, maxVal, minLoc, maxLoc) = cv2.minMaxLoc(bp, mask = None)\n",
    "    ratios.append(maxVal)\n",
    "X_test_ratio = np.array(ratios)"
   ]
  },
  {
   "cell_type": "markdown",
   "metadata": {},
   "source": [
    "# Faire la matrice des features"
   ]
  },
  {
   "cell_type": "code",
   "execution_count": 8,
   "metadata": {},
   "outputs": [],
   "source": [
    "n = []\n",
    "x = X_train_plot[:,0]\n",
    "y = X_train_ratio\n",
    "for i in range(len(X_train_plot)):\n",
    "    n.append([x[i],y[i]])\n",
    "X_train_with_primitive = np.array(n)\n",
    "\n",
    "test = []\n",
    "x = X_test_plot[:,0]\n",
    "y = X_test_ratio\n",
    "for i in range(len(X_test_plot)):\n",
    "    test.append([x[i],y[i]])\n",
    "X_test_with_primitive = np.array(test)"
   ]
  },
  {
   "cell_type": "markdown",
   "metadata": {},
   "source": [
    "# Plot les primitives pour montrer le pouvoir disc"
   ]
  },
  {
   "cell_type": "code",
   "execution_count": 12,
   "metadata": {},
   "outputs": [
    {
     "data": {
      "image/png": "[encoded data removed]",
      "text/plain": [
       "<Figure size 432x288 with 1 Axes>"
      ]
     },
     "metadata": {
      "needs_background": "light"
     },
     "output_type": "display_data"
    }
   ],
   "source": [
    "# plot the pouvoir discriminant des primitives \n",
    "for i in range(len(X_train_plot)):\n",
    "    if Y_train[i][1] == \"spiral\" :\n",
    "        plt.scatter(X_train_with_primitive[i][0], X_train_with_primitive[i][1], color=\"red\",label='Spiral') \n",
    "    else:\n",
    "        plt.scatter(X_train_with_primitive[i][0], X_train_with_primitive[i][1], color=\"blue\", label='Smooth') \n",
    "\n",
    "plt.legend(['Smooth', 'Spiral'])\n",
    "plt.grid(True)\n",
    "plt.xlabel('Nb pooints blancs')\n",
    "plt.ylabel('Max rouge')\n",
    "plt.title('Nombre point blanc et valeur max rouge')\n",
    "plt.grid(True)\n",
    "plt.show()"
   ]
  },
  {
   "cell_type": "code",
   "execution_count": null,
   "metadata": {},
   "outputs": [],
   "source": []
  },
  {
   "cell_type": "code",
   "execution_count": 13,
   "metadata": {},
   "outputs": [],
   "source": [
    "# numerize the Y values \n",
    "y_train = []\n",
    "y_test = []\n",
    "for i in range(len(Y_train)):\n",
    "    if Y_train[i][1] == \"smooth\":\n",
    "        y_train.append(0)\n",
    "    else:\n",
    "        y_train.append(1)\n",
    "for i in range(len(Y_test)):\n",
    "    if Y_test[i][1] == \"smooth\":\n",
    "        y_test.append(0)\n",
    "    else:\n",
    "        y_test.append(1)"
   ]
  },
  {
   "cell_type": "code",
   "execution_count": null,
   "metadata": {},
   "outputs": [],
   "source": []
  },
  {
   "cell_type": "code",
   "execution_count": 14,
   "metadata": {},
   "outputs": [
    {
     "name": "stdout",
     "output_type": "stream",
     "text": [
      "train accuracy = 0.8285714285714286\n",
      "test accuracy = 0.8333333333333334\n"
     ]
    }
   ],
   "source": [
    "# train the model of the decision tree\n",
    "clf_dt = DecisionTreeClassifier(random_state=1,max_depth=2)\n",
    "clf_dt.fit(X_train_with_primitive, y_train)\n",
    "print ('train accuracy =', clf_dt.score(X_train_with_primitive, y_train)) # choper  la deuxieme colonne Y_train[:,1]\n",
    "print ('test accuracy =', clf_dt.score(X_test_with_primitive, y_test))"
   ]
  },
  {
   "cell_type": "code",
   "execution_count": null,
   "metadata": {},
   "outputs": [],
   "source": []
  },
  {
   "cell_type": "code",
   "execution_count": 15,
   "metadata": {},
   "outputs": [],
   "source": [
    "from sklearn import tree\n",
    "tree.export_graphviz(clf_dt, out_file='tree.dot')"
   ]
  },
  {
   "cell_type": "code",
   "execution_count": null,
   "metadata": {},
   "outputs": [],
   "source": []
  }
 ],
 "metadata": {
  "kernelspec": {
   "display_name": "Python 3",
   "language": "python",
   "name": "python3"
  },
  "language_info": {
   "codemirror_mode": {
    "name": "ipython",
    "version": 3
   },
   "file_extension": ".py",
   "mimetype": "text/x-python",
   "name": "python",
   "nbconvert_exporter": "python",
   "pygments_lexer": "ipython3",
   "version": "3.7.1"
  }
 },
 "nbformat": 4,
 "nbformat_minor": 2
}
