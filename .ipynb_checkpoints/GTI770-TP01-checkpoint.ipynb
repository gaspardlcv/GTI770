{
 "cells": [
  {
   "cell_type": "markdown",
   "metadata": {},
   "source": [
    "# Laboratoire 1 : Extraction de primitives\n",
    "#### Département du génie logiciel et des technologies de l’information\n",
    "\n",
    "| Étudiants             | LACAVE LACG14129705, ST-GERMAIN STGA15029404, BOPPE BOPA08069701                                   |\n",
    "|-----------------------|---------------------------------------------------------|\n",
    "| Cours                 | GTI770 - Systèmes intelligents et apprentissage machine |\n",
    "| Session               | AUTOMNE 2019                                            |\n",
    "| Groupe                | 6                                                       |\n",
    "| Numéro du laboratoire | 1                                                       |\n",
    "| Professeur            | Prof. NOM                                               |\n",
    "| Chargé de laboratoire | NOM                                                     |\n",
    "| Date                  | 30/09/2019                                                    |"
   ]
  },
  {
   "cell_type": "code",
   "execution_count": 1,
   "metadata": {},
   "outputs": [],
   "source": [
    "import numpy as np\n",
    "import random\n",
    "import math\n",
    "import csv\n",
    "import matplotlib\n",
    "import matplotlib.pyplot as plt\n",
    "from mpl_toolkits.mplot3d import Axes3D\n",
    "import cv2\n",
    "from sklearn.tree import DecisionTreeClassifier\n",
    "from scipy.signal import argrelextrema"
   ]
  },
  {
   "cell_type": "markdown",
   "metadata": {},
   "source": [
    "### Question 1 - Introduction et revue de la littérature\n",
    "Le but de ce laboratoire est de s'initier à l'extraction de primitives à partir d'images et de comprendre la qualité des primitives choisies dans le but de classer les images en différentes catégories. \n",
    "\n",
    "Le sujet du laboratoire s'inspire d'une compétition pour la classification d'images de galaxies : \"Galaxy zoo\". Cette compétition est mondiale et fait l'objet de nombreux écrits. Dans leurs écrits, les chercheurs font états des caractéristiques discriminantes, de leurs méthodes de classification et de leurs résultats. Le plus souvents, les caractéristiques discriminantes s'appuient sur des différences astrophysiques comme la composition des galaxies. Ces différences ne sont pas toujours évidentes à l'oeil nu, mais nous verrons qu'elles peuvent être entrevue à travers le traitement d'image. \n",
    "\n",
    "La majeure partie des papiers de recherches que nous avons utilisés pour réaliser ce laboratoire utilisent des méthodes de classification et des algorithmes de détection de primitives à l'état de l'art de la recherche dans ces domaines Certaines primitives s'intéressent aux différences visibles à l'oeil nu sur les photographies, comme la forme des galaxies, en se concentrant sur la spiralité ou la détection du bulbe du centre de la galaxie. D'autres méthodes proposes de regarder le niveaux des couleurs, traduisant une certaine composition des galaxies. \n",
    "\n",
    "La plupart des modèles de classification combinent plusieurs primitives, sur des différences visibles ou invisbles.\n",
    "Pour le système de classification, beaucoup utilisent des réseaux de neurones qui sont très efficaces pour classer des images, ce qui donne souvent des taux de fiabilité au dessus de 90%. "
   ]
  },
  {
   "cell_type": "markdown",
   "metadata": {},
   "source": [
    "## Récuperer X et Y"
   ]
  },
  {
   "cell_type": "code",
   "execution_count": 2,
   "metadata": {},
   "outputs": [
    {
     "name": "stdout",
     "output_type": "stream",
     "text": [
      "forme de Y(100, 2)\n",
      "forme de X(100, 424, 424, 3)\n"
     ]
    }
   ],
   "source": [
    "Y = []\n",
    "class_names = []\n",
    "found = False;\n",
    "# lire dans le fichier csv\n",
    "with open(r'GTI770_label_data_set.csv') as csv_file:\n",
    "    csv_reader = csv.reader(csv_file, delimiter=',')\n",
    "    line_count = 0\n",
    "    for row in csv_reader:\n",
    "        found = False;\n",
    "        # ne pas lire la première ligne\n",
    "        if row[1] != \"class\":\n",
    "            # permet d'ajouter les différentes classes à la liste \n",
    "            for i in range(len(class_names)):\n",
    "                if row[1] == class_names[i][0]:\n",
    "                    # commence le compte pour cette classe\n",
    "                    if len(class_names[i]) == 0:\n",
    "                        class_names[i].append(1)\n",
    "                    # incrémente le compte pour atteindre 50\n",
    "                    else :\n",
    "                        class_names[i][1] += 1\n",
    "                    found = True\n",
    "            # si la classe n'existe pas encore on la rajoute. Permet de travailler avec n classes\n",
    "            if found == False:\n",
    "                    class_names.append([row[1]])\n",
    "                    class_names[len(class_names)-1].append(1)\n",
    "            for i in range(len(class_names)):\n",
    "                # on verifie si la classe n'a pas encore atteind le nombre 50 pour ajouter le nouvel id\n",
    "                if row[1] == class_names[i][0] and class_names[i][1] <= 50:\n",
    "                    Y.append(row)\n",
    "print(\"forme de Y\" + str(np.shape(Y)))\n",
    "url=''\n",
    "n= []\n",
    "for j in range(len(Y)):\n",
    "    # creation de l'url correspond à l'id de l'image\n",
    "    url = \"images_training/images_training/\" + Y[j][0] + '.jpg'\n",
    "    #print(url)\n",
    "    i = plt.imread(url)\n",
    "    n.append(i)\n",
    "# creation de la matriced'image\n",
    "X = np.array(n)\n",
    "#print(X)\n",
    "print(\"forme de X\" + str(X.shape))"
   ]
  },
  {
   "cell_type": "markdown",
   "metadata": {},
   "source": [
    "## Séparer les parties train et test "
   ]
  },
  {
   "cell_type": "code",
   "execution_count": 3,
   "metadata": {},
   "outputs": [],
   "source": [
    "#Separate the input into training and test set\n",
    "i = 0\n",
    "k = 0\n",
    "j = 0\n",
    "y_tr = []\n",
    "y_te = []\n",
    "x_tr = []\n",
    "x_te = []\n",
    "\n",
    "# tant que 35 spirales et 35 smooths n'ont pas été ajoutées, on ajoute l'image dans le train\n",
    "while i<=35 and k<=35 and j<100:\n",
    "    if Y[j][1] == \"smooth\" and i <= 34:\n",
    "        y_tr.append(Y[j])\n",
    "        x_tr.append(X[j])\n",
    "        i += 1\n",
    "    if Y[j][1] == \"spiral\" and k < 35:\n",
    "        y_tr.append(Y[j])\n",
    "        x_tr.append(X[j])\n",
    "        k += 1\n",
    "    j += 1\n",
    "# ajout des 30% dans la partie test\n",
    "for m in range(0,30):\n",
    "    y_te.append(Y[m])\n",
    "    x_te.append(X[m])\n",
    "Y_train = np.array(y_tr)\n",
    "Y_test = np.array(y_te)\n",
    "X_train = np.array(x_tr)\n",
    "X_test = np.array(x_te)"
   ]
  },
  {
   "cell_type": "markdown",
   "metadata": {},
   "source": [
    "## Crop les images de train et test"
   ]
  },
  {
   "cell_type": "code",
   "execution_count": 4,
   "metadata": {},
   "outputs": [
    {
     "name": "stdout",
     "output_type": "stream",
     "text": [
      "(30, 130, 130, 3)\n"
     ]
    }
   ],
   "source": [
    "# crop image\n",
    "f = []\n",
    "c = []\n",
    "for i in range(len(X_train)):\n",
    "    # on crée une image en gardant uniquement les pixels entre 188 et 238 pi\n",
    "    img_cropped = X_train[i][148:278, 148:278, :]\n",
    "    f.append(img_cropped)\n",
    "for i in range(len(X_test)):\n",
    "    # on crée une image en gardant uniquement les pixels entre 188 et 238 pi\n",
    "    img_cropped = X_test[i][148:278, 148:278, :]\n",
    "    c.append(img_cropped)\n",
    "X_test_crop = np.array(c)\n",
    "X_train_crop = np.array(f)\n",
    "# confirm cropped image shape\n",
    "print(X_test_crop.shape)"
   ]
  },
  {
   "cell_type": "markdown",
   "metadata": {},
   "source": [
    "## Convertir en greyscale train et test"
   ]
  },
  {
   "cell_type": "code",
   "execution_count": 5,
   "metadata": {},
   "outputs": [],
   "source": [
    "#Fonction pour convertir une image RGB en image Gray Scale\n",
    "def rgb2gray(rgb):\n",
    "    return np.dot(rgb[...,:3], [0.2989, 0.5870, 0.1140]) #On applique sur l'image en entrée un filtre\n",
    "\n",
    "#Fonction de binairisation \n",
    "def ToBinary(x):\n",
    "    \"\"\"\n",
    "    Args:\n",
    "        param1 (list): the colored image\n",
    "    Returns:\n",
    "        list: the image binarized\n",
    "    \"\"\"\n",
    "    #Conversion de l'image RGB en image grayscale \n",
    "    im = rgb2gray(x)\n",
    "    \n",
    "    #Binairisation autour de la valeur 127\n",
    "    im_b = (im >170)*255\n",
    "    #plt.figure()\n",
    "    #plt.imshow(x)\n",
    "    #plt.figure()\n",
    "    #plt.imshow(im)\n",
    "    #plt.figure()\n",
    "    #plt.imshow(im_b)\n",
    "    return im_b\n",
    "\n",
    "X_train_binary=np.arange(1183000).reshape(70,130,130) #Création d'un tableau pour stocker les images\n",
    "for i in range(0,70,1): #Binairisation de toutes les images d'entrainement  \n",
    "    X_train_binary[i]=ToBinary(X_train_crop[i])\n",
    "    \n",
    "X_test_binary=np.arange(507000).reshape(30,130,130) #Création d'un tableau pour stocker les images\n",
    "for i in range(0,30,1): #Binairisation de toutes les images d'entrainement  \n",
    "    X_test_binary[i]=ToBinary(X_test_crop[i])"
   ]
  },
  {
   "cell_type": "markdown",
   "metadata": {},
   "source": [
    "### Question 2 - Le choix des primitives \n",
    "\n",
    "Une fois que nous avons séparés les données et pré-traitées, nous pouvons en extraires les caractéristiques.  "
   ]
  },
  {
   "cell_type": "markdown",
   "metadata": {},
   "source": [
    "###### 1- Le nombre de points blancs et noirs \n",
    "\n",
    "Au cours du tp0 nous avons binairisé les images et remarqué que les galaxies smooths avaient tendance à être plus lumineuses (plus de points blancs). C'est la surface très lumineuse au centre des galaxies qui révèle une plus grosse intensité. On peut donc en récupérant la luminosité globale du centre de chaque galaxie les différencier. Nous avons choisi ce critères dans un premier temps car comme vu plus bas il possède un pouvoir discrimant élevé et ne nécessite que peu de travail de retouche sur l'image avant pour être récupéré."
   ]
  },
  {
   "cell_type": "code",
   "execution_count": 6,
   "metadata": {},
   "outputs": [],
   "source": [
    "plot = []\n",
    "for i in range(len(X_train_binary)):\n",
    "    img = X_train_binary[i]\n",
    "    #recupère les zéros et une de l'image\n",
    "    numberOfOne = np.count_nonzero(img)\n",
    "    numberOfZero = (img.shape[0]*img.shape[1])-numberOfOne\n",
    "    # stocke dans une list les points blancs et noirs de chaque image\n",
    "    plot.append([])\n",
    "    plot[i].append(numberOfOne)\n",
    "    plot[i].append(numberOfZero)\n",
    "# transformation en numpy array\n",
    "X_train_plot = np.array(plot)\n",
    "\n",
    "### même chose pour la partie test ###\n",
    "plot = []\n",
    "for i in range(len(X_test_binary)):\n",
    "    img = X_test_binary[i]\n",
    "    numberOfOne = np.count_nonzero(img)\n",
    "    numberOfZero = (img.shape[0]*img.shape[1])-numberOfOne\n",
    "    plot.append([])\n",
    "    plot[i].append(numberOfOne)\n",
    "    plot[i].append(numberOfZero)\n",
    "X_test_plot = np.array(plot)"
   ]
  },
  {
   "cell_type": "markdown",
   "metadata": {},
   "source": [
    "#### 2- La valeur de bleu la plus élevée\n",
    "\n",
    "Dans le papier de recherche \"Morphological classification of galaxies into spirals and non-spirals\" de Devendra Singh Dhami, il est expliqué que les spirals sont des galaxie relativement jeune qui ont des bras bleu et un centre rouge. Durant leur formation, aucune des deux valeurs (rouge,bleu) n'est haute à un endroit de l'image. En revanche, pour les ellipse la couleur bleu peut être relativement haute à certains endroits de l'image. Le but est donc de différencier jeune et ancienne galaxie par cette emission de gaz provoquant des pics de bleu. "
   ]
  },
  {
   "cell_type": "code",
   "execution_count": 7,
   "metadata": {},
   "outputs": [],
   "source": [
    "# crop image more on train sample\n",
    "f = []\n",
    "for i in range(len(X_train)):\n",
    "    # on crée une image en gardant uniquement les pixels entre 188 et 238 pi\n",
    "    img_c = X_train[i][168:258, 168:258, :]\n",
    "    img_cropped = img_c[35:55, 35:55, :]\n",
    "    #img_cropped = img_c[35:55, 35:55, :]\n",
    "    f.append(img_c)\n",
    "X_train_crop_little = np.array(f)\n",
    "\n",
    "\n",
    "ratios = []\n",
    "for i in range(len(Y_train)):\n",
    "    img = X_train_crop_little[i]\n",
    "    # stocke le bleu vert et rouge de chaque image\n",
    "    ratiob = 0\n",
    "    ratior = 0\n",
    "    b = 0\n",
    "    r = 0\n",
    "    g = 0\n",
    "    bp,gp,rp = cv2.split(img)\n",
    "    # stocke la plus haute valeur de bleu et sa location dans l'image\n",
    "    (minVal, maxVal, minLoc, maxLoc) = cv2.minMaxLoc(bp, mask = None)\n",
    "    for row in range (len(bp)):\n",
    "        for col in range(len(bp[row])):\n",
    "            b += bp[row][col] # additionne pour chaque couleur les valeures indépendantes RVB\n",
    "            r += rp[row][col]\n",
    "            g += gp[row][col]\n",
    "    ratiob = b/(b+r) # fais le ratio de bleu / bleu + rouge\n",
    "    ratior = r/(b+r) # fais le ratio de rouge / bleu + rouge\n",
    "    ratios.append(maxVal) #garde la valeur de bleu max de l'image\n",
    "X_train_ratio = np.array(ratios)\n",
    "\n",
    "### même chose pour la partie test ###\n",
    "ratios = []\n",
    "for i in range(len(Y_test)):\n",
    "    img = X_test_crop[i]\n",
    "    bp,gp,rp = cv2.split(img)\n",
    "    #garde la valeur de bleu max de l'image\n",
    "    (minVal, maxVal, minLoc, maxLoc) = cv2.minMaxLoc(bp, mask = None)\n",
    "    ratios.append(maxVal)\n",
    "X_test_ratio = np.array(ratios)"
   ]
  },
  {
   "cell_type": "markdown",
   "metadata": {},
   "source": [
    "#### 3- Le nombre d'étoiles dans la galaxie :\n",
    "Les galaxies sont un amas d'étoiles réparties selon une certaine morphologie.\n",
    "Les galaxies spirales font apparaitrent des amas d'étoiles concentrés dans des bras, ce qui les rend particulièrement visible contrairement aux galaxies \"smooth\" qui présentent une sorte de halo dans lequel on ne distingue pas d'étoile particulière. \n",
    "Ainsi, on peut supposer que les photographies de galaxies spirales présenteront plus d'étoiles que les photographies de galaxies \"smooth\". \n",
    "Pour détecter ces étoiles, nous avons décidé d'utilsier la technique SIFT (Scale-Invariant Feature Transform) pour repérer les points d'intérêts de la photographie (keypoints). Nous faisons ensuite le décompte des points d'intérêts pour chaque image. Selon notre théorie, les galaxies spirales présenteront plus de points d'intérêts que les \"smooth\". "
   ]
  },
  {
   "cell_type": "code",
   "execution_count": 8,
   "metadata": {},
   "outputs": [],
   "source": [
    "def Contrast(image, alpha, beta,th):\n",
    "    \"\"\"\n",
    "    Args:\n",
    "        param1 (list): the image to process\n",
    "        param2 (int):  linear parameter of the function to modify pixels\n",
    "        param3 (int): static parameter of the function to modify pixels\n",
    "        param4 (int): threshold value of pixels to be processed\n",
    "    Returns:\n",
    "        (list): the image processed \n",
    "    \"\"\"\n",
    "    for y in range(image.shape[0]):\n",
    "        max_index = np.array(argrelextrema(image[y],np.greater))\n",
    "        min_index = np.array(argrelextrema(image[y],np.less))\n",
    "        for x in range(image.shape[1]):\n",
    "            if image[y][x]>th:\n",
    "                image[y][x]=np.clip(alpha*image[y,x] + beta, 0, 255)\n",
    "                if image[y][x]>=255:\n",
    "                    image[y][x]=255\n",
    "            elif image[y][x]<=th:#120\n",
    "                    image[y][x]=np.clip(image[y,x]/alpha + beta, 0, 255)\n",
    "        \n",
    "    return image\n",
    "\n",
    "def feature3(x,alpha,beta,th):\n",
    "    \"\"\"\n",
    "    Args:\n",
    "        param1 (list): the image to extract the feature from\n",
    "        param2 (int): linear parameter of the function to modify pixels\n",
    "        param3 (int): static parameter of the function to modify pixels\n",
    "        param4 (int): threshold value of pixels to be processed\n",
    "    Returns:\n",
    "        (int): number of keypoints founded in the image\n",
    "    \"\"\"\n",
    "    img = cv2.blur(x,(3,3))\n",
    "    #gray = cv2.cvtColor(img,cv2.COLOR_BGR2GRAY)\n",
    "    blue = Contrast(img[:,:,2],alpha,beta,th)\n",
    "    sift = cv2.xfeatures2d.SIFT_create()\n",
    "    kp = sift.detect(blue,None)\n",
    "   \n",
    "    imgkp = cv2.drawKeypoints(blue,kp,img,color=(0,255,0))\n",
    "\n",
    "   \n",
    "    return len(kp)\n",
    "\n",
    "z=[]\n",
    "for i in range(len(Y_train)):\n",
    "    z.append(feature3(X_train_crop[i],3,0,80))\n",
    "        \n",
    "X_train_sift = np.array(z)\n",
    "\n",
    "z=[]\n",
    "for i in range(len(Y_test)):\n",
    "    z.append(feature3(X_test_crop[i],3,0,80))\n",
    "    \n",
    "X_test_sift = np.array(z)"
   ]
  },
  {
   "cell_type": "markdown",
   "metadata": {},
   "source": [
    "### Assemblage des primitives"
   ]
  },
  {
   "cell_type": "code",
   "execution_count": 9,
   "metadata": {},
   "outputs": [],
   "source": [
    "n = []\n",
    "x = X_train_plot[:,0]\n",
    "y = X_train_ratio\n",
    "z = X_train_sift\n",
    "for i in range(len(X_train_plot)):\n",
    "    n.append([x[i],y[i],z[i]])\n",
    "X_train_with_primitive = np.array(n)\n",
    "\n",
    "test = []\n",
    "x = X_test_plot[:,0]\n",
    "y = X_test_ratio\n",
    "z = X_test_sift\n",
    "for i in range(len(X_test_plot)):\n",
    "    test.append([x[i],y[i],z[i]])\n",
    "X_test_with_primitive = np.array(test)"
   ]
  },
  {
   "cell_type": "markdown",
   "metadata": {},
   "source": [
    "### Question 3 - L'efficacité des primitives "
   ]
  },
  {
   "cell_type": "markdown",
   "metadata": {},
   "source": [
    "#### Pouvoir discriminant des caractéristiques 1 : Nombre de points blancs et noirs et 2 : La valeur de rouge la plus élevée"
   ]
  },
  {
   "cell_type": "code",
   "execution_count": 29,
   "metadata": {},
   "outputs": [
    {
     "data": {
      "image/png": "[encoded data removed]",
      "text/plain": [
       "<Figure size 432x288 with 1 Axes>"
      ]
     },
     "metadata": {
      "needs_background": "light"
     },
     "output_type": "display_data"
    }
   ],
   "source": [
    "# pouvoir discriminant des primitives \n",
    "for i in range(len(X_train_plot)):\n",
    "    if Y_train[i][1] == \"spiral\" :\n",
    "        plt.scatter(X_train_with_primitive[i][0], X_train_with_primitive[i][1], color=\"red\",label='Spiral') \n",
    "    else:\n",
    "        plt.scatter(X_train_with_primitive[i][0], X_train_with_primitive[i][1], color=\"blue\", label='Smooth') \n",
    "    \n",
    "\n",
    "plt.legend(['Smooth', 'Spiral'])\n",
    "plt.plot([0,1000],[220,220],color=\"green\")\n",
    "plt.grid(True)\n",
    "plt.xlabel('Nb points blancs')\n",
    "plt.ylabel('Max bleu')\n",
    "plt.title('Nombre point blanc et valeur max bleu')\n",
    "plt.grid(True)\n",
    "plt.show()"
   ]
  },
  {
   "cell_type": "markdown",
   "metadata": {},
   "source": [
    "Ces deux primitives ont un pouvoir discriminant relativement fort comme le montre le graphe. En effet, les galaxies smooth ont tendance à être plus lumineuse ( plus haute valeur de points blancs ) et plus bleu que les spirales en raison de l'émission des gaz. Malgré un bruit présent plus de 55 galaxies (dans le train) sont classifiable à l'oeil nu. \n",
    "Sur le graphe, on peu aiséement tracé une ligne de démarquation pour classer les images, y=220. En dessous de cette ligne, l'image est classée comme spirale et au dessus comme smooth.  \n"
   ]
  },
  {
   "cell_type": "markdown",
   "metadata": {},
   "source": [
    "#### Pouvoir discriminant de la caractéristique 3 : nombre d'étoiles"
   ]
  },
  {
   "cell_type": "code",
   "execution_count": 30,
   "metadata": {},
   "outputs": [
    {
     "data": {
      "image/png": "[encoded data removed]",
      "text/plain": [
       "<Figure size 432x288 with 1 Axes>"
      ]
     },
     "metadata": {
      "needs_background": "light"
     },
     "output_type": "display_data"
    },
    {
     "data": {
      "text/plain": [
       "<Figure size 432x288 with 0 Axes>"
      ]
     },
     "metadata": {},
     "output_type": "display_data"
    }
   ],
   "source": [
    "y=[]\n",
    "x = range(0,70)\n",
    "for i in range(len(X_train_crop)):\n",
    "    \n",
    "    y.append(feature3(X_train_crop[i],3,0,80))\n",
    "    if Y_train[i][1]=='smooth':\n",
    "        plt.scatter(x[i], y[i], color=\"red\") \n",
    "    elif Y_train[i][1]=='spiral':\n",
    "        plt.scatter(x[i], y[i], color=\"blue\")\n",
    "        \n",
    "plt.legend(['Smooth', 'Spiral'])\n",
    "plt.plot([0,70],[15,15],color=\"green\")\n",
    "plt.xlabel('images')\n",
    "plt.ylabel('Key points')\n",
    "plt.title('Nombre de key points en fonction des classes d''image')\n",
    "plt.grid(True)\n",
    "plt.figure()\n",
    "plt.show()"
   ]
  },
  {
   "cell_type": "markdown",
   "metadata": {},
   "source": [
    "En affichant la répartition des galaxies en fonction du nombre de points d'intérêts (qui représentent le nombre d'étoiles visibles), on remarque le pouvoir discriminant de cette caractéristique. Ce qui nous permet de la sélectionner comme caractéristique finale. \n",
    "On voit que sur l'ensemble des données testées, la plupart des galaxies spirales ont plus de points d'intérêts que les galaxies \"smooth\". On peut tracer une limite de démarquation à 15, le nombre de points d'intérêts différenciant les deux catégories, en dessous de 15, la galaxie est considérée comme \"smooth\" et au dessus, elle est considérée comme spirale. Les erreurs qui subsistent au delà de cette démarquation s'explique par le fait que la caractéristique n'est pas absolue et ne permet pas une distinction parfaite entre les deux catégories. "
   ]
  },
  {
   "cell_type": "markdown",
   "metadata": {},
   "source": [
    "### Affichage des primitives en 3D "
   ]
  },
  {
   "cell_type": "code",
   "execution_count": 12,
   "metadata": {},
   "outputs": [
    {
     "data": {
      "image/png": "[encoded data removed]",
      "text/plain": [
       "<Figure size 432x288 with 1 Axes>"
      ]
     },
     "metadata": {
      "needs_background": "light"
     },
     "output_type": "display_data"
    }
   ],
   "source": [
    "# plot the pouvoir discriminant des primitives \n",
    "fig = plt.figure()\n",
    "ax = fig.add_subplot(111, projection='3d')\n",
    "\n",
    "for i in range(len(X_train_plot)):\n",
    "    if Y_train[i][1] == \"spiral\" :\n",
    "        ax.scatter(X_train_with_primitive[i][0], X_train_with_primitive[i][1], X_train_with_primitive[i][2], color=\"red\",label='Spiral') \n",
    "    else:\n",
    "        ax.scatter(X_train_with_primitive[i][0], X_train_with_primitive[i][1],X_train_with_primitive[i][2], color=\"blue\", label='Smooth') \n",
    "\n",
    "ax.legend(['Smooth', 'Spiral'])\n",
    "ax.grid(True)\n",
    "ax.set_xlabel('Nb pooints blancs')\n",
    "ax.set_ylabel('Max rouge')\n",
    "ax.set_zlabel('SIFT')\n",
    "plt.title('Nombre point blanc et valeur max rouge')\n",
    "ax.grid(True)\n",
    "plt.show()"
   ]
  },
  {
   "cell_type": "markdown",
   "metadata": {},
   "source": [
    "En affichant l'ensemble des primitves nous pouvons avoir une représentation de la validité de notre modèle. Plus la démarquation entre les deux catégories est visible, plus le modèle est juste. En observant notre modèle, il est clair que la démarquation est nettement visible. Cela démontre la pertinence de nos choix de primitives. "
   ]
  },
  {
   "cell_type": "markdown",
   "metadata": {},
   "source": [
    "### Question 4 - Arbre de décision "
   ]
  },
  {
   "cell_type": "code",
   "execution_count": 13,
   "metadata": {},
   "outputs": [
    {
     "name": "stdout",
     "output_type": "stream",
     "text": [
      "train accuracy = 0.8571428571428571\n",
      "test accuracy = 0.8333333333333334\n"
     ]
    }
   ],
   "source": [
    "# numerize the Y values \n",
    "y_train = []\n",
    "y_test = []\n",
    "for i in range(len(Y_train)):\n",
    "    if Y_train[i][1] == \"smooth\":\n",
    "        y_train.append(0)\n",
    "    else:\n",
    "        y_train.append(1)\n",
    "for i in range(len(Y_test)):\n",
    "    if Y_test[i][1] == \"smooth\":\n",
    "        y_test.append(0)\n",
    "    else:\n",
    "        y_test.append(1)\n",
    "        \n",
    "# train the model of the decision tree\n",
    "clf_dt = DecisionTreeClassifier(random_state=1,max_depth=2)\n",
    "clf_dt.fit(X_train_with_primitive, y_train)\n",
    "print ('train accuracy =', clf_dt.score(X_train_with_primitive, y_train)) # choper  la deuxieme colonne Y_train[:,1]\n",
    "print ('test accuracy =', clf_dt.score(X_test_with_primitive, y_test))\n",
    "\n",
    "from sklearn import tree\n",
    "tree.export_graphviz(clf_dt, out_file='tree.dot')"
   ]
  },
  {
   "cell_type": "markdown",
   "metadata": {},
   "source": [
    "Le taux de réussite de notre modèle est au dessus de 80%, c'est un résultat satisfaisant. \n",
    "La fidélité du modèle sur les données d'entrainement est comme attendu supérieur à celle des données de test, mais néanmoins très proches. \n",
    "En comparaison avec certains papiers de recherches, nous pouvons noter que notre taux de fidélité est inférieur. Cependant, il est important de noter que l'ennoncé du laboratoire nous restreint à l'utilisation de 3 primitives seulement et à un ensemble d'entrainement limité à 70 exemples. Si nous pouvions ajouter d'autres primitives et agrandir notre ensemble d'entrainement, il est sûr que notre modèle s'améliorerait. "
   ]
  },
  {
   "attachments": {
    "image.png": {
     "image/png": "[encoded data removed]"
    }
   },
   "cell_type": "markdown",
   "metadata": {},
   "source": [
    "### Question 5 - D'autres primitives ? \n",
    "\n",
    "Nous avons durant les tests essayé d'autres primitives comme le ratio de bleu sur bleu et rouge de l'image, primitive utilisée dans le papier \"Morphological classification of galaxies into spirals and non-spirals\" mais les résultats ont été peu concluants. \n",
    "![image.png](attachment:image.png) ![image.png](attachment:image.png)\n",
    "\n",
    "Comme le montrent ces images, les ratios sont relativement simillaires entre les deux classes. Cette primitive peut être intéressente en jouant sur les contraste pour éliminer tout le bruit et récupérer uniquement les couleurs de la galaxie. \n",
    "\n",
    "Nous avons également trouvé une autre primitive. Nous avons essayé de récuperer la moyenne spectrale de différentes longueurs de l'image. Cela correspond aux pics associés à l'intensité de l'image en fonction de la luminosité ( et donc la présence de la galaxie). Le raisonnement qui nous a conduit à tester cette primitive est que les galaxies spirales sont caractérisées par la présence de bras. Les bras concentrent les étoiles en leur sein et par conséquent, il n'y a pas ou peu d'étoiles ailleurs. L'idée était de prendre la valeur des pixels selon différents axes de la photographie (horizontal, vertical et diagonal) et d'identifier les maxima  et minima locaux. Un nombre important de maxima et minima serait synonyme de zones d'intensité lumineuse importante et de zones de vide ; ce qui serait une caractéristique propre aux galaxies spirales.\n",
    "\n",
    "Ainsi, le résultat attendu était pour les galaxies smooths un graph, avec idéalement une parabole de l'intensité lumineuse correspondant à la galaxie. Pour les spirales nous cherchons à récuper plusieurs pics d'intensité indépendents correspondant aux bras de la spirale et au centre. \n",
    "Nous avons testé cette primitive, malheureusement, son pouvoir discriminant n'était pas assez élevé pour permettre une nette distinction entre les classes d'images.  "
   ]
  },
  {
   "cell_type": "markdown",
   "metadata": {},
   "source": [
    "### Conclusion"
   ]
  },
  {
   "cell_type": "markdown",
   "metadata": {},
   "source": [
    "En conclusion, le problème a été résolu avec trois primitives qui nous donnaient de très bons résultats du pouvoir discriminant. La première primitive était le nombre de pixels blanc et noir, la deuxième primitive était la valeur de bleu le plus élevé, les deux combinés ensemble donnent un excellent pouvoir discriminant comme on peut constater avec le diagramme à la question 3. La troisième primitive était le nombre d'étoiles dans la galaxie et les résultats du pouvoir discriminant ont été satisfaisants. Une des améliorations possibles est d'utiliser plus de primitives."
   ]
  },
  {
   "cell_type": "markdown",
   "metadata": {},
   "source": [
    "### Bibliographie\n",
    "- MORFOMETRYKA—A NEW WAY OF ESTABLISHING MORPHOLOGICAL CLASSIFICATION OF GALAXIES\n",
    "- An Intelligent Approach for Galaxies Images Classification Mohamed Abd Elfattah1, Nashwa EI-Bendary2,Mohamed A. Abu Elsoud1,Aboul Ella Hassanien3, M.P. Tolba5\n",
    "- Automatic Detection of Galaxy Type From Datasets of Galaxies Image Based on Image Retrieval Approach Mohamed Abd El Aziz,I. M. Selim, & Shengwu Xiong\n",
    "- Galaxy Zoo Challenge: Classify Galaxy Morphologies from Images, Fang-Chieh Chou\n",
    "- Morphological classification of galaxies into spirals and non-spirals, Devendra Singh Dhami"
   ]
  },
  {
   "cell_type": "code",
   "execution_count": null,
   "metadata": {},
   "outputs": [],
   "source": []
  }
 ],
 "metadata": {
  "kernelspec": {
   "display_name": "Python 3",
   "language": "python",
   "name": "python3"
  },
  "language_info": {
   "codemirror_mode": {
    "name": "ipython",
    "version": 3
   },
   "file_extension": ".py",
   "mimetype": "text/x-python",
   "name": "python",
   "nbconvert_exporter": "python",
   "pygments_lexer": "ipython3",
   "version": "3.7.1"
  }
 },
 "nbformat": 4,
 "nbformat_minor": 2
}
