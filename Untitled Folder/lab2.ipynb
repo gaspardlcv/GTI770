{
 "cells": [
  {
   "cell_type": "markdown",
   "metadata": {},
   "source": [
    "# Laboratoire 2 - Extraction de primitives\n",
    "#### Département du génie logiciel et des technologies de l’information\n",
    "\n",
    "| Étudiants             | LACAVE LACG14129705, ST-GERMAIN STGA15029404, BOPPE BOPA08069701                                   |\n",
    "|-----------------------|---------------------------------------------------------|\n",
    "| Cours                 | GTI770 - Systèmes intelligents et apprentissage machine |\n",
    "| Session               | AUTOMNE 2019                                            |\n",
    "| Groupe                | 6                                                       |\n",
    "| Numéro du laboratoire | 1                                                       |\n",
    "| Professeur            | Prof. NOM                                               |\n",
    "| Chargé de laboratoire | NOM                                                     |\n",
    "| Date                  | 28/10/2019                                                    |"
   ]
  },
  {
   "cell_type": "code",
   "execution_count": 1,
   "metadata": {},
   "outputs": [],
   "source": [
    "import numpy as np\n",
    "import random\n",
    "import math\n",
    "import csv\n",
    "import matplotlib\n",
    "import matplotlib.pyplot as plt\n",
    "from mpl_toolkits.mplot3d import Axes3D\n",
    "import cv2\n",
    "import pandas as pd\n",
    "from sklearn.naive_bayes import BernoulliNB\n",
    "from sklearn.naive_bayes import GaussianNB\n",
    "from sklearn.naive_bayes import MultinomialNB\n",
    "from sklearn.neighbors import KNeighborsClassifier\n",
    "from sklearn.model_selection import train_test_split\n",
    "from sklearn.metrics import f1_score\n",
    "from sklearn.model_selection import cross_val_score\n",
    "from sklearn.preprocessing import KBinsDiscretizer\n",
    "from sklearn.preprocessing import MinMaxScaler\n",
    "start = \"\\033[1m\"\n",
    "end = \"\\033[0;0m\""
   ]
  },
  {
   "cell_type": "code",
   "execution_count": 2,
   "metadata": {},
   "outputs": [],
   "source": [
    "# your code here to drop Cabin\n",
    "#titanic.drop(\"Cabin\",axis=1,inplace=True)\n",
    "# function to get the data frame from csv\n",
    "def read_csv(url):\n",
    "    \"\"\"\n",
    "    Args:\n",
    "        url (string): the url of the file\n",
    "    Returns:\n",
    "        df: the dataframe filled\n",
    "    \"\"\"\n",
    "    df = pd.read_csv(url, header=None)\n",
    "    df.head()\n",
    "    return df"
   ]
  },
  {
   "cell_type": "code",
   "execution_count": 3,
   "metadata": {},
   "outputs": [],
   "source": [
    "def Naive_Bayes(X_train,Y_train,X_test,Y_test) :\n",
    "    \"\"\"\n",
    "    Args:\n",
    "        X_train (list): the train sample\n",
    "        X_test (list): the test sample\n",
    "        Y_train (list): the train output\n",
    "        Y_test (list): the test output\n",
    "    Returns:\n",
    "        clf: the naive bayes model\n",
    "    \"\"\"\n",
    "    clf  = BernoulliNB()\n",
    "    clf1 = GaussianNB()\n",
    "    clf2 = MultinomialNB()\n",
    "    clf.fit(X_train, Y_train)\n",
    "    print(\"Accuracy with training set \" + str(clf.score(X_test, Y_test)))\n",
    "    y_true = Y_test\n",
    "    y_pred = clf.predict(X_test)\n",
    "    print(\"F1 score with training set \" + str(f1_score(y_true, y_pred,average=\"weighted\")))\n",
    "    return clf"
   ]
  },
  {
   "cell_type": "code",
   "execution_count": 4,
   "metadata": {},
   "outputs": [],
   "source": [
    "from sklearn.metrics import accuracy_score\n",
    "from sklearn.tree import DecisionTreeClassifier\n",
    "def Decision_Tree(X_train, X_test, y_train, y_test):\n",
    "    \n",
    "    \"\"\"\n",
    "    Args:\n",
    "        X_train (list): the train sample\n",
    "        X_test (list): the test sample\n",
    "        y_train (list): the train output\n",
    "        y_test (list): the test output\n",
    "    Returns:\n",
    "        model: the best decision tree model\n",
    "    \"\"\"\n",
    "    \n",
    "    #Hyper parameters to be tested\n",
    "    parameters=[None,3,5,10,30,50]\n",
    "    \n",
    "    #Train the Decision Tree for each different hyper paramters \n",
    "    accuracy =[]\n",
    "    f1score = []\n",
    "    models = []\n",
    "    for dep in parameters: #For each hyper parameters to be tested\n",
    "        \n",
    "        clf_dt = DecisionTreeClassifier(random_state=1)#Create a decision tree \n",
    "        clf_dt.set_params(max_depth=dep) #Set the parameters to the decision tree\n",
    "        clf_dt.fit(X_train,y_train,None) #Train the decision tree with the specified parameter\n",
    "        y_pred = clf_dt.predict(X_test) #Predict data according to the hyperparameter with the test set        \n",
    "   \n",
    "        #Calculate the accuracy and F1 score of the model. \n",
    "        accuracy.append((dep,accuracy_score(y_test,y_pred)))\n",
    "        f1score.append((dep,f1_score(y_test, y_pred, average='weighted')))\n",
    "        models.append(clf_dt) #Store the model \n",
    "        \n",
    "    \n",
    "    print(\"Résultats de la variation de l'hyper-paramètre de profondeur : \\n\")\n",
    "    \n",
    "    plt.figure()\n",
    "    plt.subplot(2,1,1)\n",
    "    plt.title(\"Accuracy\")\n",
    "    plt.plot([accuracy[0][0],accuracy[1][0],accuracy[2][0],accuracy[3][0],accuracy[4][0],accuracy[5][0]],[accuracy[0][1],accuracy[1][1],accuracy[2][1],accuracy[3][1],accuracy[4][1],accuracy[5][1]])\n",
    "\n",
    "    plt.figure()\n",
    "    plt.subplot(2,1,2)\n",
    "    plt.title(\"F1-score\")\n",
    "    plt.plot([f1score[0][0],f1score[1][0],f1score[2][0],f1score[3][0],f1score[4][0],f1score[5][0]],[f1score[0][1],f1score[1][1],f1score[2][1],f1score[3][1],f1score[4][1],f1score[5][1]])\n",
    "    \n",
    "    plt.show()\n",
    "    \n",
    "    l = [f1score[0][1],f1score[1][1],f1score[2][1],f1score[3][1],f1score[4][1],f1score[5][1]]\n",
    "    print(\"Le paramètre qui donne le meilleur f1 score est la profondeur maximale de :\\n\")\n",
    "    print(f1score[l.index(max(l))])\n",
    "    \n",
    "    #Return the best model\n",
    "    return models[l.index(max(l))]\n"
   ]
  },
  {
   "cell_type": "code",
   "execution_count": 5,
   "metadata": {},
   "outputs": [],
   "source": [
    "def trainingAccuracyAndFscoreKNN(X_train,X_test,y_train,y_test):\n",
    "    accuracyArray = []\n",
    "    fscoreArray = []\n",
    "    best=0\n",
    "    bestAcc=0\n",
    "    for x in range(1,51):\n",
    "        knn = KNeighborsClassifier(n_neighbors = x)\n",
    "        knn.fit(X_train,y_train)\n",
    "        #accuracy\n",
    "        accuracyArray.append(knn.score(X_test,y_test))\n",
    "        #f1 score\n",
    "        y_true = y_test\n",
    "        y_pred = knn.predict(X_test)\n",
    "        fscoreArray.append(f1_score(y_true,y_pred,average=\"weighted\"))\n",
    "        if accuracyArray[x-1] >= bestAcc:\n",
    "            bestAcc=accuracyArray[x-1]\n",
    "            best = x\n",
    "    \n",
    "    print(\"Accuracy with training set \" + str(accuracyArray[best-1]))\n",
    "    print(\"F1 score with training set \" + str(fscoreArray[best-1]))\n",
    "    \n",
    "    neighbors = list(range(1,51))\n",
    "    from matplotlib.legend_handler import HandlerLine2D\n",
    "    line1, = plt.plot(neighbors, accuracyArray, 'b', label=\"Accuracy\")\n",
    "    line2, = plt.plot(neighbors, fscoreArray, 'r', label=\"F1 Score\")\n",
    "    plt.legend(handler_map={line1: HandlerLine2D(numpoints=2)})\n",
    "    plt.ylabel(\"score\")\n",
    "    plt.xlabel(\"n_neighbors\")\n",
    "    plt.show()\n",
    "    \n",
    "    knn = KNeighborsClassifier(n_neighbors = best)\n",
    "    knn.fit(X_train,y_train)\n",
    "    return knn, best"
   ]
  },
  {
   "cell_type": "code",
   "execution_count": 6,
   "metadata": {},
   "outputs": [],
   "source": [
    "def trainingPretreatments(model,galaxy,X_train,X_test,y_train,y_test):\n",
    "    col_names =  ['Accuracy', 'F1 score']\n",
    "    Results = pd.DataFrame(columns = col_names)\n",
    "    y_true = y_test\n",
    "    model.fit(X_train,y_train)\n",
    "    y_pred = model.predict(X_test)\n",
    "    f1 = f1_score(y_true, y_pred,average=\"weighted\")\n",
    "    score = model.score(X_test, y_test)\n",
    "    Results.loc[\"Aucun prétraitement\"] = [score , f1]\n",
    "    \n",
    "    min_max_scaler = MinMaxScaler()\n",
    "    X_train_minmax = min_max_scaler.fit_transform(X_train)\n",
    "    X_test_minmax = min_max_scaler.fit_transform(X_test)\n",
    "    model.fit(X_train_minmax,y_train)\n",
    "    y_pred = model.predict(X_test_minmax)\n",
    "    f1 = f1_score(y_true, y_pred,average=\"weighted\")\n",
    "    score = model.score(X_test_minmax, y_test)\n",
    "    Results.loc[\"MinMaxScaler\"] = [score , f1]\n",
    "    \n",
    "    if galaxy == False:\n",
    "        enc = KBinsDiscretizer(n_bins=5,encode='ordinal')\n",
    "        X_train_binned = enc.fit_transform(X_train)\n",
    "        X_test_binned = enc.fit_transform(X_test)\n",
    "        y_pred = model.predict(X_test_binned)\n",
    "        model.fit(X_train_binned,y_train)\n",
    "        f1 = f1_score(y_true, y_pred,average=\"weighted\")\n",
    "        score = model.score(X_test_binned, y_test)\n",
    "        Results.loc[\"Discrétisation non-supervisée\"] = [score , f1]\n",
    "        \n",
    "    print(Results)"
   ]
  },
  {
   "cell_type": "code",
   "execution_count": 7,
   "metadata": {},
   "outputs": [],
   "source": [
    "from sklearn.model_selection import StratifiedKFold\n",
    "\n",
    "def Cross_Validation(model,X_train,Y_train) :\n",
    "    \"\"\"\n",
    "    Args:\n",
    "        model (sklearn classifier): the model to fit\n",
    "        X_train (list): the train sample\n",
    "        X_test (list): the test sample\n",
    "    Returns:\n",
    "        best_model: the best trained model in the cross validation\n",
    "    \"\"\"\n",
    "    col_names =  ['Accuracy', 'F1 score']\n",
    "    Results = pd.DataFrame(columns = col_names)\n",
    "    best_score = 0\n",
    "    \n",
    "    skf = StratifiedKFold(n_splits=10)\n",
    "    skf.get_n_splits(X_train, Y_train) \n",
    "    score_mean = 0\n",
    "    f1_mean = 0\n",
    "\n",
    "    for train_index, test_index in skf.split(X_train, Y_train):\n",
    "        # split train test\n",
    "        xtrain, xtest = X_train.iloc[train_index], X_train.iloc[test_index]\n",
    "        ytrain, ytest = Y_train.iloc[train_index], Y_train.iloc[test_index]\n",
    "        # fitting and score for this sample\n",
    "        temp_model = model.fit(xtrain, ytrain)\n",
    "        y_true = ytest\n",
    "        y_pred = model.predict(xtest)\n",
    "        f1 = f1_score(y_true, y_pred,average=\"weighted\")\n",
    "        score = model.score(xtest, ytest)\n",
    "        Results = Results.append(pd.Series([score , f1], index=Results.columns ), ignore_index=True)\n",
    "        #print(\"Accuracy with training set \" + str(score) + \"F1 score with training set \" + str(f1))\n",
    "        score_mean += score\n",
    "        f1_mean += f1\n",
    "        if(score > best_score):\n",
    "            best_score = score\n",
    "            best_model = temp_model\n",
    "    score_mean = score_mean/10\n",
    "    f1_mean = f1_mean/10\n",
    "    print(Results)\n",
    "    print(\"Moyenne précision : \" + str(score_mean))\n",
    "    print(\"Moyenne f1 : \" + str(f1_mean))\n",
    "    return(best_model)"
   ]
  },
  {
   "cell_type": "code",
   "execution_count": 8,
   "metadata": {},
   "outputs": [],
   "source": [
    "def Verify_results(model,best_model,X,Y) :\n",
    "    \"\"\"\n",
    "    Args:\n",
    "        model (sklearn classifier): the model hyperparametered\n",
    "        model (sklearn classifier): the model cross validated\n",
    "        X (list): the test sample\n",
    "        Y (list): the test sample\n",
    "    Returns:\n",
    "    \"\"\"\n",
    "    col_names =  ['Accuracy', 'F1 score']\n",
    "    Results = pd.DataFrame(columns = col_names)\n",
    "    y_true = Y\n",
    "    \n",
    "    # score for the first model\n",
    "    y_pred = model.predict(X)\n",
    "    f1 = f1_score(y_true, y_pred,average=\"weighted\")\n",
    "    score = model.score(X, Y)\n",
    "    Results.loc[\"model hyperparametered\"] = [score , f1]\n",
    "    #Results = Results.append(pd.Series([score , f1], index=\"model hyperparametered\" ), ignore_index=True)\n",
    "    \n",
    "    #score for the best model\n",
    "    y_pred = best_model.predict(X)\n",
    "    f1 = f1_score(y_true, y_pred,average=\"weighted\")\n",
    "    score = best_model.score(X, Y)\n",
    "    Results.loc[\"model cross validated\"] = [score , f1]\n",
    "    #Results = Results.append(pd.Series([score , f1], index=\"model cross validated\" ), ignore_index=True)\n",
    "    print(Results)"
   ]
  },
  {
   "cell_type": "markdown",
   "metadata": {},
   "source": [
    "# Exercice avec le set de données spam"
   ]
  },
  {
   "cell_type": "code",
   "execution_count": 13,
   "metadata": {},
   "outputs": [],
   "source": [
    "# read the csv and get the dataframe\n",
    "df = read_csv(\"spam.csv\")\n",
    "# get the train and test sample\n",
    "X_train, X_test, Y_train, Y_test = train_test_split(df.loc[:, df.columns != 57], df[57], test_size=0.2,stratify=df[57])"
   ]
  },
  {
   "cell_type": "code",
   "execution_count": 14,
   "metadata": {},
   "outputs": [
    {
     "name": "stdout",
     "output_type": "stream",
     "text": [
      "\u001b[1mRésultat du training modèle Naïf Bayes\n",
      "\u001b[0;0m\n",
      "Accuracy with training set 0.9003623188405797\n",
      "F1 score with training set 0.8998121309715512\n",
      "\n",
      "\n",
      "\u001b[1mDifférent prétraitements selon l'ensemble de donnnées knn \n",
      "\u001b[0;0m\n",
      "                               Accuracy  F1 score\n",
      "Aucun prétraitement            0.900362  0.899812\n",
      "MinMaxScaler                   0.898551  0.898038\n",
      "Discrétisation non-supervisée  0.612319  0.449558\n",
      "\n",
      "\n",
      "\u001b[1mRésulat de la cross validation \n",
      "\u001b[0;0m\n",
      "   Accuracy  F1 score\n",
      "0  0.914414  0.913967\n",
      "1  0.891892  0.890633\n",
      "2  0.860360  0.857662\n",
      "3  0.909910  0.908598\n",
      "4  0.909091  0.908712\n",
      "5  0.863636  0.863365\n",
      "6  0.890909  0.889916\n",
      "7  0.863636  0.861178\n",
      "8  0.890909  0.889916\n",
      "9  0.840909  0.839669\n",
      "Moyenne précision : 0.8835667485667484\n",
      "Moyenne f1 : 0.8823616532733347\n",
      "\n",
      "\n",
      "\u001b[1mDifférence entre les deux modèles \n",
      "\u001b[0;0m\n",
      "                        Accuracy  F1 score\n",
      "model hyperparametered  0.900362  0.899812\n",
      "model cross validated   0.900362  0.899812\n"
     ]
    },
    {
     "name": "stderr",
     "output_type": "stream",
     "text": [
      "C:\\Users\\gaspa\\Anaconda3\\lib\\site-packages\\sklearn\\preprocessing\\data.py:323: DataConversionWarning: Data with input dtype int64, float64 were all converted to float64 by MinMaxScaler.\n",
      "  return self.partial_fit(X, y)\n",
      "C:\\Users\\gaspa\\Anaconda3\\lib\\site-packages\\sklearn\\preprocessing\\data.py:323: DataConversionWarning: Data with input dtype int64, float64 were all converted to float64 by MinMaxScaler.\n",
      "  return self.partial_fit(X, y)\n",
      "C:\\Users\\gaspa\\Anaconda3\\lib\\site-packages\\sklearn\\metrics\\classification.py:1143: UndefinedMetricWarning: F-score is ill-defined and being set to 0.0 in labels with no predicted samples.\n",
      "  'precision', 'predicted', average, warn_for)\n"
     ]
    }
   ],
   "source": [
    "# entraîner le modèle naive bayes\n",
    "print(start + \"Résultat du training modèle Naïf Bayes\\n\" + end)\n",
    "naive = Naive_Bayes(X_train,Y_train,X_test,Y_test)\n",
    "\n",
    "# faire la cross validation et récupérer le meilleur modèle train\n",
    "\"\"\"\n",
    "    créer un nouveau modèle avec le bon hyperparamètre \n",
    "    surtout pas passer la copie du modèle trainé déjà\n",
    "\"\"\"\n",
    "naive_cp = BernoulliNB()\n",
    "\n",
    "print(\"\\n\\n\" + start + \"Différent prétraitements selon l'ensemble de donnnées knn \\n\" + end)\n",
    "trainingPretreatments(naive_cp,False,X_train,X_test,Y_train,Y_test)\n",
    "\n",
    "print(\"\\n\\n\" + start + \"Résulat de la cross validation \\n\" + end)\n",
    "best_cross_validated_model = Cross_Validation(naive_cp,X_train,Y_train)\n",
    "\n",
    "# regarder différence entre modèle hyperpamètré et modèle mieux train par cross validation \n",
    "print(\"\\n\\n\" + start + \"Différence entre les deux modèles \\n\" + end)\n",
    "Verify_results(naive,best_cross_validated_model,X_test,Y_test)"
   ]
  },
  {
   "cell_type": "code",
   "execution_count": 11,
   "metadata": {},
   "outputs": [
    {
     "name": "stdout",
     "output_type": "stream",
     "text": [
      "\u001b[1mRésultat du training modèle knn \n",
      "\u001b[0;0m\n",
      "Accuracy with training set 0.8079710144927537\n",
      "F1 score with training set 0.8081125591995156\n"
     ]
    },
    {
     "data": {
      "image/png": "[encoded data removed]",
      "text/plain": [
       "<Figure size 432x288 with 1 Axes>"
      ]
     },
     "metadata": {
      "needs_background": "light"
     },
     "output_type": "display_data"
    },
    {
     "name": "stdout",
     "output_type": "stream",
     "text": [
      "Le meilleur hyperparamètre est k = 3 \n",
      "\n",
      "\n",
      "\n",
      "\u001b[1mDifférent prétraitements selon l'ensemble de donnnées knn \n",
      "\u001b[0;0m\n"
     ]
    },
    {
     "name": "stderr",
     "output_type": "stream",
     "text": [
      "C:\\Users\\gaspa\\Anaconda3\\lib\\site-packages\\sklearn\\preprocessing\\data.py:323: DataConversionWarning: Data with input dtype int64, float64 were all converted to float64 by MinMaxScaler.\n",
      "  return self.partial_fit(X, y)\n",
      "C:\\Users\\gaspa\\Anaconda3\\lib\\site-packages\\sklearn\\preprocessing\\data.py:323: DataConversionWarning: Data with input dtype int64, float64 were all converted to float64 by MinMaxScaler.\n",
      "  return self.partial_fit(X, y)\n",
      "C:\\Users\\gaspa\\Anaconda3\\lib\\site-packages\\sklearn\\metrics\\classification.py:1143: UndefinedMetricWarning: F-score is ill-defined and being set to 0.0 in labels with no predicted samples.\n",
      "  'precision', 'predicted', average, warn_for)\n"
     ]
    },
    {
     "name": "stdout",
     "output_type": "stream",
     "text": [
      "                               Accuracy  F1 score\n",
      "Aucun prétraitement            0.807971  0.808113\n",
      "MinMaxScaler                   0.887681  0.888252\n",
      "Discrétisation non-supervisée  0.900362  0.449558\n",
      "\n",
      "\n",
      "\u001b[1mRésulat de la cross validation knn \n",
      "\u001b[0;0m\n",
      "   Accuracy  F1 score\n",
      "0  0.756757  0.756757\n",
      "1  0.734234  0.736829\n",
      "2  0.833333  0.832059\n",
      "3  0.819820  0.817196\n",
      "4  0.750000  0.744197\n",
      "5  0.736364  0.735840\n",
      "6  0.781818  0.780909\n",
      "7  0.759091  0.760418\n",
      "8  0.727273  0.729235\n",
      "9  0.813636  0.814127\n",
      "Moyenne précision : 0.7712325962325963\n",
      "Moyenne f1 : 0.7707566763097893\n",
      "\n",
      "\n",
      "\u001b[1mDifférence entre les deux modèles knn \n",
      "\u001b[0;0m\n",
      "                        Accuracy  F1 score\n",
      "model hyperparametered  0.807971  0.808113\n",
      "model cross validated   0.797101  0.797251\n"
     ]
    }
   ],
   "source": [
    "print(start + \"Résultat du training modèle knn \\n\" + end)\n",
    "knn_model,k = trainingAccuracyAndFscoreKNN(X_train,X_test,Y_train,Y_test)\n",
    "print(\"Le meilleur hyperparamètre est k = \" + str(k) + \" \\n\" )\n",
    "\n",
    "print(\"\\n\\n\" + start + \"Différent prétraitements selon l'ensemble de donnnées knn \\n\" + end)\n",
    "knn_cp = KNeighborsClassifier(n_neighbors=k)\n",
    "trainingPretreatments(knn_cp,False,X_train,X_test,Y_train,Y_test)\n",
    "\n",
    "# faire la cross validation et récupérer le meilleur modèle train\n",
    "\"\"\"\n",
    "    créer un nouveau modèle avec le bon hyperparamètre \n",
    "    surtout pas passer la copie du modèle trainé déjà\n",
    "\"\"\"\n",
    "print(\"\\n\\n\" + start + \"Résulat de la cross validation knn \\n\" + end)\n",
    "knn_cp = KNeighborsClassifier(n_neighbors=k)\n",
    "best_cross_validated_model_knn = Cross_Validation(knn_cp,X_train,Y_train)\n",
    "\n",
    "# regarder différence entre modèle hyperpamètré et modèle mieux train par cross validation \n",
    "print(\"\\n\\n\" + start + \"Différence entre les deux modèles knn \\n\" + end)\n",
    "Verify_results(knn_model,best_cross_validated_model_knn,X_test,Y_test)"
   ]
  },
  {
   "cell_type": "code",
   "execution_count": 12,
   "metadata": {},
   "outputs": [
    {
     "name": "stdout",
     "output_type": "stream",
     "text": [
      "\u001b[1mRésultat du training modèle d'Arbre de décision\n",
      "\u001b[0;0m\n",
      "Résultats de la variation de l'hyper-paramètre de profondeur : \n",
      "\n"
     ]
    },
    {
     "data": {
      "image/png": "[encoded data removed]",
      "text/plain": [
       "<Figure size 432x288 with 1 Axes>"
      ]
     },
     "metadata": {
      "needs_background": "light"
     },
     "output_type": "display_data"
    },
    {
     "data": {
      "image/png": "[encoded data removed]",
      "text/plain": [
       "<Figure size 432x288 with 1 Axes>"
      ]
     },
     "metadata": {
      "needs_background": "light"
     },
     "output_type": "display_data"
    },
    {
     "name": "stdout",
     "output_type": "stream",
     "text": [
      "Le paramètre qui donne le meilleur f1 score est la profondeur maximale de :\n",
      "\n",
      "(10, 0.9148867666855385)\n"
     ]
    },
    {
     "ename": "AttributeError",
     "evalue": "'DecisionTreeClassifier' object has no attribute 'get_depth'",
     "output_type": "error",
     "traceback": [
      "\u001b[1;31m---------------------------------------------------------------------------\u001b[0m",
      "\u001b[1;31mAttributeError\u001b[0m                            Traceback (most recent call last)",
      "\u001b[1;32m<ipython-input-12-6079311a5fc7>\u001b[0m in \u001b[0;36m<module>\u001b[1;34m\u001b[0m\n\u001b[0;32m      8\u001b[0m     \u001b[0msurtout\u001b[0m \u001b[0mpas\u001b[0m \u001b[0mpasser\u001b[0m \u001b[0mla\u001b[0m \u001b[0mcopie\u001b[0m \u001b[0mdu\u001b[0m \u001b[0mmodèle\u001b[0m \u001b[0mtrainé\u001b[0m \u001b[0mdéjà\u001b[0m\u001b[1;33m\u001b[0m\u001b[1;33m\u001b[0m\u001b[0m\n\u001b[0;32m      9\u001b[0m \"\"\"\n\u001b[1;32m---> 10\u001b[1;33m \u001b[0mdt_cp\u001b[0m \u001b[1;33m=\u001b[0m \u001b[0mDecisionTreeClassifier\u001b[0m\u001b[1;33m(\u001b[0m\u001b[0mrandom_state\u001b[0m\u001b[1;33m=\u001b[0m\u001b[1;36m1\u001b[0m \u001b[1;33m,\u001b[0m\u001b[0mmax_depth\u001b[0m\u001b[1;33m=\u001b[0m\u001b[0mdt\u001b[0m\u001b[1;33m.\u001b[0m\u001b[0mget_depth\u001b[0m\u001b[1;33m(\u001b[0m\u001b[1;33m)\u001b[0m\u001b[1;33m)\u001b[0m\u001b[1;33m\u001b[0m\u001b[1;33m\u001b[0m\u001b[0m\n\u001b[0m\u001b[0;32m     11\u001b[0m \u001b[1;33m\u001b[0m\u001b[0m\n\u001b[0;32m     12\u001b[0m \u001b[0mprint\u001b[0m\u001b[1;33m(\u001b[0m\u001b[1;34m\"\\n\\n\"\u001b[0m \u001b[1;33m+\u001b[0m \u001b[0mstart\u001b[0m \u001b[1;33m+\u001b[0m \u001b[1;34m\"Différent prétraitements selon l'ensemble de donnnées de l'arbre de décision \\n\"\u001b[0m \u001b[1;33m+\u001b[0m \u001b[0mend\u001b[0m\u001b[1;33m)\u001b[0m\u001b[1;33m\u001b[0m\u001b[1;33m\u001b[0m\u001b[0m\n",
      "\u001b[1;31mAttributeError\u001b[0m: 'DecisionTreeClassifier' object has no attribute 'get_depth'"
     ]
    }
   ],
   "source": [
    "# entraîner le modèle d'arbre de décision \n",
    "print(start + \"Résultat du training modèle d'Arbre de décision\\n\" + end)\n",
    "dt = Decision_Tree(X_train, X_test, Y_train, Y_test)\n",
    "\n",
    "# faire la cross validation et récupérer le meilleur modèle train\n",
    "\"\"\"\n",
    "    créer un nouveau modèle avec le bon hyperparamètre \n",
    "    surtout pas passer la copie du modèle trainé déjà\n",
    "\"\"\"\n",
    "dt_cp = DecisionTreeClassifier(random_state=1 ,max_depth=dt.get_depth())\n",
    "\n",
    "print(\"\\n\\n\" + start + \"Différent prétraitements selon l'ensemble de donnnées de l'arbre de décision \\n\" + end)\n",
    "trainingPretreatments(dt_cp,False,X_train,X_test,Y_train,Y_test)\n",
    "\n",
    "print(\"\\n\\n\" + start + \"Résulat de la cross validation \\n\" + end)\n",
    "best_cross_validated_model_dt = Cross_Validation(dt_cp,X_train,Y_train)\n",
    "\n",
    "# regarder différence entre modèle hyperpamètré et modèle mieux train par cross validation \n",
    "print(\"\\n\\n\" + start + \"Différence entre les deux modèles \\n\" + end)\n",
    "Verify_results(dt,best_cross_validated_model_dt,X_test,Y_test)"
   ]
  },
  {
   "cell_type": "markdown",
   "metadata": {},
   "source": [
    "# Exercice avec le set de données galaxy"
   ]
  },
  {
   "cell_type": "code",
   "execution_count": 15,
   "metadata": {},
   "outputs": [],
   "source": [
    "# read the csv and get the dataframe\n",
    "df = read_csv(\"galaxy_feature_vectors.csv\")\n",
    "# get the train and test sample\n",
    "df = df.drop(0, axis=1)\n",
    "X_train, X_test, Y_train, Y_test = train_test_split(df.loc[:, df.columns != 75], df[75], test_size=0.2,stratify=df[75])"
   ]
  },
  {
   "cell_type": "code",
   "execution_count": 17,
   "metadata": {},
   "outputs": [
    {
     "name": "stdout",
     "output_type": "stream",
     "text": [
      "\u001b[1mRésultat du training modèle \n",
      "\u001b[0;0m\n",
      "Accuracy with training set 0.7025428740390302\n",
      "F1 score with training set 0.7005134465843764\n",
      "\n",
      "\n",
      "\u001b[1mDifférent prétraitements selon l'ensemble de donnnées knn \n",
      "\u001b[0;0m\n",
      "                     Accuracy  F1 score\n",
      "Aucun prétraitement  0.702543  0.700513\n",
      "MinMaxScaler         0.557954  0.520759\n",
      "\n",
      "\n",
      "\u001b[1mRésulat de la cross validation \n",
      "\u001b[0;0m\n",
      "   Accuracy  F1 score\n",
      "0  0.725997  0.724688\n",
      "1  0.695492  0.694520\n",
      "2  0.699187  0.697728\n",
      "3  0.699926  0.698860\n",
      "4  0.713969  0.712519\n",
      "5  0.704882  0.704082\n",
      "6  0.713757  0.712506\n",
      "7  0.713757  0.712620\n",
      "8  0.718195  0.716528\n",
      "9  0.704882  0.703591\n",
      "Moyenne précision : 0.7090043958852175\n",
      "Moyenne f1 : 0.7077642908802948\n",
      "\n",
      "\n",
      "\u001b[1mDifférence entre les deux modèles \n",
      "\u001b[0;0m\n",
      "                        Accuracy  F1 score\n",
      "model hyperparametered  0.702543  0.700513\n",
      "model cross validated   0.702839  0.700856\n"
     ]
    }
   ],
   "source": [
    "# entraîner le modèle naive bayes\n",
    "print(start + \"Résultat du training modèle \\n\" + end)\n",
    "naive = Naive_Bayes(X_train,Y_train,X_test,Y_test)\n",
    "\n",
    "# faire la cross validation et récupérer le meilleur modèle train\n",
    "\"\"\"\n",
    "    créer un nouveau modèle avec le bon hyperparamètre \n",
    "    surtout pas passer la copie du modèle trainé déjà\n",
    "\"\"\"\n",
    "naive_cp = BernoulliNB()\n",
    "\n",
    "print(\"\\n\\n\" + start + \"Différent prétraitements selon l'ensemble de donnnées knn \\n\" + end)\n",
    "trainingPretreatments(naive_cp,True,X_train,X_test,Y_train,Y_test)\n",
    "\n",
    "print(\"\\n\\n\" + start + \"Résulat de la cross validation \\n\" + end)\n",
    "best_cross_validated_model = Cross_Validation(naive_cp,X_train,Y_train)\n",
    "\n",
    "# regarder différence entre modèle hyperpamètré et modèle mieux train par cross validation \n",
    "print(\"\\n\\n\" + start + \"Différence entre les deux modèles \\n\" + end)\n",
    "Verify_results(naive,best_cross_validated_model,X_test,Y_test)"
   ]
  },
  {
   "cell_type": "code",
   "execution_count": 18,
   "metadata": {},
   "outputs": [
    {
     "name": "stdout",
     "output_type": "stream",
     "text": [
      "\u001b[1mRésultat du training modèle knn \n",
      "\u001b[0;0m\n",
      "Accuracy with training set 0.6209343583678297\n",
      "F1 score with training set 0.618775102358812\n"
     ]
    },
    {
     "data": {
      "image/png": "[encoded data removed]",
      "text/plain": [
       "<Figure size 432x288 with 1 Axes>"
      ]
     },
     "metadata": {
      "needs_background": "light"
     },
     "output_type": "display_data"
    },
    {
     "name": "stdout",
     "output_type": "stream",
     "text": [
      "Le meilleur hyperparamètre est k = 50 \n",
      "\n",
      "\n",
      "\n",
      "\u001b[1mDifférent prétraitements selon l'ensemble de donnnées knn \n",
      "\u001b[0;0m\n",
      "                     Accuracy  F1 score\n",
      "Aucun prétraitement  0.620934  0.618775\n",
      "MinMaxScaler         0.863099  0.862152\n",
      "\n",
      "\n",
      "\u001b[1mRésulat de la cross validation knn \n",
      "\u001b[0;0m\n",
      "   Accuracy  F1 score\n",
      "0  0.594535  0.592673\n",
      "1  0.626755  0.625492\n",
      "2  0.618625  0.617081\n",
      "3  0.599409  0.596804\n",
      "4  0.628973  0.628232\n",
      "5  0.600592  0.598447\n",
      "6  0.625000  0.623273\n",
      "7  0.607249  0.600978\n",
      "8  0.588757  0.587462\n",
      "9  0.592456  0.587575\n",
      "Moyenne précision : 0.6082349976749795\n",
      "Moyenne f1 : 0.605801593092597\n",
      "\n",
      "\n",
      "\u001b[1mDifférence entre les deux modèles knn \n",
      "\u001b[0;0m\n",
      "                        Accuracy  F1 score\n",
      "model hyperparametered  0.620934  0.618775\n",
      "model cross validated   0.616203  0.613646\n"
     ]
    }
   ],
   "source": [
    "print(start + \"Résultat du training modèle knn \\n\" + end)\n",
    "knn_model,k = trainingAccuracyAndFscoreKNN(X_train,X_test,Y_train,Y_test)\n",
    "print(\"Le meilleur hyperparamètre est k = \" + str(k) + \" \\n\" )\n",
    "\n",
    "print(\"\\n\\n\" + start + \"Différent prétraitements selon l'ensemble de donnnées knn \\n\" + end)\n",
    "knn_cp = KNeighborsClassifier(n_neighbors=k)\n",
    "trainingPretreatments(knn_cp,True,X_train,X_test,Y_train,Y_test)\n",
    "\n",
    "# faire la cross validation et récupérer le meilleur modèle train\n",
    "\"\"\"\n",
    "    créer un nouveau modèle avec le bon hyperparamètre \n",
    "    surtout pas passer la copie du modèle trainé déjà\n",
    "\"\"\"\n",
    "print(\"\\n\\n\" + start + \"Résulat de la cross validation knn \\n\" + end)\n",
    "knn_cp = KNeighborsClassifier(n_neighbors=k)\n",
    "best_cross_validated_model_knn = Cross_Validation(knn_cp,X_train,Y_train)\n",
    "\n",
    "# regarder différence entre modèle hyperpamètré et modèle mieux train par cross validation \n",
    "print(\"\\n\\n\" + start + \"Différence entre les deux modèles knn \\n\" + end)\n",
    "Verify_results(knn_model,best_cross_validated_model_knn,X_test,Y_test)"
   ]
  },
  {
   "cell_type": "code",
   "execution_count": 19,
   "metadata": {},
   "outputs": [
    {
     "name": "stdout",
     "output_type": "stream",
     "text": [
      "\u001b[1mRésultat du training modèle d'Arbre de décision\n",
      "\u001b[0;0m\n",
      "Résultats de la variation de l'hyper-paramètre de profondeur : \n",
      "\n"
     ]
    },
    {
     "data": {
      "image/png": "[encoded data removed]",
      "text/plain": [
       "<Figure size 432x288 with 1 Axes>"
      ]
     },
     "metadata": {
      "needs_background": "light"
     },
     "output_type": "display_data"
    },
    {
     "data": {
      "image/png": "[encoded data removed]",
      "text/plain": [
       "<Figure size 432x288 with 1 Axes>"
      ]
     },
     "metadata": {
      "needs_background": "light"
     },
     "output_type": "display_data"
    },
    {
     "name": "stdout",
     "output_type": "stream",
     "text": [
      "Le paramètre qui donne le meilleur f1 score est la profondeur maximale de :\n",
      "\n",
      "(10, 0.9148651950413873)\n"
     ]
    },
    {
     "ename": "AttributeError",
     "evalue": "'DecisionTreeClassifier' object has no attribute 'get_depth'",
     "output_type": "error",
     "traceback": [
      "\u001b[1;31m---------------------------------------------------------------------------\u001b[0m",
      "\u001b[1;31mAttributeError\u001b[0m                            Traceback (most recent call last)",
      "\u001b[1;32m<ipython-input-19-bd18f681db3b>\u001b[0m in \u001b[0;36m<module>\u001b[1;34m\u001b[0m\n\u001b[0;32m      9\u001b[0m \"\"\"\n\u001b[0;32m     10\u001b[0m \u001b[1;33m\u001b[0m\u001b[0m\n\u001b[1;32m---> 11\u001b[1;33m \u001b[0mdt_cp\u001b[0m \u001b[1;33m=\u001b[0m \u001b[0mDecisionTreeClassifier\u001b[0m\u001b[1;33m(\u001b[0m\u001b[0mrandom_state\u001b[0m\u001b[1;33m=\u001b[0m\u001b[1;36m1\u001b[0m \u001b[1;33m,\u001b[0m\u001b[0mmax_depth\u001b[0m\u001b[1;33m=\u001b[0m\u001b[0mdt\u001b[0m\u001b[1;33m.\u001b[0m\u001b[0mget_depth\u001b[0m\u001b[1;33m(\u001b[0m\u001b[1;33m)\u001b[0m\u001b[1;33m)\u001b[0m\u001b[1;33m\u001b[0m\u001b[1;33m\u001b[0m\u001b[0m\n\u001b[0m\u001b[0;32m     12\u001b[0m \u001b[1;33m\u001b[0m\u001b[0m\n\u001b[0;32m     13\u001b[0m \u001b[0mprint\u001b[0m\u001b[1;33m(\u001b[0m\u001b[1;34m\"\\n\\n\"\u001b[0m \u001b[1;33m+\u001b[0m \u001b[0mstart\u001b[0m \u001b[1;33m+\u001b[0m \u001b[1;34m\"Différent prétraitements selon l'ensemble de donnnées de l'arbre de décision \\n\"\u001b[0m \u001b[1;33m+\u001b[0m \u001b[0mend\u001b[0m\u001b[1;33m)\u001b[0m\u001b[1;33m\u001b[0m\u001b[1;33m\u001b[0m\u001b[0m\n",
      "\u001b[1;31mAttributeError\u001b[0m: 'DecisionTreeClassifier' object has no attribute 'get_depth'"
     ]
    }
   ],
   "source": [
    "# entraîner le modèle d'arbre de décision \n",
    "print(start + \"Résultat du training modèle d'Arbre de décision\\n\" + end)\n",
    "dt = Decision_Tree(X_train, X_test, Y_train, Y_test)\n",
    "\n",
    "# faire la cross validation et récupérer le meilleur modèle train\n",
    "\"\"\"\n",
    "    créer un nouveau modèle avec le bon hyperparamètre \n",
    "    surtout pas passer la copie du modèle trainé déjà\n",
    "\"\"\"\n",
    "\n",
    "dt_cp = DecisionTreeClassifier(random_state=1 ,max_depth=dt.get_depth())\n",
    "\n",
    "print(\"\\n\\n\" + start + \"Différent prétraitements selon l'ensemble de donnnées de l'arbre de décision \\n\" + end)\n",
    "trainingPretreatments(dt_cp,True,X_train,X_test,Y_train,Y_test)\n",
    "\n",
    "print(\"\\n\\n\" + start + \"Résulat de la cross validation \\n\" + end)\n",
    "best_cross_validated_model_dt = Cross_Validation(dt_cp,X_train,Y_train)\n",
    "\n",
    "# regarder différence entre modèle hyperpamètré et modèle mieux train par cross validation \n",
    "print(\"\\n\\n\" + start + \"Différence entre les deux modèles \\n\" + end)\n",
    "Verify_results(dt,best_cross_validated_model_dt,X_test,Y_test)"
   ]
  },
  {
   "cell_type": "markdown",
   "metadata": {},
   "source": [
    "### Question 1 - \n",
    "Quelle a été votre approche de manipulation de données? Comment avez-vous créé\n",
    "vos ensembles de données? Quels en ont été les résultats? Détaillez les ensembles\n",
    "produits et leur forme (exemple: le nombre d’éléments de chaque classe dans chaque\n",
    "ensemble, un vecteur de shape (N, M), etc.) Vous pouvez appuyer vos écrits par une\n",
    "représentation graphique."
   ]
  },
  {
   "cell_type": "markdown",
   "metadata": {},
   "source": [
    "Nous avons décidé de manier les données selon la méthode Hold-out. Pour cela nous répartissons en deux sets de données distincts train et test. La des technique utilisée pour séparer les données train_test_split de la libraire sklearn.model_selection. Cette fonction possède le paramètre \"stratify\". Celui-ci permet de sélectionner une colonne pour garder la même proportion de classe de les deux sets de données divisées train et test. En activant stratify sur l'output nous obtenons donc deux ensembles avec le même pourcentage de chaque classe. <br /><br />\n",
    "Pour les pourriels les primitives étaient déjà prédéfinies avec le label en dernière colonne. La forme du vecteur est explicitée en dessous. <br />"
   ]
  },
  {
   "cell_type": "code",
   "execution_count": 20,
   "metadata": {},
   "outputs": [
    {
     "name": "stdout",
     "output_type": "stream",
     "text": [
      "Dataframe : (2760, 58)\n",
      "Xtrain : (2208, 57)\n",
      "Xtest : (552, 57)\n",
      "Nombre de spam dans df 1105. Pourcentage de spam dans df : 40.03623188405797%\n",
      "Nombre de spam dans train 884. Pourcentage de spam dans train : 40.03623188405797%\n",
      "Nombre de spam dans test 211. Pourcentage de spam dans test : 38.224637681159415%\n"
     ]
    }
   ],
   "source": [
    "df = read_csv(\"spam.csv\")\n",
    "X_train, X_test, Y_train, Y_test = train_test_split(df.loc[:, df.columns != 57], df[57], test_size=0.2,stratify=df[57])\n",
    "print(\"Dataframe : \" + str(df.shape))\n",
    "print(\"Xtrain : \" + str(X_train.shape))\n",
    "print(\"Xtest : \" + str(X_test.shape))\n",
    "spam = 0\n",
    "spam1 = 0\n",
    "spam2 = 0\n",
    "for i in range(0,len(df)):\n",
    "    if df[57].iloc[i] == 1 :\n",
    "        spam += 1\n",
    "for i in range(0,len(Y_train)):\n",
    "    if Y_train.iloc[i] == 1 :\n",
    "        spam1 += 1\n",
    "for i in range(0,len(Y_test)):\n",
    "    if Y_train.iloc[i] == 1 :\n",
    "        spam2 += 1\n",
    "print(\"Nombre de spam dans df \" + str(spam) + \". Pourcentage de spam dans df : \" + str((spam/len(df)*100)) + \"%\")\n",
    "print(\"Nombre de spam dans train \" + str(spam1) + \". Pourcentage de spam dans train : \" + str((spam1/len(X_train)*100)) + \"%\")\n",
    "print(\"Nombre de spam dans test \" + str(spam2) + \". Pourcentage de spam dans test : \" + str((spam2/len(X_test)*100)) + \"%\")"
   ]
  },
  {
   "cell_type": "markdown",
   "metadata": {},
   "source": [
    "Pour les galaxies, nous avons d'abord comparé les primitives que nous avions trouvées à celles indiquées dans le document fourni. Nous avons remarqué que toutes nos primitives étaient déjà contenues. Nous avons donc pris en compte uniquement le document fourni. <br />\n",
    "La forme du vecteur est explicitée en dessous. <br />"
   ]
  },
  {
   "cell_type": "code",
   "execution_count": 21,
   "metadata": {},
   "outputs": [
    {
     "name": "stdout",
     "output_type": "stream",
     "text": [
      "Dataframe : (16908, 75)\n",
      "Xtrain : (13526, 74)\n",
      "Xtest : (3382, 74)\n",
      "Nombre de smooths dans df 8776. Pourcentage de smooths dans df : 51.90442394132955%\n",
      "Nombre de smooths dans train 7021. Pourcentage de smooths dans train : 51.90743752772439%\n",
      "Nombre de smooths dans test 1759. Pourcentage de smooths dans test : 52.010644589000584%\n"
     ]
    }
   ],
   "source": [
    "df = read_csv(\"galaxy_feature_vectors.csv\")\n",
    "df = df.drop(0, axis=1)\n",
    "X_train, X_test, Y_train, Y_test = train_test_split(df.loc[:, df.columns != 75], df[75], test_size=0.2,stratify=df[75])\n",
    "print(\"Dataframe : \" + str(df.shape))\n",
    "print(\"Xtrain : \" + str(X_train.shape))\n",
    "print(\"Xtest : \" + str(X_test.shape))\n",
    "spam = 0\n",
    "spam1 = 0\n",
    "spam2 = 0\n",
    "for i in range(0,len(df)):\n",
    "    if df[75].iloc[i] == 1 :\n",
    "        spam += 1\n",
    "for i in range(0,len(Y_train)):\n",
    "    if Y_train.iloc[i] == 1 :\n",
    "        spam1 += 1\n",
    "for i in range(0,len(Y_test)):\n",
    "    if Y_train.iloc[i] == 1 :\n",
    "        spam2 += 1\n",
    "print(\"Nombre de smooths dans df \" + str(spam) + \". Pourcentage de smooths dans df : \" + str((spam/len(df)*100)) + \"%\")\n",
    "print(\"Nombre de smooths dans train \" + str(spam1) + \". Pourcentage de smooths dans train : \" + str((spam1/len(X_train)*100)) + \"%\")\n",
    "print(\"Nombre de smooths dans test \" + str(spam2) + \". Pourcentage de smooths dans test : \" + str((spam2/len(X_test)*100)) + \"%\")"
   ]
  },
  {
   "cell_type": "markdown",
   "metadata": {},
   "source": [
    "### Question 2 - \n",
    "\n",
    "Parmi les méthodes de validation (Leave-one-out cross-validation, Leave-p-out crossvalidation, k-fold cross-validation, holdout), présentez les approches de validation que\n",
    "vous avez utilisées. Quels ont été les résultats de votre comparaison des méthodes?"
   ]
  },
  {
   "cell_type": "markdown",
   "metadata": {},
   "source": [
    "Nous avons utilisé la K-fold cross validation comme indiqué dans les consignes et la méthode Hold Out. La méthode Hold out est moins coûteuse en performances. Elle nous a donc permis de tester plus facilement les hyperparamètres.\n",
    "<br />\n",
    "Une fois les meilleurs hyperparamètres trouvés, nous avons réévalué notre modèle avec la validation croisée. Pour cela, le k choisi a été 10. Il permet un gaspillage d'uniquement 10% des données et ne coûte pas trop cher, car il ne valide que 10 fois.\n",
    "<br />\n",
    "Les résultats sortis (la moyenne de tous les résultats pour la validation croisée et les scores du Hold-Out) démontrent des similarités. Cependant, la validation croisée montre souvent des résultats légèrement moins bons."
   ]
  },
  {
   "cell_type": "markdown",
   "metadata": {},
   "source": [
    "### Question 3 - \n",
    "Pour chacun des modèles d’apprentissage élaborés, expliquez l’impact des\n",
    "hyperparamètres et des prétraitements sur les performances des modèles. "
   ]
  },
  {
   "cell_type": "markdown",
   "metadata": {},
   "source": [
    "#### Naïf Bayes\n",
    "Pour ce modèle, il n'y a pas d'hyperparamètres à faire varier, mais des modèles statistiques. Ainsi, les différents modèles étaient : \n",
    "\n",
    "- Bernoulli\n",
    "- Gaussian\n",
    "- Multinomial\n",
    "\n",
    "Les différents modèles servent à faire une généralisation de la distribution des données. Selon cette distribution, les données \"collerons\" seront approximativement plus proches d'un modèle que des autres. C'est ce modèle qui sera le meilleur pour prédire la valeur de nouvelles entrées. Dans ce cas, c'est le modèle de Bernoulli qui a donné le meilleur résultat sur les deux jeux de données.\n",
    "\n",
    "On peut expliquer cette performance par le fait que le problème de classification (galaxies ou pourriels) est \"binaire\" dans le sens, qu'il n'y a que deux sorties possibles suivants les deux catégories. Ce type de distribution est très bien représenté par un modèle de Bernoulli. \n",
    "\n",
    "Les prétraitements qui ont été appliqués aux données étaient, pour l'ensemble de données sur les pourriels: \n",
    "- Aucun prétraitement\n",
    "- MinMaxScaler (qui transforme la valeur de chaque caractéristique en une valeur appartenant à un intervalle donné)\n",
    "- Discrétisation non-supervisée (qui transforme les valeurs continues en valeurs discretes) \n",
    "\n",
    "La classification donne de meilleurs résultats sans prétraitements. Pour évaluer En appliquant MinMaxScaler on homogénise les données et on réduit la quantité d'information. La discrétisation donne une bonne précision, seulement, le F1 score est médiocre ; cela montre qu'il y a un nombre élevé de Faux Négatif, et donc que le modèle manque une ou des caractéristiques discriminantes.La discrétisation a ici un effet de perte d'information sur une ou plusieurs caractéristiques en particulier. \n",
    "\n",
    "Les prétraitements qui ont été appliqués aux données étaient, pour l'ensemble de données sur les galaxies : \n",
    "- Aucun prétraitement\n",
    "- MinMaxScaler (qui transforme la valeur de chaque caractéristique en une valeur appartenant à un intervalle donné)\n",
    "\n",
    "De la même manière que pour l'ensemble des pourriels, le prétraitement des données des pourriels donne de moins bons résultats que l'absence de prétraitement. On peut les expliquer par les mêmes causes.  \n",
    "\n",
    "#### K-nn\n",
    "Pour ce modèle, les hyperparamètres à faire varier étaient le nombre K de voisins.\n",
    "\n",
    "Dans l'algorithme des K plus proches voisins, K donne pour un point, le nombre de ses voisins à considérer pour le classer. Si la majorité de ses voisins est de catégorie A, alors le point sera classé comme tel. Ainsi, l'hyperparamètre K joue sur la précision du modèle. Si K est trop petit, le modèle est trop focalisé sur les détails et au contraire, si K est trop grand, le modèle peut devenir trop générale et va mal prendre en compte les situations complexes. Il faut donc trouver la bonne valeur de K qui permet d'approcher au mieux la réalité sans l'exagérer ou la généraliser (sur-apprentissage ou sous-apprentissage).\n",
    "\n",
    "Dans les cas des pourriels le meilleur K observé se situe entre 1 et 9 (avec 10 tests). 1 est le résultat le plus courant. Pour le cas des galaxies, le meilleur K observé se situe entre 25 et 45 (lui aussi avec 10 tests).\n",
    "\n",
    "Les prétraitements qui ont été appliqués aux données étaient, pour l'ensemble de données sur les galaxies : \n",
    "- Aucun prétraitement\n",
    "- MinMaxScaler (qui transforme la valeur de chaque caractéristique en une valeur appartenant à un intervalle donné)\n",
    "\n",
    "Pour l'ensemble de données des galaxies, on voit que le prétraitement a eu un effet bénéfique sur les résultats de prédiction, puisqu'on passe d'une précision de 0.61 sans prétraitement à une précision de 0.89 en appliquant le MinMaxScaler. \n",
    "\n",
    "Nous pouvons expliquer cette performance par la nature et la source des données traitées. En effet, les caractéristiques des observations des galaxies sont principalement composées à partir d'images photographiques (donc une seule source). Les appareils photo peuvent être considérés comme des capteurs optiques. Dans ce sens, comme tous capteurs, ils présentent des taux d'erreurs et d'incertitudes. De plus la variété des observations (confirmée dans les précédents laboratoires) rend l'ensemble de données très hétérogène, même entre des observations d'une même catégorie. Ainsi, le prétraitement appliqué généralise les valeurs des caractéristiques et permet d'homogénéiser l'ensemble. Ce qui donne de meilleurs résultats.  \n",
    "\n",
    "Les prétraitements qui ont été appliqués aux données étaient, pour l'ensemble de données sur les pourriels: \n",
    "- Aucun prétraitement\n",
    "- MinMaxScaler (qui transforme la valeur de chaque caractéristique en une valeur appartenant à un intervalle donné)\n",
    "- Discrétisation non-supervisée (qui transforme les valeurs continues en valeurs discretes) \n",
    "\n",
    "Pour l'ensemble de données des pourriels, on observe comme pour les galaxies que le prétraitement donne une meilleure précision en bornant les valeurs avec MinMaxScaler et également en les discrétisant. Cependant, il est à noter que le F1 score résultant de l'application de la discrétisation supervisée, est moins performant que sans prétraitements. On peut expliquer la moins bonne performance de la discrétisation par le fait qu'elle fait perdre une certaine nuance qui peut se trouver importante dans les caractéristiques réelles.\n",
    "\n",
    "#### Arbre de décision\n",
    "Pour ce modèle, l'hyperparamètres à faire varier était la valeur maximale de profondeur de l'arbre de décision. Ainsi, la valeur variait comme ceci : \n",
    "\n",
    "-None (pas de contrôle de profondeur)\n",
    "-3\n",
    "-5\n",
    "-10\n",
    "-30\n",
    "-50\n",
    "\n",
    "La valeur de profondeur des arbres correspond aux nombres de règles qui seront évaluées. Plus l'arbre est profond, plus les caractéristiques seront évaluées selon leur gain d'information. Si l'arbre est trop petit, il n'y a pas eu assez d'évaluation des caractéristiques et le modèle est beaucoup trop généralisé. Si au contraire, l'arbre est trop grand, il y a une perte de l'information. Il faut trouver la profondeur adéquate qui maximise le gain d'information sur les caractéristiques.  \n",
    "\n",
    "Dans les deux cas observés, la meilleure valeur de profondeur pour classifier les observations selon les caractéristiques est ; 10\n",
    "\n",
    "Les prétraitements qui ont été appliqués aux données étaient, pour l'ensemble de données sur les galaxies : \n",
    "- Aucun prétraitement\n",
    "- MinMaxScaler (qui transforme la valeur de chaque caractéristique en une valeur appartenant à un intervalle donné)\n",
    "\n",
    "Pour l'ensemble de données des galaxies, on voit que la classification sans prétraitement donne de meilleurs résultats. Pour évaluer le gain d'information d'une caractéristique, les arbres de décision utilisent le calcul d'entropie ou du coefficient de Gini. En appliquant des transformations comme MinMaxScaler qui homogénéise l'ensemble des données, on augmente l'entropie et faisons baisser la quantité d'information. La discrétisation donne une bonne précision, seulement, le F1 score est médiocre ; cela montre qu'il y a un nombre élevé de Faux Négatif, et donc que le modèle manque une ou des caractéristiques discriminantes.La discrétisation a ici un effet de perte d'information sur une ou plusieurs caractéristiques en particulier.  \n",
    "\n",
    "\n",
    "Les prétraitements qui ont été appliqués aux données étaient, pour l'ensemble de données sur les pourriels: \n",
    "- Aucun prétraitement\n",
    "- MinMaxScaler (qui transforme la valeur de chaque caractéristique en une valeur appartenant à un intervalle donné)\n",
    "- Discrétisation non-supervisée (qui transforme les valeurs continues en valeurs discretes) \n",
    "\n",
    "De la même manière que pour l'ensemble des galaxies, le prétraitement des données des pourriels donne de moins bons résultats que l'absence de prétraitement. On peut les expliquer par les mêmes causes.  \n"
   ]
  },
  {
   "cell_type": "markdown",
   "metadata": {},
   "source": [
    "### Question 4 - \n",
    "Faites une discussion mettant en parallèle la nature des données. Est-ce qu’un\n",
    "ensemble de données se démarque par rapport à un algorithme de classification?\n",
    "Creuser sur la nature intrinsèque des données, sur le processus d’extraction des\n",
    "primitives, sur les distributions des données. Au besoin, tracez un graphique montrant\n",
    "la distribution de quelques primitives afin d’illustrer vos explications."
   ]
  },
  {
   "cell_type": "markdown",
   "metadata": {},
   "source": [
    "L'ensemble de données des galaxies se démarque avec l'algorithme de classification d'arbre de décision. Les résultats que nous avons observés après plusieurs tests ont montré que cet algorithme offre des performances supérieures aux autres. Si nous observons les résultats pour l'ensemble des données des pourriels, l'arbre de décision est encore une fois très performant, mais l'algorithme bayes naïf est presque aussi performant avec seulement en moyenne des scores 0.15 de moins que l'arbre de décision. Pour le knn peut importe l'ensemble de donné il n'est jamais arrivé à se démarquer par rapport aux autres.\n",
    "\n",
    "Comme évoqué à la question précédente, les ensembles de données sont très différents. \n",
    "Le jeu de données sur le galaxies a été formé à partir d'images photographiques. Nous essayons de classer un objet physique (les galaxies) à partir d'un objet numérique (une photographie) depuis lequel on extrait les caractéristiques. On voit ainsi, que pour le modèle des galaxies, il y a plusieurs couches d'abstraction entre l'objet à classer et les informations que l'on utilise. \n",
    "Pour le jeu de données sur les pourriels, nous essayons de classer un objet totalement numérique (un courriel) , artificiel. Les caractéristiques étudiées sont directement tirées depuis l'objet de l'étude, il y a donc moins d'abstraction que pour le jeu de données des galaxies.  \n",
    "\n",
    "Sans considérer les prétraitements possiblement appliqués aux données, tous les modèles donnent de meilleurs résultats sur l'ensemble de données des pourriels (Il est intéressant de noter que l'arbre de décision est très bon sur les deux ensembles, avec des résultats presque égaux). \n",
    "Cette différence démontre que les données des pourriels sont plus \"faciles\" à traiter pour la classification que celles de l'ensemble des galaxies. On peut fortement supposer que cela est du aux niveaux d'abstractions entre l'objet de la classification et l'origine des données composant l'ensemble. \n",
    "\n"
   ]
  },
  {
   "cell_type": "markdown",
   "metadata": {},
   "source": [
    "### Question 5 - \n",
    "\n",
    "Quel type de classificateur recommanderiez-vous pour l’une et l’autre des ensembles\n",
    "de données et dans quelles conditions? "
   ]
  },
  {
   "cell_type": "markdown",
   "metadata": {},
   "source": [
    "Pour l'ensemble de donné des pourriels, le meilleur classificateur est l'arbre de décision après plusieurs tests il donne toujours des résultats de 0.9 et plus. Il est suivi de très près par le Bayes naïf qui nous donne des résultats de 0.89 en moyenne. Le KNN donne de bons résultats, mais est inférieur aux deux autres classificateurs avec des résultats se situant entre 0.75 et 0.8.\n",
    "\n",
    "Pour l'ensemble de données des galaxies, le meilleur classificateur est aussi l'arbre de décision. Ces résultats sont toujours de 0.90 et plus. Cette fois-ci le Bayes naïf ne donne pas d'aussi bon résultat par rapport à l'ensemble de données précédentes avec seulement des résultats autour de 0.69. Le KNN donne aussi des résultats inférieurs qui sont autour de 0.61.\n",
    "\n",
    "Donc pour les deux ensemble de donner le meilleur classificateur à recommander est l'arbre de décision.\n",
    "\n",
    "Comme énoncé dans les questions précédentes, l'arbre de décision obtient de meilleurs résultats en précision et en score F1 sans prétraitement des données d'entrée au préalable. Nous recommandons donc de ne pas appliquer de prétraitements."
   ]
  },
  {
   "cell_type": "markdown",
   "metadata": {},
   "source": [
    "### Question 6 -\n",
    "Formulez quelques pistes d’amélioration des classificateurs. "
   ]
  },
  {
   "cell_type": "markdown",
   "metadata": {},
   "source": [
    "Il y a deux points sur lesquels les classificateurs peuvent être améliorés : \n",
    "\n",
    "- La précision des prédictions\n",
    "- Le temps de calcul\n",
    "\n",
    "\n",
    "Pour le modèle Naïf Bayes, nous pourrions explorer l'emploi de méthodes non-paramétrique pour la classification. En ce qui concerne la réduction du temps de calcul, nous n'avons pas de pistes.\n",
    "\n",
    "\n",
    "Pour le modèle des K plus proches voisins, nous pourrions explorer différentes techniques de calcul de distances entre les points et voir laquelle donne les meilleurs résultats. On peut difficilement réduire le temps de calcul sans réduire le nombre K de voisins à évaluer.\n",
    "\n",
    "\n",
    "Pour le modèle d'arbre de décision, on pourrait appliquer des techniques d'élagage permettant de réduire la taille de l'arbre et au final de réduire le temps de calcul. \n",
    "Dans un objectif d'améliorer les prédictions, nous pourrions explorer les possibilités de combiner différents arbres de décision en appliquant l'algorithme \"Random Forest\".\n",
    "\n",
    "Aussi, pour améliorer les prédictions de tous les modèles expérimentés, il est envisageable d'augmenter le nombre d'observations en entrée. Avec plus d'exemples, les modèles seraient sans doute plus performants. \n"
   ]
  },
  {
   "cell_type": "code",
   "execution_count": null,
   "metadata": {},
   "outputs": [],
   "source": []
  }
 ],
 "metadata": {
  "kernelspec": {
   "display_name": "Python 3",
   "language": "python",
   "name": "python3"
  },
  "language_info": {
   "codemirror_mode": {
    "name": "ipython",
    "version": 3
   },
   "file_extension": ".py",
   "mimetype": "text/x-python",
   "name": "python",
   "nbconvert_exporter": "python",
   "pygments_lexer": "ipython3",
   "version": "3.7.1"
  }
 },
 "nbformat": 4,
 "nbformat_minor": 2
}
