{
 "cells": [
  {
   "cell_type": "code",
   "execution_count": 1,
   "metadata": {},
   "outputs": [
    {
     "name": "stderr",
     "output_type": "stream",
     "text": [
      "/home/adrien/anaconda3/envs/GPI770/lib/python3.7/site-packages/tensorflow/python/framework/dtypes.py:526: FutureWarning: Passing (type, 1) or '1type' as a synonym of type is deprecated; in a future version of numpy, it will be understood as (type, (1,)) / '(1,)type'.\n",
      "  _np_qint8 = np.dtype([(\"qint8\", np.int8, 1)])\n",
      "/home/adrien/anaconda3/envs/GPI770/lib/python3.7/site-packages/tensorflow/python/framework/dtypes.py:527: FutureWarning: Passing (type, 1) or '1type' as a synonym of type is deprecated; in a future version of numpy, it will be understood as (type, (1,)) / '(1,)type'.\n",
      "  _np_quint8 = np.dtype([(\"quint8\", np.uint8, 1)])\n",
      "/home/adrien/anaconda3/envs/GPI770/lib/python3.7/site-packages/tensorflow/python/framework/dtypes.py:528: FutureWarning: Passing (type, 1) or '1type' as a synonym of type is deprecated; in a future version of numpy, it will be understood as (type, (1,)) / '(1,)type'.\n",
      "  _np_qint16 = np.dtype([(\"qint16\", np.int16, 1)])\n",
      "/home/adrien/anaconda3/envs/GPI770/lib/python3.7/site-packages/tensorflow/python/framework/dtypes.py:529: FutureWarning: Passing (type, 1) or '1type' as a synonym of type is deprecated; in a future version of numpy, it will be understood as (type, (1,)) / '(1,)type'.\n",
      "  _np_quint16 = np.dtype([(\"quint16\", np.uint16, 1)])\n",
      "/home/adrien/anaconda3/envs/GPI770/lib/python3.7/site-packages/tensorflow/python/framework/dtypes.py:530: FutureWarning: Passing (type, 1) or '1type' as a synonym of type is deprecated; in a future version of numpy, it will be understood as (type, (1,)) / '(1,)type'.\n",
      "  _np_qint32 = np.dtype([(\"qint32\", np.int32, 1)])\n",
      "/home/adrien/anaconda3/envs/GPI770/lib/python3.7/site-packages/tensorflow/python/framework/dtypes.py:535: FutureWarning: Passing (type, 1) or '1type' as a synonym of type is deprecated; in a future version of numpy, it will be understood as (type, (1,)) / '(1,)type'.\n",
      "  np_resource = np.dtype([(\"resource\", np.ubyte, 1)])\n",
      "Using TensorFlow backend.\n"
     ]
    }
   ],
   "source": [
    "from time import time\n",
    "import numpy as np\n",
    "import matplotlib.pyplot as plt\n",
    "\n",
    "from sklearn import metrics\n",
    "from sklearn.cluster import KMeans\n",
    "from sklearn.datasets import load_digits\n",
    "from sklearn.decomposition import PCA\n",
    "from sklearn.preprocessing import scale\n",
    "import sklearn as skl\n",
    "import pandas as pd\n",
    "from sklearn.model_selection import train_test_split\n",
    "from sklearn.model_selection import cross_val_score\n",
    "from sklearn.model_selection import cross_val_predict\n",
    "from sklearn.model_selection import cross_validate\n",
    "from sklearn.model_selection import StratifiedKFold\n",
    "from sklearn.model_selection import GridSearchCV\n",
    "from sklearn import preprocessing\n",
    "from sklearn.metrics import f1_score\n",
    "from sklearn.preprocessing import MinMaxScaler\n",
    "from sklearn.tree import DecisionTreeClassifier\n",
    "from sklearn.neighbors import KNeighborsClassifier\n",
    "from sklearn import preprocessing\n",
    "from sklearn.ensemble import AdaBoostClassifier\n",
    "import matplotlib\n",
    "import tensorflow as tf\n",
    "import keras\n",
    "from keras.models import Sequential\n",
    "from keras.utils import to_categorical\n",
    "from keras.layers import Dense\n",
    "from keras.wrappers.scikit_learn import KerasClassifier\n",
    "import tensorboard\n",
    "from keras.optimizers import SGD\n",
    "import keras.backend as K"
   ]
  },
  {
   "cell_type": "code",
   "execution_count": 2,
   "metadata": {},
   "outputs": [],
   "source": [
    "def read_csv(url):\n",
    "    \"\"\"\n",
    "    Args:\n",
    "        url (string): the url of the file\n",
    "    Returns:\n",
    "        df: the dataframe filled\n",
    "    \"\"\"\n",
    "    df = pd.read_csv(url, header=None)\n",
    "    df.head()\n",
    "    return df"
   ]
  },
  {
   "cell_type": "code",
   "execution_count": 3,
   "metadata": {},
   "outputs": [],
   "source": [
    "from sklearn.neighbors import RadiusNeighborsClassifier\n",
    "def KnnAddedFeatures(X,Y):\n",
    "    \"\"\"\n",
    "    Args :\n",
    "        X, features, Y labels \n",
    "    Returns :\n",
    "        tuples corresponding to new features\n",
    "\n",
    "    \"\"\" \n",
    "    \n",
    "    knn = RadiusNeighborsClassifier(radius=0.5, weights = 'distance')\n",
    "    knn.fit(X,Y)\n",
    "    a = knn.predict(X)\n",
    "    print(\"coucou\",a)\n",
    "    \n",
    "    "
   ]
  },
  {
   "cell_type": "code",
   "execution_count": 4,
   "metadata": {},
   "outputs": [],
   "source": [
    "from sklearn.naive_bayes import MultinomialNB\n",
    "def NaiveAddedFeatures(X,y):\n",
    "    clf = MultinomialNB()\n",
    "    clf.fit(abs(X), y)\n",
    "    res = clf.predict_proba(X)\n",
    "    return res\n",
    "    "
   ]
  },
  {
   "cell_type": "code",
   "execution_count": 5,
   "metadata": {},
   "outputs": [],
   "source": [
    "music_class_binary = {'BIG_BAND':[0, 0, 0, 0, 0, 0, 0, 0, 0, 0, 0, 0, 0, 0, 0, 0, 0, 0, 0, 0, 0, 0, 0, 0, 1],\n",
    "          'BLUES_CONTEMPORARY':  [0, 0, 0, 0, 0, 0, 0, 0, 0, 0, 0, 0, 0, 0, 0, 0, 0, 0, 0, 0, 0, 0, 0, 1, 0],\n",
    "          'COUNTRY_TRADITIONAL': [0, 0, 0, 0, 0, 0, 0, 0, 0, 0, 0, 0, 0, 0, 0, 0, 0, 0, 0, 0, 0, 0, 1, 0, 0],\n",
    "          'DANCE':               [0, 0, 0, 0, 0, 0, 0, 0, 0, 0, 0, 0, 0, 0, 0, 0, 0, 0, 0, 0, 0, 1, 0, 0, 0],\n",
    "          'ELECTRONICA':         [0, 0, 0, 0, 0, 0, 0, 0, 0, 0, 0, 0, 0, 0, 0, 0, 0, 0, 0, 0, 1, 0, 0, 0, 0],\n",
    "          'EXPERIMENTAL':        [0, 0, 0, 0, 0, 0, 0, 0, 0, 0, 0, 0, 0, 0, 0, 0, 0, 0, 0, 1, 0, 0, 0, 0, 0],\n",
    "          'FOLK_INTERNATIONAL':  [0, 0, 0, 0, 0, 0, 0, 0, 0, 0, 0, 0, 0, 0, 0, 0, 0, 0, 1, 0, 0, 0, 0, 0, 0],\n",
    "          'GOSPEL':              [0, 0, 0, 0, 0, 0, 0, 0, 0, 0, 0, 0, 0, 0, 0, 0, 0, 1, 0, 0, 0, 0, 0, 0, 0],\n",
    "          'GRUNGE_EMO':          [0, 0, 0, 0, 0, 0, 0, 0, 0, 0, 0, 0, 0, 0, 0, 0, 1, 0, 0, 0, 0, 0, 0, 0, 0],\n",
    "          'HIP_HOP_RAP':         [0, 0, 0, 0, 0, 0, 0, 0, 0, 0, 0, 0, 0, 0, 0, 1, 0, 0, 0, 0, 0, 0, 0, 0, 0],\n",
    "          'JAZZ_CLASSIC':        [0, 0, 0, 0, 0, 0, 0, 0, 0, 0, 0, 0, 0, 0, 1, 0, 0, 0, 0, 0, 0, 0, 0, 0, 0],\n",
    "          'METAL_ALTERNATIVE':   [0, 0, 0, 0, 0, 0, 0, 0, 0, 0, 0, 0, 0, 1, 0, 0, 0, 0, 0, 0, 0, 0, 0, 0, 0],\n",
    "          'METAL_DEATH':         [0, 0, 0, 0, 0, 0, 0, 0, 0, 0, 0, 0, 1, 0, 0, 0, 0, 0, 0, 0, 0, 0, 0, 0, 0],\n",
    "          'METAL_HEAVY':         [0, 0, 0, 0, 0, 0, 0, 0, 0, 0, 0, 1, 0, 0, 0, 0, 0, 0, 0, 0, 0, 0, 0, 0, 0],\n",
    "          'POP_CONTEMPORARY':    [0, 0, 0, 0, 0, 0, 0, 0, 0, 0, 1, 0, 0, 0, 0, 0, 0, 0, 0, 0, 0, 0, 0, 0, 0],\n",
    "          'POP_INDIE':           [0, 0, 0, 0, 0, 0, 0, 0, 0, 1, 0, 0, 0, 0, 0, 0, 0, 0, 0, 0, 0, 0, 0, 0, 0],\n",
    "          'POP_LATIN':           [0, 0, 0, 0, 0, 0, 0, 0, 1, 0, 0, 0, 0, 0, 0, 0, 0, 0, 0, 0, 0, 0, 0, 0, 0],\n",
    "          'PUNK':                [0, 0, 0, 0, 0, 0, 0, 1, 0, 0, 0, 0, 0, 0, 0, 0, 0, 0, 0, 0, 0, 0, 0, 0, 0],\n",
    "          'REGGAE':              [0, 0, 0, 0, 0, 0, 1, 0, 0, 0, 0, 0, 0, 0, 0, 0, 0, 0, 0, 0, 0, 0, 0, 0, 0],\n",
    "          'RNB_SOUL':            [0, 0, 0, 0, 0, 1, 0, 0, 0, 0, 0, 0, 0, 0, 0, 0, 0, 0, 0, 0, 0, 0, 0, 0, 0],\n",
    "          'ROCK_ALTERNATIVE':    [0, 0, 0, 0, 1, 0, 0, 0, 0, 0, 0, 0, 0, 0, 0, 0, 0, 0, 0, 0, 0, 0, 0, 0, 0],\n",
    "          'ROCK_COLLEGE':        [0, 0, 0, 1, 0, 0, 0, 0, 0, 0, 0, 0, 0, 0, 0, 0, 0, 0, 0, 0, 0, 0, 0, 0, 0],\n",
    "          'ROCK_CONTEMPORARY':   [0, 0, 1, 0, 0, 0, 0, 0, 0, 0, 0, 0, 0, 0, 0, 0, 0, 0, 0, 0, 0, 0, 0, 0, 0],\n",
    "          'ROCK_HARD':           [0, 1, 0, 0, 0, 0, 0, 0, 0, 0, 0, 0, 0, 0, 0, 0, 0, 0, 0, 0, 0, 0, 0, 0, 0],\n",
    "          'ROCK_NEO_PSYCHEDELIA':[1, 0, 0, 0, 0, 0, 0, 0, 0, 0, 0, 0, 0, 0, 0, 0, 0, 0, 0, 0, 0, 0, 0, 0, 0]}"
   ]
  },
  {
   "cell_type": "code",
   "execution_count": 6,
   "metadata": {},
   "outputs": [],
   "source": [
    "music_class_discrete_to_binary = {1:[0, 0, 0, 0, 0, 0, 0, 0, 0, 0, 0, 0, 0, 0, 0, 0, 0, 0, 0, 0, 0, 0, 0, 0, 1],\n",
    "                                  2:[0, 0, 0, 0, 0, 0, 0, 0, 0, 0, 0, 0, 0, 0, 0, 0, 0, 0, 0, 0, 0, 0, 0, 1, 0],\n",
    "                                  3:[0, 0, 0, 0, 0, 0, 0, 0, 0, 0, 0, 0, 0, 0, 0, 0, 0, 0, 0, 0, 0, 0, 1, 0, 0],\n",
    "                                  4:[0, 0, 0, 0, 0, 0, 0, 0, 0, 0, 0, 0, 0, 0, 0, 0, 0, 0, 0, 0, 0, 1, 0, 0, 0],\n",
    "                                  5:[0, 0, 0, 0, 0, 0, 0, 0, 0, 0, 0, 0, 0, 0, 0, 0, 0, 0, 0, 0, 1, 0, 0, 0, 0],\n",
    "                                  6:[0, 0, 0, 0, 0, 0, 0, 0, 0, 0, 0, 0, 0, 0, 0, 0, 0, 0, 0, 1, 0, 0, 0, 0, 0],\n",
    "                                  7:[0, 0, 0, 0, 0, 0, 0, 0, 0, 0, 0, 0, 0, 0, 0, 0, 0, 0, 1, 0, 0, 0, 0, 0, 0],\n",
    "                                  8:[0, 0, 0, 0, 0, 0, 0, 0, 0, 0, 0, 0, 0, 0, 0, 0, 0, 1, 0, 0, 0, 0, 0, 0, 0],\n",
    "                                  9:[0, 0, 0, 0, 0, 0, 0, 0, 0, 0, 0, 0, 0, 0, 0, 0, 1, 0, 0, 0, 0, 0, 0, 0, 0],\n",
    "                                 10:[0, 0, 0, 0, 0, 0, 0, 0, 0, 0, 0, 0, 0, 0, 0, 1, 0, 0, 0, 0, 0, 0, 0, 0, 0],\n",
    "                                 11:[0, 0, 0, 0, 0, 0, 0, 0, 0, 0, 0, 0, 0, 0, 1, 0, 0, 0, 0, 0, 0, 0, 0, 0, 0],\n",
    "                                 12:[0, 0, 0, 0, 0, 0, 0, 0, 0, 0, 0, 0, 0, 1, 0, 0, 0, 0, 0, 0, 0, 0, 0, 0, 0],\n",
    "                                 13:[0, 0, 0, 0, 0, 0, 0, 0, 0, 0, 0, 0, 1, 0, 0, 0, 0, 0, 0, 0, 0, 0, 0, 0, 0],\n",
    "                                 14:[0, 0, 0, 0, 0, 0, 0, 0, 0, 0, 0, 1, 0, 0, 0, 0, 0, 0, 0, 0, 0, 0, 0, 0, 0],\n",
    "                                 15:[0, 0, 0, 0, 0, 0, 0, 0, 0, 0, 1, 0, 0, 0, 0, 0, 0, 0, 0, 0, 0, 0, 0, 0, 0],\n",
    "                                 16:[0, 0, 0, 0, 0, 0, 0, 0, 0, 1, 0, 0, 0, 0, 0, 0, 0, 0, 0, 0, 0, 0, 0, 0, 0],\n",
    "                                 17:[0, 0, 0, 0, 0, 0, 0, 0, 1, 0, 0, 0, 0, 0, 0, 0, 0, 0, 0, 0, 0, 0, 0, 0, 0],\n",
    "                                 18:[0, 0, 0, 0, 0, 0, 0, 1, 0, 0, 0, 0, 0, 0, 0, 0, 0, 0, 0, 0, 0, 0, 0, 0, 0],\n",
    "                                 19:[0, 0, 0, 0, 0, 0, 1, 0, 0, 0, 0, 0, 0, 0, 0, 0, 0, 0, 0, 0, 0, 0, 0, 0, 0],\n",
    "                                 20:[0, 0, 0, 0, 0, 1, 0, 0, 0, 0, 0, 0, 0, 0, 0, 0, 0, 0, 0, 0, 0, 0, 0, 0, 0],\n",
    "                                 21:[0, 0, 0, 0, 1, 0, 0, 0, 0, 0, 0, 0, 0, 0, 0, 0, 0, 0, 0, 0, 0, 0, 0, 0, 0],\n",
    "                                 22:[0, 0, 0, 1, 0, 0, 0, 0, 0, 0, 0, 0, 0, 0, 0, 0, 0, 0, 0, 0, 0, 0, 0, 0, 0],\n",
    "                                 23:[0, 0, 1, 0, 0, 0, 0, 0, 0, 0, 0, 0, 0, 0, 0, 0, 0, 0, 0, 0, 0, 0, 0, 0, 0],\n",
    "                                 24:[0, 1, 0, 0, 0, 0, 0, 0, 0, 0, 0, 0, 0, 0, 0, 0, 0, 0, 0, 0, 0, 0, 0, 0, 0],\n",
    "                                 25:[1, 0, 0, 0, 0, 0, 0, 0, 0, 0, 0, 0, 0, 0, 0, 0, 0, 0, 0, 0, 0, 0, 0, 0, 0]}"
   ]
  },
  {
   "cell_type": "code",
   "execution_count": 7,
   "metadata": {},
   "outputs": [],
   "source": [
    "music_class = {'BIG_BAND':1,\n",
    "          'BLUES_CONTEMPORARY':2,\n",
    "          'COUNTRY_TRADITIONAL':3,\n",
    "          'DANCE':4,\n",
    "          'ELECTRONICA':5,\n",
    "          'EXPERIMENTAL':6,\n",
    "          'FOLK_INTERNATIONAL':7,\n",
    "          'GOSPEL':8,\n",
    "          'GRUNGE_EMO':9,\n",
    "          'HIP_HOP_RAP':10,\n",
    "          'JAZZ_CLASSIC':11,\n",
    "          'METAL_ALTERNATIVE':12,\n",
    "          'METAL_DEATH':13,\n",
    "          'METAL_HEAVY':14,\n",
    "          'POP_CONTEMPORARY':15,\n",
    "          'POP_INDIE':16,\n",
    "          'POP_LATIN':17,\n",
    "          'PUNK':18,\n",
    "          'REGGAE':19,\n",
    "          'RNB_SOUL':20,\n",
    "          'ROCK_ALTERNATIVE':21,\n",
    "          'ROCK_COLLEGE':22,\n",
    "          'ROCK_CONTEMPORARY':23,\n",
    "          'ROCK_HARD':24,\n",
    "          'ROCK_NEO_PSYCHEDELIA':25}"
   ]
  },
  {
   "cell_type": "code",
   "execution_count": 8,
   "metadata": {},
   "outputs": [],
   "source": [
    "#Custom metrics function to calculate the F1 score\n",
    "def f1(y_true, y_pred):\n",
    "    def recall(y_true, y_pred):\n",
    "        \"\"\"Recall metric.\n",
    "\n",
    "        Only computes a batch-wise average of recall.\n",
    "\n",
    "        Computes the recall, a metric for multi-label classification of\n",
    "        how many relevant items are selected.\n",
    "        \"\"\"\n",
    "        true_positives = K.sum(K.round(K.clip(y_true * y_pred, 0, 1)))\n",
    "        possible_positives = K.sum(K.round(K.clip(y_true, 0, 1)))\n",
    "        recall = true_positives / (possible_positives + K.epsilon())\n",
    "        return recall\n",
    "\n",
    "    def precision(y_true, y_pred):\n",
    "        \"\"\"Precision metric.\n",
    "\n",
    "        Only computes a batch-wise average of precision.\n",
    "\n",
    "        Computes the precision, a metric for multi-label classification of\n",
    "        how many selected items are relevant.\n",
    "        \"\"\"\n",
    "        true_positives = K.sum(K.round(K.clip(y_true * y_pred, 0, 1)))\n",
    "        predicted_positives = K.sum(K.round(K.clip(y_pred, 0, 1)))\n",
    "        precision = true_positives / (predicted_positives + K.epsilon())\n",
    "        return precision\n",
    "    precision = precision(y_true, y_pred)\n",
    "    recall = recall(y_true, y_pred)\n",
    "    return 2*((precision*recall)/(precision+recall+K.epsilon()))"
   ]
  },
  {
   "cell_type": "code",
   "execution_count": 9,
   "metadata": {},
   "outputs": [],
   "source": [
    "from sklearn.discriminant_analysis import LinearDiscriminantAnalysis\n",
    "def select_n_components(var_ratio, goal_var: float) -> int:\n",
    "    # Set initial variance explained so far\n",
    "    total_variance = 0.0\n",
    "    \n",
    "    # Set initial number of features\n",
    "    n_components = 0\n",
    "    \n",
    "    # For the explained variance of each feature:\n",
    "    for explained_variance in var_ratio:\n",
    "        \n",
    "        # Add the explained variance to the total\n",
    "        total_variance += explained_variance\n",
    "        \n",
    "        # Add one to the number of components\n",
    "        n_components += 1\n",
    "        \n",
    "        # If we reach our goal level of explained variance\n",
    "        if total_variance >= goal_var:\n",
    "            # End the loop\n",
    "            break\n",
    "            \n",
    "    # Return the number of components\n",
    "    return n_components"
   ]
  },
  {
   "cell_type": "code",
   "execution_count": 10,
   "metadata": {},
   "outputs": [],
   "source": [
    "def CreateMultiPerceptron(nb_layers,nb_perceptron,nb_iteration,learning_rate,nb_essai,path):\n",
    "    \n",
    "    \n",
    "    #Extraire les données des ensembles \n",
    "    dataset = read_csv(path)\n",
    "    dataset.head()\n",
    "    #print(dataset.shape[1])\n",
    "    labels = dataset.loc[:,dataset.columns == (dataset.shape[1]-1)]\n",
    "    labels = labels.to_numpy()\n",
    "    y = []\n",
    "    y_u = []\n",
    "    for e in labels:\n",
    "        y.append(music_class[e[0]])\n",
    "    \n",
    "    dataset = dataset.drop([0,1,(dataset.shape[1]-1)],axis=1)\n",
    "    \n",
    "    X = dataset.to_numpy()\n",
    "    y = np.array(y)\n",
    "    \n",
    "    #Create a Multinomial Classifier\n",
    "    mlt = MultinomialNB()\n",
    "    \n",
    "    #Train the classifier over all the samples\n",
    "    mlt.fit(abs(X),y)\n",
    "    \n",
    "    X_train, X_test, y_train, y_test = train_test_split(X, y, test_size=0.20)\n",
    "    \n",
    "    #Predict probabilities which will become new features over each data set\n",
    "    nf_train = mlt.predict_proba(X_train)\n",
    "    nf_test = mlt.predict_proba(X_test)\n",
    "    \n",
    "    # scale the data : réduire le execution time\n",
    "    scaling = MinMaxScaler(feature_range=(-1,1)).fit(X_train)\n",
    "    X_train = scaling.transform(X_train)\n",
    "    X_test = scaling.transform(X_test)\n",
    "    \n",
    "    #Add of new features \n",
    "    X_train = np.concatenate((X_train,nf_train),axis=1)\n",
    "    X_test = np.concatenate((X_test,nf_test),axis=1)\n",
    "    \n",
    "    y_train_binary = []\n",
    "    for e in y_train:\n",
    "        y_train_binary.append(music_class_discrete_to_binary[e])\n",
    "    \n",
    "    y_train_binary = np.array(y_train_binary)\n",
    "    \n",
    "\n",
    "        \n",
    "    y_test_binary = []\n",
    "    for e in y_test:\n",
    "        y_test_binary.append(music_class_discrete_to_binary[e])\n",
    "        \n",
    "    y_test_binary = np.array(y_test_binary)\n",
    "    y_test = y_test_binary\n",
    "    \n",
    "    X_train, X_val, y_train, y_val = train_test_split(X_train, y_train, test_size=0.20)\n",
    "    #X_val = scaling.transform(X_val)\n",
    "    \n",
    "    def NNmodel():\n",
    "        #Create the model \n",
    "        model = Sequential()\n",
    "        #First hidden layer with specified number of percpetrons \n",
    "        model.add(Dense(units=nb_perceptron, activation='relu', input_dim = X_train.shape[1]))\n",
    "    \n",
    "        for i in range(nb_layers-1):\n",
    "            #Next hidden layers with specified number of percpetrons \n",
    "            model.add(Dense(units=nb_perceptron, activation='relu'))\n",
    "    \n",
    "        #Last layer, the activation layer with 2 outputs\n",
    "        model.add(Dense(units = 25, activation='softmax'))\n",
    "    \n",
    "        #Compile the model\n",
    "        sgd = SGD(lr=learning_rate)\n",
    "        model.compile(loss='categorical_crossentropy',\n",
    "                      optimizer='adam',\n",
    "                      metrics=['accuracy'])\n",
    "        return model\n",
    "    \n",
    "    # Wrap the model to a sklearn classifier\n",
    "    ann_estimator = KerasClassifier(build_fn=NNmodel, epochs=100, batch_size=100, verbose=0)\n",
    "    print(ann_estimator)\n",
    "    \n",
    "    # Booster\n",
    "    abc =AdaBoostClassifier(n_estimators=20, base_estimator=ann_estimator,learning_rate=1)\n",
    "    \n",
    "    print(abc)\n",
    "    \n",
    "    # Train the model \n",
    "    classifier = abc.fit(X_train, y_train)\n",
    "    \n",
    "    # Evaluate the model with the evaluation set\n",
    "    print(classifier.score(X_val,y_val))\n",
    "    \n",
    "    #Predict probabilities on the test set\n",
    "    print(classifier.predict_proba(X_test))\n"
   ]
  },
  {
   "cell_type": "code",
   "execution_count": 11,
   "metadata": {},
   "outputs": [
    {
     "name": "stdout",
     "output_type": "stream",
     "text": [
      "<keras.wrappers.scikit_learn.KerasClassifier object at 0x7f7de979be80>\n",
      "AdaBoostClassifier(algorithm='SAMME.R',\n",
      "                   base_estimator=<keras.wrappers.scikit_learn.KerasClassifier object at 0x7f7de979be80>,\n",
      "                   learning_rate=1, n_estimators=20, random_state=None)\n",
      "WARNING:tensorflow:From /home/adrien/anaconda3/envs/GPI770/lib/python3.7/site-packages/tensorflow/python/ops/resource_variable_ops.py:435: colocate_with (from tensorflow.python.framework.ops) is deprecated and will be removed in a future version.\n",
      "Instructions for updating:\n",
      "Colocations handled automatically by placer.\n",
      "WARNING:tensorflow:From /home/adrien/anaconda3/envs/GPI770/lib/python3.7/site-packages/tensorflow/python/ops/math_ops.py:3066: to_int32 (from tensorflow.python.ops.math_ops) is deprecated and will be removed in a future version.\n",
      "Instructions for updating:\n",
      "Use tf.cast instead.\n",
      "0.20261756413380208\n",
      "[[0.0317498  0.04122621 0.0395401  ... 0.04121357 0.04211833 0.04065353]\n",
      " [0.02912108 0.04026083 0.03945506 ... 0.04221473 0.03855687 0.03981974]\n",
      " [0.03754312 0.03983367 0.04289165 ... 0.04472034 0.03977402 0.03924274]\n",
      " ...\n",
      " [0.02751727 0.03568547 0.04366308 ... 0.04478538 0.0438236  0.04285313]\n",
      " [0.03532062 0.0372031  0.0383755  ... 0.04450198 0.03720059 0.03757066]\n",
      " [0.03677392 0.03609029 0.03944074 ... 0.04256878 0.03698551 0.04177551]]\n"
     ]
    }
   ],
   "source": [
    "K.clear_session()\n",
    "# Avec les paramètres par défaut donnés dans l'ennoncé\n",
    "CreateMultiPerceptron(4,100,100,0.0005,1,\"../music/music/tagged_feature_sets/msd-jmirmoments_dev/msd-jmirmoments_dev.csv\") "
   ]
  },
  {
   "cell_type": "code",
   "execution_count": 12,
   "metadata": {},
   "outputs": [
    {
     "name": "stdout",
     "output_type": "stream",
     "text": [
      "<keras.wrappers.scikit_learn.KerasClassifier object at 0x7f7d8b305898>\n",
      "AdaBoostClassifier(algorithm='SAMME.R',\n",
      "                   base_estimator=<keras.wrappers.scikit_learn.KerasClassifier object at 0x7f7d8b305898>,\n",
      "                   learning_rate=1, n_estimators=20, random_state=None)\n",
      "0.21859445159942914\n",
      "[[0.03425213 0.0381457  0.0364705  ... 0.04376265 0.04300454 0.03916665]\n",
      " [0.03705482 0.04071675 0.04021649 ... 0.04193074 0.04076656 0.03951798]\n",
      " [0.04417397 0.04678899 0.04742512 ... 0.04030148 0.03980199 0.03902633]\n",
      " ...\n",
      " [0.02918827 0.03292637 0.02953009 ... 0.04049801 0.03489162 0.04109192]\n",
      " [0.03867232 0.04485514 0.04405876 ... 0.04180217 0.03891942 0.03927366]\n",
      " [0.03554738 0.03445759 0.0351647  ... 0.03975981 0.04383855 0.04216306]]\n"
     ]
    }
   ],
   "source": [
    "K.clear_session()\n",
    "# Avec les paramètres par défaut donnés dans l'ennoncé\n",
    "CreateMultiPerceptron(4,100,100,0.0005,2,\"../music/music/tagged_feature_sets/msd-mvd_dev/msd-mvd_dev.csv\") "
   ]
  },
  {
   "cell_type": "code",
   "execution_count": 13,
   "metadata": {},
   "outputs": [
    {
     "name": "stdout",
     "output_type": "stream",
     "text": [
      "<keras.wrappers.scikit_learn.KerasClassifier object at 0x7f7d8b353ba8>\n",
      "AdaBoostClassifier(algorithm='SAMME.R',\n",
      "                   base_estimator=<keras.wrappers.scikit_learn.KerasClassifier object at 0x7f7d8b353ba8>,\n",
      "                   learning_rate=1, n_estimators=20, random_state=None)\n",
      "0.27947370253054404\n",
      "[[0.02865175 0.03598478 0.03337465 ... 0.04054016 0.03761104 0.04232362]\n",
      " [0.01356393 0.02657204 0.02378183 ... 0.03790942 0.0521225  0.04602081]\n",
      " [0.0369859  0.04002842 0.03936211 ... 0.04218125 0.0401241  0.03955798]\n",
      " ...\n",
      " [0.04037586 0.04092002 0.04083877 ... 0.04264611 0.03984198 0.0379307 ]\n",
      " [0.03164987 0.03752388 0.03615721 ... 0.04249254 0.03867771 0.03807607]\n",
      " [0.03426087 0.03944104 0.04933915 ... 0.04826173 0.0402873  0.04101083]]\n"
     ]
    }
   ],
   "source": [
    "K.clear_session()\n",
    "# Avec les paramètres par défaut donnés dans l'ennoncé\n",
    "CreateMultiPerceptron(4,100,100,0.0005,3,\"../music/music/tagged_feature_sets/msd-ssd_dev/msd-ssd_dev.csv\") "
   ]
  },
  {
   "cell_type": "code",
   "execution_count": 14,
   "metadata": {},
   "outputs": [
    {
     "name": "stdout",
     "output_type": "stream",
     "text": [
      "<keras.wrappers.scikit_learn.KerasClassifier object at 0x7f7de86fce48>\n",
      "AdaBoostClassifier(algorithm='SAMME.R',\n",
      "                   base_estimator=<keras.wrappers.scikit_learn.KerasClassifier object at 0x7f7de86fce48>,\n",
      "                   learning_rate=1, n_estimators=20, random_state=None)\n",
      "0.22691357165233736\n",
      "[[0.03182737 0.04014064 0.03507175 ... 0.04012851 0.04520964 0.04473094]\n",
      " [0.04191728 0.04190161 0.04367587 ... 0.04288842 0.04218218 0.03855312]\n",
      " [0.03876364 0.03873907 0.03993273 ... 0.04036192 0.03808622 0.03981193]\n",
      " ...\n",
      " [0.0401637  0.04006188 0.04244556 ... 0.04363441 0.03872839 0.03752561]\n",
      " [0.01675366 0.03525646 0.03031783 ... 0.03886641 0.04600069 0.04875187]\n",
      " [0.01941987 0.03695688 0.04113671 ... 0.04551117 0.04159952 0.04364266]]\n"
     ]
    }
   ],
   "source": [
    "K.clear_session()\n",
    "# Avec les paramètres par défaut donnés dans l'ennoncé\n",
    "CreateMultiPerceptron(4,100,100,0.0005,4,\"../music/music/tagged_feature_sets/msd-jmirspectral_dev/msd-jmirspectral_dev.csv\") "
   ]
  },
  {
   "cell_type": "code",
   "execution_count": 15,
   "metadata": {},
   "outputs": [
    {
     "name": "stdout",
     "output_type": "stream",
     "text": [
      "<keras.wrappers.scikit_learn.KerasClassifier object at 0x7f7da90cc550>\n",
      "AdaBoostClassifier(algorithm='SAMME.R',\n",
      "                   base_estimator=<keras.wrappers.scikit_learn.KerasClassifier object at 0x7f7da90cc550>,\n",
      "                   learning_rate=1, n_estimators=20, random_state=None)\n",
      "0.24839012844164432\n",
      "[[0.03120168 0.0357808  0.03394999 ... 0.03942173 0.04315575 0.04263301]\n",
      " [0.04067428 0.03870965 0.04243203 ... 0.0457781  0.03960187 0.0366    ]\n",
      " [0.03796263 0.04456737 0.04748574 ... 0.0431733  0.04183703 0.04046747]\n",
      " ...\n",
      " [0.04191867 0.04361357 0.04482503 ... 0.04359871 0.03786989 0.03770477]\n",
      " [0.03509691 0.03724052 0.03579654 ... 0.03922879 0.04009061 0.04113207]\n",
      " [0.03752639 0.03719176 0.04292405 ... 0.04601064 0.04158374 0.03888091]]\n"
     ]
    }
   ],
   "source": [
    "K.clear_session()\n",
    "# Avec les paramètres par défaut donnés dans l'ennoncé\n",
    "CreateMultiPerceptron(4,100,100,0.0005,5,\"../music/music/tagged_feature_sets/msd-jmirmfccs_dev/msd-jmirmfccs_dev.csv\") "
   ]
  },
  {
   "cell_type": "code",
   "execution_count": 16,
   "metadata": {},
   "outputs": [
    {
     "name": "stdout",
     "output_type": "stream",
     "text": [
      "<keras.wrappers.scikit_learn.KerasClassifier object at 0x7f7db0f28550>\n",
      "AdaBoostClassifier(algorithm='SAMME.R',\n",
      "                   base_estimator=<keras.wrappers.scikit_learn.KerasClassifier object at 0x7f7db0f28550>,\n",
      "                   learning_rate=1, n_estimators=20, random_state=None)\n",
      "0.1972223189112047\n",
      "[[0.03506139 0.03757308 0.03918585 ... 0.04119702 0.03961033 0.04012604]\n",
      " [0.03516421 0.03550563 0.03425445 ... 0.03981683 0.03580531 0.03806619]\n",
      " [0.03526708 0.03486896 0.03677945 ... 0.0394219  0.04417843 0.04445865]\n",
      " ...\n",
      " [0.03572103 0.03753337 0.03878644 ... 0.04179045 0.04309632 0.04133872]\n",
      " [0.03495098 0.03698491 0.03826653 ... 0.040312   0.04272375 0.04103174]\n",
      " [0.03793533 0.03751571 0.03814856 ... 0.04077621 0.04260552 0.04043864]]\n"
     ]
    }
   ],
   "source": [
    "K.clear_session()\n",
    "# Avec les paramètres par défaut donnés dans l'ennoncé\n",
    "CreateMultiPerceptron(4,100,100,0.0005,6,\"../music/music/tagged_feature_sets/msd-trh_dev/msd-trh_dev.csv\") "
   ]
  },
  {
   "cell_type": "code",
   "execution_count": 17,
   "metadata": {},
   "outputs": [
    {
     "name": "stdout",
     "output_type": "stream",
     "text": [
      "<keras.wrappers.scikit_learn.KerasClassifier object at 0x7f7db27e77b8>\n",
      "AdaBoostClassifier(algorithm='SAMME.R',\n",
      "                   base_estimator=<keras.wrappers.scikit_learn.KerasClassifier object at 0x7f7db27e77b8>,\n",
      "                   learning_rate=1, n_estimators=20, random_state=None)\n",
      "0.20738626474990426\n",
      "[[0.02219773 0.03689742 0.03323878 ... 0.04286561 0.04498072 0.04514116]\n",
      " [0.03381842 0.04076989 0.04091403 ... 0.04394509 0.0372588  0.03832363]\n",
      " [0.02987803 0.03535466 0.03344022 ... 0.04179773 0.03848175 0.03799439]\n",
      " ...\n",
      " [0.01674473 0.03645803 0.03578417 ... 0.04187637 0.04295592 0.04374526]\n",
      " [0.04110946 0.03928731 0.04483685 ... 0.04405297 0.04033566 0.03957945]\n",
      " [0.00868103 0.02955407 0.03690948 ... 0.04297516 0.04778468 0.04826196]]\n"
     ]
    }
   ],
   "source": [
    "K.clear_session()\n",
    "# Avec les paramètres par défaut donnés dans l'ennoncé\n",
    "CreateMultiPerceptron(4,100,100,0.0005,7,\"../music/music/tagged_feature_sets/msd-jmirlpc_dev/msd-jmirlpc_dev.csv\") "
   ]
  },
  {
   "cell_type": "code",
   "execution_count": 18,
   "metadata": {},
   "outputs": [
    {
     "name": "stdout",
     "output_type": "stream",
     "text": [
      "<keras.wrappers.scikit_learn.KerasClassifier object at 0x7f7de0825c50>\n",
      "AdaBoostClassifier(algorithm='SAMME.R',\n",
      "                   base_estimator=<keras.wrappers.scikit_learn.KerasClassifier object at 0x7f7de0825c50>,\n",
      "                   learning_rate=1, n_estimators=20, random_state=None)\n",
      "0.20345295694246232\n",
      "[[0.03485678 0.03941104 0.04161539 ... 0.04298908 0.04298418 0.04089362]\n",
      " [0.03328882 0.03621326 0.03713298 ... 0.04131748 0.04452484 0.04247165]\n",
      " [0.03711736 0.04007526 0.04056794 ... 0.04255657 0.04255452 0.04114464]\n",
      " ...\n",
      " [0.04031244 0.04033343 0.03785891 ... 0.04151445 0.0420587  0.03850435]\n",
      " [0.04266537 0.03794292 0.03909227 ... 0.04153842 0.04000253 0.03810214]\n",
      " [0.02754778 0.03584889 0.0379201  ... 0.03942608 0.03816168 0.03880836]]\n"
     ]
    }
   ],
   "source": [
    "K.clear_session()\n",
    "# Avec les paramètres par défaut donnés dans l'ennoncé\n",
    "CreateMultiPerceptron(4,100,100,0.0005,8,\"../music/music/tagged_feature_sets/msd-rh_dev_new/msd-rh_dev_new.csv\") "
   ]
  },
  {
   "cell_type": "code",
   "execution_count": 19,
   "metadata": {},
   "outputs": [
    {
     "name": "stdout",
     "output_type": "stream",
     "text": [
      "<keras.wrappers.scikit_learn.KerasClassifier object at 0x7f7da8fa6320>\n",
      "AdaBoostClassifier(algorithm='SAMME.R',\n",
      "                   base_estimator=<keras.wrappers.scikit_learn.KerasClassifier object at 0x7f7da8fa6320>,\n",
      "                   learning_rate=1, n_estimators=20, random_state=None)\n",
      "0.24417835636464896\n",
      "[[0.04135463 0.03854344 0.04009398 ... 0.04134388 0.04065016 0.03723196]\n",
      " [0.03856737 0.03941206 0.04108904 ... 0.04374951 0.03970733 0.03883637]\n",
      " [0.02523227 0.03060459 0.03347445 ... 0.03898767 0.04620655 0.04832058]\n",
      " ...\n",
      " [0.03641636 0.03368    0.03606024 ... 0.03808431 0.04173361 0.03934694]\n",
      " [0.03898559 0.04192912 0.04351828 ... 0.04270957 0.04476198 0.04138329]\n",
      " [0.04065322 0.04464823 0.04535447 ... 0.04241782 0.04152301 0.04047702]]\n"
     ]
    }
   ],
   "source": [
    "K.clear_session()\n",
    "# Avec les paramètres par défaut donnés dans l'ennoncé\n",
    "CreateMultiPerceptron(4,100,100,0.0005,9,\"../music/music/tagged_feature_sets/msd-jmirderivatives_dev/msd-jmirderivatives_dev.csv\") "
   ]
  },
  {
   "cell_type": "code",
   "execution_count": 20,
   "metadata": {},
   "outputs": [
    {
     "name": "stdout",
     "output_type": "stream",
     "text": [
      "<keras.wrappers.scikit_learn.KerasClassifier object at 0x7f7da8f0d5f8>\n",
      "AdaBoostClassifier(algorithm='SAMME.R',\n",
      "                   base_estimator=<keras.wrappers.scikit_learn.KerasClassifier object at 0x7f7da8f0d5f8>,\n",
      "                   learning_rate=1, n_estimators=20, random_state=None)\n",
      "0.29733022381565666\n",
      "[[0.02607014 0.03754315 0.02031643 ... 0.04527919 0.03697492 0.04042697]\n",
      " [0.03363452 0.03534659 0.02371545 ... 0.04087685 0.03601095 0.04128943]\n",
      " [0.037957   0.03652116 0.04388709 ... 0.04485347 0.04137759 0.03790905]\n",
      " ...\n",
      " [0.02749497 0.03726337 0.0334862  ... 0.04505579 0.04443882 0.0458889 ]\n",
      " [0.03890644 0.03853813 0.03975396 ... 0.04629489 0.03769147 0.03913579]\n",
      " [0.03668422 0.03550275 0.03408514 ... 0.04006765 0.04540097 0.04614352]]\n"
     ]
    }
   ],
   "source": [
    "K.clear_session()\n",
    "# Avec les paramètres par défaut donnés dans l'ennoncé\n",
    "CreateMultiPerceptron(4,100,100,0.0005,10,\"../music/music/tagged_feature_sets/msd-marsyas_dev_new/msd-marsyas_dev_new.csv\") "
   ]
  },
  {
   "cell_type": "code",
   "execution_count": null,
   "metadata": {},
   "outputs": [],
   "source": []
  }
 ],
 "metadata": {
  "kernelspec": {
   "display_name": "Python 3",
   "language": "python",
   "name": "python3"
  },
  "language_info": {
   "codemirror_mode": {
    "name": "ipython",
    "version": 3
   },
   "file_extension": ".py",
   "mimetype": "text/x-python",
   "name": "python",
   "nbconvert_exporter": "python",
   "pygments_lexer": "ipython3",
   "version": "3.7.3"
  }
 },
 "nbformat": 4,
 "nbformat_minor": 2
}
