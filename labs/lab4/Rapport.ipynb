{
 "cells": [
  {
   "cell_type": "markdown",
   "metadata": {},
   "source": [
    "# Laboratoire 4 - Systèmes intelligents et apprentissage machine \n",
    "#### Département du génie logiciel et des technologies de l’information\n",
    "\n",
    "| Étudiants             | LACAVE LACG14129705, ST-GERMAIN STGA15029404, BOPPE BOPA08069701  |\n",
    "|-----------------------|---------------------------------------------------------|\n",
    "| Cours                 | GTI770 - Systèmes intelligents et apprentissage machine |\n",
    "| Session               | AUTOMNE 2019                                            |\n",
    "| Groupe                | 6                                                       |\n",
    "| Numéro du laboratoire | 4                                                       |\n",
    "| Professeur            | Prof.  Jose Dolz                                               |\n",
    "| Chargé de laboratoire | Le Thanh Nguyen-Meidine                                                     |\n",
    "| Date                  | 18/12/2019                                                    |"
   ]
  },
  {
   "cell_type": "markdown",
   "metadata": {},
   "source": [
    "### Question 1\n",
    "Avec les liens fournis en l’annexe de cet énoncé et avec vos trouvailles faites sur\n",
    "Internet par le biais de vos recherches personnelles, faites, à titre d’introduction, une\n",
    "revue de la littérature. Expliquez en quelques paragraphes comment nous réussissons\n",
    "aujourd’hui à classifier différents sons et pièces musicales automatiquement afin de\n",
    "bien comprendre le sujet sur lequel vous travaillez."
   ]
  },
  {
   "cell_type": "markdown",
   "metadata": {},
   "source": []
  },
  {
   "cell_type": "markdown",
   "metadata": {},
   "source": [
    "### Question 2\n",
    "Quelle est la configuration (machine, matériel, versions logiciel) de votre\n",
    "environnement? Quelle a été votre approche de partitionnement des données? Quels\n",
    "ensembles de primitives avez-vous choisis? Quelle méthode de validation avez-vous\n",
    "utilisée afin de confectionner vos modèles? Quelles étapes supplémentaires avez-vous\n",
    "eu à effectuer en prétraitement (normalisation, balancement, réduction de\n",
    "dimensionnalité, etc.)?"
   ]
  },
  {
   "cell_type": "markdown",
   "metadata": {},
   "source": [
    "Pour le laboratoire nous avons diviser les données 80/20, donc 80% pour l'entrainement et 20% pour les tests. Nous avons aussi fait une normalisation des données avec un MinMax avec un intervalle de -1 a 1.Les primitives n'ont pas été modifier donc elles sont celle qui sont par défaut dans les ensembles de données."
   ]
  },
  {
   "cell_type": "markdown",
   "metadata": {},
   "source": [
    "### Question 3\n",
    "Quels sont les trois modèles d’apprentissage que vous avez décidé d’étudier à titre de\n",
    "classificateur de base? Exprimez les raisons qui vous ont mené à un tel choix. Si vous\n",
    "avez décidé d’implémenter un réseau de neurones, décrivez la structure de votre\n",
    "modèle d’apprentissage par réseau de neurones. Ajoutez tous graphiques ou\n",
    "représentation pertinente afin de décrire votre modèle, par exemple, un graphe\n",
    "_TensorBoard_ si applicable ou un texte descriptif."
   ]
  },
  {
   "cell_type": "markdown",
   "metadata": {},
   "source": [
    "Nous avons choisi le réseau de neurone avec différent ensemble d'apprentissage. Un total de 10 modèle on été faits."
   ]
  },
  {
   "cell_type": "markdown",
   "metadata": {},
   "source": [
    "### Question 4\n",
    "Pour vos trois modèles, présentez les hyperparamètres d’apprentissage et les\n",
    "ensembles de données utilisées ayant menés à votre meilleur résultat de précision\n",
    "(_accuracy_) et _F-measure_. Comment ces classificateurs ont-ils performés sur cet\n",
    "ensemble de données? Discutez des résultats"
   ]
  },
  {
   "cell_type": "markdown",
   "metadata": {},
   "source": [
    "Tout les réseaux de neurones on 4 couches, 100 perceptrons par couche, 100 itération et un taux d'apprendissage de 0.005.\n",
    "\n",
    "Ensemble de données utiliser: \n",
    "- msd-jmirmoments_dev\n",
    "- msd-mvd_dev\n",
    "- msd-ssd_dev\n",
    "- msd-jmirspectral_dev\n",
    "- msd-jmirmfccs_dev\n",
    "- msd-trh_dev\n",
    "- msd-jmirlpc_dev\n",
    "- msd-rh_dev_new\n",
    "- msd-jmirderivatives_dev\n",
    "- msd-marsyas_dev_new"
   ]
  },
  {
   "cell_type": "markdown",
   "metadata": {},
   "source": [
    "### Question 5\n",
    "Présentez la conception de votre solution finale au problème (votre solution reposant\n",
    "sur la théorie des ensembles). Présentez ici le diagramme nécessaire afin de présenter\n",
    "convenablement votre combinaison de modèles, les ensembles de primitives choisies\n",
    "ainsi que la stratégie de combinaison. Faites une discussion expliquant vos décisions\n",
    "de conception. Faites des liens avec l’implémentation et présentez le code clé de celle-ci."
   ]
  },
  {
   "cell_type": "markdown",
   "metadata": {},
   "source": [
    "Diagramme pour montrer: combinaison modèle\n",
    "\n",
    "ensemble primitives choisi\n",
    "\n",
    "Stratégie de combinaison"
   ]
  },
  {
   "cell_type": "markdown",
   "metadata": {},
   "source": [
    "### Question 6\n",
    "Consignez dans un tableau les hyperparamètres finaux de vos modèles faisant partie\n",
    "de votre ensemble. Présentez le score de précision (_accuracy_) et F1 final de votre\n",
    "ensemble. Présentez une discussion faisant l’analyse des résultats de votre système\n",
    "final. Décrivez les problèmes et difficultés rencontrées. Décrivez les performances de\n",
    "votre ensemble et tentez d’expliquer ces résultats."
   ]
  },
  {
   "cell_type": "markdown",
   "metadata": {},
   "source": []
  },
  {
   "cell_type": "markdown",
   "metadata": {},
   "source": [
    "### Question 7\n",
    "Formulez quelques pistes d’amélioration de la solution développée. "
   ]
  },
  {
   "cell_type": "markdown",
   "metadata": {},
   "source": []
  }
 ],
 "metadata": {
  "kernelspec": {
   "display_name": "Python 3",
   "language": "python",
   "name": "python3"
  },
  "language_info": {
   "codemirror_mode": {
    "name": "ipython",
    "version": 3
   },
   "file_extension": ".py",
   "mimetype": "text/x-python",
   "name": "python",
   "nbconvert_exporter": "python",
   "pygments_lexer": "ipython3",
   "version": "3.7.3"
  }
 },
 "nbformat": 4,
 "nbformat_minor": 2
}
