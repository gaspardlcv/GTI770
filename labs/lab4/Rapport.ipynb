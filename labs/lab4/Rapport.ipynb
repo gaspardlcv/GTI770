{
 "cells": [
  {
   "cell_type": "markdown",
   "metadata": {},
   "source": [
    "# Laboratoire 4 - Systèmes intelligents et apprentissage machine \n",
    "#### Département du génie logiciel et des technologies de l’information\n",
    "\n",
    "| Étudiants             | LACAVE LACG14129705, ST-GERMAIN STGA15029404, BOPPE BOPA08069701  |\n",
    "|-----------------------|---------------------------------------------------------|\n",
    "| Cours                 | GTI770 - Systèmes intelligents et apprentissage machine |\n",
    "| Session               | AUTOMNE 2019                                            |\n",
    "| Groupe                | 6                                                       |\n",
    "| Numéro du laboratoire | 4                                                       |\n",
    "| Professeur            | Prof.  Jose Dolz                                               |\n",
    "| Chargé de laboratoire | Le Thanh Nguyen-Meidine                                                     |\n",
    "| Date                  | 18/12/2019                                                    |"
   ]
  },
  {
   "cell_type": "markdown",
   "metadata": {},
   "source": [
    "### Question 1\n",
    "Avec les liens fournis en l’annexe de cet énoncé et avec vos trouvailles faites sur\n",
    "Internet par le biais de vos recherches personnelles, faites, à titre d’introduction, une\n",
    "revue de la littérature. Expliquez en quelques paragraphes comment nous réussissons\n",
    "aujourd’hui à classifier différents sons et pièces musicales automatiquement afin de\n",
    "bien comprendre le sujet sur lequel vous travaillez."
   ]
  },
  {
   "cell_type": "markdown",
   "metadata": {},
   "source": [
    "Les compagnies de streaming musical utilisent constamment la classification de musique pour améliorer l'expérience utilisateur sur leur plateforme. Le Machine a pour cela été prouvé comme un outil très utile pour analyser les comportements musicaux sur des grandes plages de données. Le son est représenté comme un signal audio qui contient plusieurs paramètres basiques comme la fréquence ou la bande. On peut le décrire comme une fonction de l'amplitude dans le temps.\n",
    "\n",
    "PLusieurs parametres avancés très connus sont maintenant utilisés pour cela améliorer la classification des musiques. La \"Mel-Frequency Cepstral Coefficients\" (MFCCs) d'un signal en est le principal. C'est une liste de primitives généralement petite qui décrit la forme spéctrale du son. Cela permet également de reconnaître la voix humaine plus précisément.\n",
    "\n",
    "Différents algorithmes ont prouvé leur utilité quant à la classification musicale. En effet, le k-Nearest Neighbors (k-NN) admet une implémentation simple et rapide pour de grands sets de données. Les réseaux de neurones multicouches sont un des modèles les plus intéressants dans des situations complexes. En effet, leur rigueur d'apprantissage permet de déterminer des limites décisionnaires plus précises. Ils requierent cependant un long temps d'apprantissage.\n",
    "Certaines études [Music Genre Classiﬁcation using Machine Learning Techniques, Hareesh Bahuleyan] ont montré que des approches moins conventionnelles pouvaient être utilisées dans la classification de musiques. On peut par exemple analyser le son comme comme une image. Un réseau de neurones traite chaque exemple comme une image en utilisant son spectrogramme. Mais il a été prouvé que le meilleur modèle pour traiter ce genre de données était le réseau neuronal convolutif.\n",
    "\n",
    "Pour cette complexité accrue de données il est essentiel de se tourner vers la combinaison de modèles pour améliorer les performances. Plusieurs décisions sont envisageables pour résouder le problème allant de la moyenne des modèles enrigistrés à la multiplication des sorties. La moyenne est outil simple dans la mise en place puisqu'il nécessite uniquement les valeures probabilistiques de chaque modèle. Elle présente généralement de bonnes performances de classification. Cependant cette option présente un réel intérêt dans la classification  à deux classes (car les probabilités de classes sont très souvent différentes) ou bien dans le cas ou les rejets sont permis. Pour une classification à plus de deux classes il est plus intéressant de se tourner se tourner vers un choix de combinaison par mutliplications des sorties des modèles. Pour cela chaque modèle doit être entrainé sur un set de données différent et indépendant pour obtenir de meilleurs résulats. Il est en revanche toujours intéressant dans la combinaison de modèles d'y inclure le rejet en raison d'un important complexité des sorties. Des études [IEEE TRANSACTIONS ON PATTERN ANALYSIS AND MACHINE INTELLIGENCE] ont également montré que la sum des sorties était, malgré sa simplicité d'action, un très bon moyen de combiner des modèles et performait souvent mieux que toutes les autres combinaisons. C'est en effet un choix plus résilient aux erreurs d'estimations.\n",
    "\n",
    "Sources : \n",
    "\n",
    "littérature du dossier\n",
    "\n",
    "Finding the genre of a song with Deep Learning — A.I. Odyssey part. 1, Julien Despois:\n",
    "https://hackernoon.com/finding-the-genre-of-a-song-with-deep-learning-da8f59a61194\n",
    "\n",
    "usic Genre Classification using Machine Learning Techniques, Hareesh Bahuleyan: https://www.researchgate.net/publication/324218667_Music_Genre_Classification_using_Machine_Learning_Techniques\n",
    "\n",
    "Music Genre Classification with Python, Parul Pandey:\n",
    "https://towardsdatascience.com/music-genre-classification-with-python-c714d032f0d8\n",
    "\n",
    "MUSIC CLASSIFICATION USING ARTIFICIAL INTELLIGENCE, Sukant Khurana: \n",
    "https://medium.com/@sukantkhurana/music-classification-using-artificial-intelligence-3d21c59c5cb2"
   ]
  },
  {
   "cell_type": "markdown",
   "metadata": {},
   "source": [
    "### Question 2\n",
    "Quelle est la configuration (machine, matériel, versions logiciel) de votre\n",
    "environnement? Quelle a été votre approche de partitionnement des données? Quels\n",
    "ensembles de primitives avez-vous choisis? Quelle méthode de validation avez-vous\n",
    "utilisée afin de confectionner vos modèles? Quelles étapes supplémentaires avez-vous\n",
    "eu à effectuer en prétraitement (normalisation, balancement, réduction de\n",
    "dimensionnalité, etc.)?"
   ]
  },
  {
   "cell_type": "markdown",
   "metadata": {},
   "source": [
    "\n",
    "Pour le laboratoire nous avons diviser les données 80/20, donc 80% pour l'entrainement et 20% pour les tests. Nous avons aussi fait une normalisation des données avec un MinMax avec un intervalle de -1 a 1.Les primitives n'ont pas été modifier donc elles sont celle qui sont par défaut dans les ensembles de données."
   ]
  },
  {
   "cell_type": "markdown",
   "metadata": {},
   "source": [
    "### Question 3\n",
    "Quels sont les trois modèles d’apprentissage que vous avez décidé d’étudier à titre de\n",
    "classificateur de base? Exprimez les raisons qui vous ont mené à un tel choix. Si vous\n",
    "avez décidé d’implémenter un réseau de neurones, décrivez la structure de votre\n",
    "modèle d’apprentissage par réseau de neurones. Ajoutez tous graphiques ou\n",
    "représentation pertinente afin de décrire votre modèle, par exemple, un graphe\n",
    "_TensorBoard_ si applicable ou un texte descriptif."
   ]
  },
  {
   "cell_type": "markdown",
   "metadata": {},
   "source": [
    "Dans un premier temps, nous avons chercher quel serait le meilleur classificateur pour notre problème. \n",
    "Nous en avons testé différents : \n",
    "- Arbre de décisions\n",
    "- SVM\n",
    "- KNN\n",
    "- Réseaux neuronaux \n",
    "\n",
    "Il est apparu qu'ils avaient tous des performances différentes, le modèle le plus rapide à entrainer est l'arbre de décision, mais les prédictions sont médiocres. Le classificateur KNN prend beaucoup de temps à entrainer tout comme le SVM. Nous avons également tenté de réduire la dimension des données pour accélérer le temps d'apprentissage à l'aide du LDA. \n",
    "Finalement nous avons décidé d'utiliser des réseaux neuronaux car le rapport entre le temps d'apprentissage et la précision était le meilleur avec ce modèle. \n",
    "\n",
    "Après avoir choisi notre modèle de classificateur, nous avons tenté de prétraité nos données pour ajouter de l'information à nos jeux de données. Nous avons pensé à utiliser un classificateur Multinomial qui nous donnerait des probabilités d'appartenance à une classe musicale. Et nous voulions ajouter ces probabilités aux primitives déjà présentes. Nous pensions que ces nouvelles primitives donneraient une meilleurs précisions à nos modèles.\n",
    "Après avoir tester cette hypothèse, elle a été repoussée car les modèles perdaient en précision. "
   ]
  },
  {
   "cell_type": "markdown",
   "metadata": {},
   "source": [
    "### Question 4\n",
    "Pour vos trois modèles, présentez les hyperparamètres d’apprentissage et les\n",
    "ensembles de données utilisées ayant menés à votre meilleur résultat de précision\n",
    "(_accuracy_) et _F-measure_. Comment ces classificateurs ont-ils performés sur cet\n",
    "ensemble de données? Discutez des résultats"
   ]
  },
  {
   "cell_type": "markdown",
   "metadata": {},
   "source": [
    "KNN hyperparamètre radius 0.5 weights= distance\n",
    "RN hyperparametre: 4 couches cachées: , 100 de perceptrons, 100 itérations et un taux d'apprentissage de 0.0005.\n",
    "\n",
    "Les modèles diffèrent dans les jeux de données sur lesquels ils ont été entrainés et les poids de départs qui sont aléatoires. \n",
    "\n",
    "m1 : accuracy: 0.3275 - f1: 0.1896 \n",
    "m2 : accuracy: 0.2890 - f1: 0.1341\n",
    "m3 : accuracy: 0.3382 - f1: 0.2136\n",
    "\n",
    "Les résultats sont assez bon comparés aux autres modèles. On peut noter que la mesure F1 est toujours largement inférieur à la précision."
   ]
  },
  {
   "cell_type": "markdown",
   "metadata": {},
   "source": [
    "### Question 5\n",
    "Présentez la conception de votre solution finale au problème (votre solution reposant\n",
    "sur la théorie des ensembles). Présentez ici le diagramme nécessaire afin de présenter\n",
    "convenablement votre combinaison de modèles, les ensembles de primitives choisies\n",
    "ainsi que la stratégie de combinaison. Faites une discussion expliquant vos décisions\n",
    "de conception. Faites des liens avec l’implémentation et présentez le code clé de celle-ci."
   ]
  },
  {
   "cell_type": "markdown",
   "metadata": {},
   "source": [
    "Diagramme pour montrer: combinaison modèle\n",
    "\n",
    "ensemble primitives choisi\n",
    "\n",
    "En entrainant séparément 10 modèles sur les 10 jeux de données différents, nous avons sélectionné les 3 jeux de données qui donnaient la plus grande précision : \n",
    "- msd-ssd_dev accuracy : 0.32\n",
    "- msd-jmirmfccs_dev accuracy : 0.28\n",
    "- msd-marsyas_dev_new accuracy : 0.33\n",
    "\n",
    "Notre stratégie de combinaison est de comparer les prédictions des trois modèles et de prendre celle qui apparait le plus de fois. Si deux modèles sont d'accord, alors c'est leur prédictions qui sort. \n"
   ]
  },
  {
   "cell_type": "markdown",
   "metadata": {},
   "source": [
    "### Question 6\n",
    "Consignez dans un tableau les hyperparamètres finaux de vos modèles faisant partie\n",
    "de votre ensemble. Présentez le score de précision (_accuracy_) et F1 final de votre\n",
    "ensemble. Présentez une discussion faisant l’analyse des résultats de votre système\n",
    "final. Décrivez les problèmes et difficultés rencontrées. Décrivez les performances de\n",
    "votre ensemble et tentez d’expliquer ces résultats."
   ]
  },
  {
   "cell_type": "markdown",
   "metadata": {},
   "source": []
  },
  {
   "cell_type": "markdown",
   "metadata": {},
   "source": [
    "### Question 7\n",
    "Formulez quelques pistes d’amélioration de la solution développée. "
   ]
  },
  {
   "cell_type": "markdown",
   "metadata": {},
   "source": []
  }
 ],
 "metadata": {
  "kernelspec": {
   "display_name": "Python 3",
   "language": "python",
   "name": "python3"
  },
  "language_info": {
   "codemirror_mode": {
    "name": "ipython",
    "version": 3
   },
   "file_extension": ".py",
   "mimetype": "text/x-python",
   "name": "python",
   "nbconvert_exporter": "python",
   "pygments_lexer": "ipython3",
   "version": "3.7.1"
  }
 },
 "nbformat": 4,
 "nbformat_minor": 2
}
