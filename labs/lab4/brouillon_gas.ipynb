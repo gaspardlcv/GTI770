{
 "cells": [
  {
   "cell_type": "code",
   "execution_count": 18,
   "metadata": {},
   "outputs": [],
   "source": [
    "import numpy as np\n",
    "import random\n",
    "import math\n",
    "import csv\n",
    "import matplotlib\n",
    "import matplotlib.pyplot as plt\n",
    "from mpl_toolkits.mplot3d import Axes3D\n",
    "import cv2\n",
    "import pandas as pd\n",
    "from sklearn import svm\n",
    "from sklearn.preprocessing import MinMaxScaler\n",
    "from sklearn.model_selection import train_test_split\n",
    "from sklearn.metrics import f1_score\n",
    "from sklearn.model_selection import cross_val_score\n",
    "from sklearn.model_selection import GridSearchCV\n",
    "from sklearn.metrics import make_scorer, accuracy_score, f1_score, average_precision_score\n",
    "from sklearn.preprocessing import label_binarize\n",
    "from sklearn import preprocessing\n",
    "from sklearn.ensemble import AdaBoostClassifier\n",
    "from sklearn.svm import SVC"
   ]
  },
  {
   "cell_type": "code",
   "execution_count": 19,
   "metadata": {},
   "outputs": [],
   "source": [
    "music_class_binary = {'BIG_BAND':[0, 0, 0, 0, 0, 0, 0, 0, 0, 0, 0, 0, 0, 0, 0, 0, 0, 0, 0, 0, 0, 0, 0, 0, 1],\n",
    "          'BLUES_CONTEMPORARY':  [0, 0, 0, 0, 0, 0, 0, 0, 0, 0, 0, 0, 0, 0, 0, 0, 0, 0, 0, 0, 0, 0, 0, 1, 0],\n",
    "          'COUNTRY_TRADITIONAL': [0, 0, 0, 0, 0, 0, 0, 0, 0, 0, 0, 0, 0, 0, 0, 0, 0, 0, 0, 0, 0, 0, 1, 0, 0],\n",
    "          'DANCE':               [0, 0, 0, 0, 0, 0, 0, 0, 0, 0, 0, 0, 0, 0, 0, 0, 0, 0, 0, 0, 0, 1, 0, 0, 0],\n",
    "          'ELECTRONICA':         [0, 0, 0, 0, 0, 0, 0, 0, 0, 0, 0, 0, 0, 0, 0, 0, 0, 0, 0, 0, 1, 0, 0, 0, 0],\n",
    "          'EXPERIMENTAL':        [0, 0, 0, 0, 0, 0, 0, 0, 0, 0, 0, 0, 0, 0, 0, 0, 0, 0, 0, 1, 0, 0, 0, 0, 0],\n",
    "          'FOLK_INTERNATIONAL':  [0, 0, 0, 0, 0, 0, 0, 0, 0, 0, 0, 0, 0, 0, 0, 0, 0, 0, 1, 0, 0, 0, 0, 0, 0],\n",
    "          'GOSPEL':              [0, 0, 0, 0, 0, 0, 0, 0, 0, 0, 0, 0, 0, 0, 0, 0, 0, 1, 0, 0, 0, 0, 0, 0, 0],\n",
    "          'GRUNGE_EMO':          [0, 0, 0, 0, 0, 0, 0, 0, 0, 0, 0, 0, 0, 0, 0, 0, 1, 0, 0, 0, 0, 0, 0, 0, 0],\n",
    "          'HIP_HOP_RAP':         [0, 0, 0, 0, 0, 0, 0, 0, 0, 0, 0, 0, 0, 0, 0, 1, 0, 0, 0, 0, 0, 0, 0, 0, 0],\n",
    "          'JAZZ_CLASSIC':        [0, 0, 0, 0, 0, 0, 0, 0, 0, 0, 0, 0, 0, 0, 1, 0, 0, 0, 0, 0, 0, 0, 0, 0, 0],\n",
    "          'METAL_ALTERNATIVE':   [0, 0, 0, 0, 0, 0, 0, 0, 0, 0, 0, 0, 0, 1, 0, 0, 0, 0, 0, 0, 0, 0, 0, 0, 0],\n",
    "          'METAL_DEATH':         [0, 0, 0, 0, 0, 0, 0, 0, 0, 0, 0, 0, 1, 0, 0, 0, 0, 0, 0, 0, 0, 0, 0, 0, 0],\n",
    "          'METAL_HEAVY':         [0, 0, 0, 0, 0, 0, 0, 0, 0, 0, 0, 1, 0, 0, 0, 0, 0, 0, 0, 0, 0, 0, 0, 0, 0],\n",
    "          'POP_CONTEMPORARY':    [0, 0, 0, 0, 0, 0, 0, 0, 0, 0, 1, 0, 0, 0, 0, 0, 0, 0, 0, 0, 0, 0, 0, 0, 0],\n",
    "          'POP_INDIE':           [0, 0, 0, 0, 0, 0, 0, 0, 0, 1, 0, 0, 0, 0, 0, 0, 0, 0, 0, 0, 0, 0, 0, 0, 0],\n",
    "          'POP_LATIN':           [0, 0, 0, 0, 0, 0, 0, 0, 1, 0, 0, 0, 0, 0, 0, 0, 0, 0, 0, 0, 0, 0, 0, 0, 0],\n",
    "          'PUNK':                [0, 0, 0, 0, 0, 0, 0, 1, 0, 0, 0, 0, 0, 0, 0, 0, 0, 0, 0, 0, 0, 0, 0, 0, 0],\n",
    "          'REGGAE':              [0, 0, 0, 0, 0, 0, 1, 0, 0, 0, 0, 0, 0, 0, 0, 0, 0, 0, 0, 0, 0, 0, 0, 0, 0],\n",
    "          'RNB_SOUL':            [0, 0, 0, 0, 0, 1, 0, 0, 0, 0, 0, 0, 0, 0, 0, 0, 0, 0, 0, 0, 0, 0, 0, 0, 0],\n",
    "          'ROCK_ALTERNATIVE':    [0, 0, 0, 0, 1, 0, 0, 0, 0, 0, 0, 0, 0, 0, 0, 0, 0, 0, 0, 0, 0, 0, 0, 0, 0],\n",
    "          'ROCK_COLLEGE':        [0, 0, 0, 1, 0, 0, 0, 0, 0, 0, 0, 0, 0, 0, 0, 0, 0, 0, 0, 0, 0, 0, 0, 0, 0],\n",
    "          'ROCK_CONTEMPORARY':   [0, 0, 1, 0, 0, 0, 0, 0, 0, 0, 0, 0, 0, 0, 0, 0, 0, 0, 0, 0, 0, 0, 0, 0, 0],\n",
    "          'ROCK_HARD':           [0, 1, 0, 0, 0, 0, 0, 0, 0, 0, 0, 0, 0, 0, 0, 0, 0, 0, 0, 0, 0, 0, 0, 0, 0],\n",
    "          'ROCK_NEO_PSYCHEDELIA':[1, 0, 0, 0, 0, 0, 0, 0, 0, 0, 0, 0, 0, 0, 0, 0, 0, 0, 0, 0, 0, 0, 0, 0, 0]}\n",
    "music_class = {'BIG_BAND':1,\n",
    "          'BLUES_CONTEMPORARY':2,\n",
    "          'COUNTRY_TRADITIONAL':3,\n",
    "          'DANCE':4,\n",
    "          'ELECTRONICA':5,\n",
    "          'EXPERIMENTAL':6,\n",
    "          'FOLK_INTERNATIONAL':7,\n",
    "          'GOSPEL':8,\n",
    "          'GRUNGE_EMO':9,\n",
    "          'HIP_HOP_RAP':10,\n",
    "          'JAZZ_CLASSIC':11,\n",
    "          'METAL_ALTERNATIVE':12,\n",
    "          'METAL_DEATH':13,\n",
    "          'METAL_HEAVY':14,\n",
    "          'POP_CONTEMPORARY':15,\n",
    "          'POP_INDIE':16,\n",
    "          'POP_LATIN':17,\n",
    "          'PUNK':18,\n",
    "          'REGGAE':19,\n",
    "          'RNB_SOUL':20,\n",
    "          'ROCK_ALTERNATIVE':21,\n",
    "          'ROCK_COLLEGE':22,\n",
    "          'ROCK_CONTEMPORARY':23,\n",
    "          'ROCK_HARD':24,\n",
    "          'ROCK_NEO_PSYCHEDELIA':25}"
   ]
  },
  {
   "cell_type": "code",
   "execution_count": 20,
   "metadata": {},
   "outputs": [],
   "source": [
    "def read_csv(url):\n",
    "    \"\"\"\n",
    "    Args:\n",
    "        url (string): the url of the file\n",
    "    Returns:\n",
    "        df: the dataframe filled\n",
    "    \"\"\"\n",
    "    df = pd.read_csv(url, header=None)\n",
    "    df.head()\n",
    "    return df"
   ]
  },
  {
   "cell_type": "code",
   "execution_count": 21,
   "metadata": {},
   "outputs": [],
   "source": [
    "from sklearn.discriminant_analysis import LinearDiscriminantAnalysis\n",
    "def select_n_components(var_ratio, goal_var: float) -> int:\n",
    "    # Set initial variance explained so far\n",
    "    total_variance = 0.0\n",
    "    \n",
    "    # Set initial number of features\n",
    "    n_components = 0\n",
    "    \n",
    "    # For the explained variance of each feature:\n",
    "    for explained_variance in var_ratio:\n",
    "        \n",
    "        # Add the explained variance to the total\n",
    "        total_variance += explained_variance\n",
    "        \n",
    "        # Add one to the number of components\n",
    "        n_components += 1\n",
    "        \n",
    "        # If we reach our goal level of explained variance\n",
    "        if total_variance >= goal_var:\n",
    "            # End the loop\n",
    "            break\n",
    "            \n",
    "    # Return the number of components\n",
    "    return n_components"
   ]
  },
  {
   "cell_type": "code",
   "execution_count": 31,
   "metadata": {},
   "outputs": [],
   "source": [
    "def SVM(X_train,Y_train,X_test,Y_test,weight) :\n",
    "    \"\"\"\n",
    "    Args:\n",
    "        X_train (list): the train sample\n",
    "        X_test (list): the test sample\n",
    "        Y_train (list): the train output\n",
    "        Y_test (list): the test output\n",
    "    Returns:\n",
    "        \n",
    "    \"\"\"\n",
    "    acc_scorer = make_scorer(average_precision_score)\n",
    "    scores = {'Accuracy': acc_scorer}\n",
    "    \n",
    "    #model  = svm.SVC(gamma='scale', decision_function_shape='ovo', kernel = 'rbf',C=10)\n",
    "    #model.fit(X_train, Y_train)\n",
    "    \n",
    "    svc=SVC(probability=True, gamma='scale', decision_function_shape='ovo', kernel = 'rbf',C=10)\n",
    "    abc =AdaBoostClassifier(n_estimators=20, base_estimator=svc,learning_rate=1)\n",
    "    model = abc.fit(X_train, Y_train)\n",
    "    \n",
    "    #print(\"Debut du grid search\")\n",
    "    # implemente le gridsearchcv\n",
    "    #parameters = {'class_weight':weight,'cache_size':[6000],'C':[0.001,0.1,1,10],'gamma':[0.001,0.1,1,10],'kernel':('linear', 'rbf')}\n",
    "    #clf = GridSearchCV(model, parameters, scoring='roc_auc',n_jobs=2,cv=3)\n",
    "    #clf = GridSearchCV(model, parameters,n_jobs=3,cv=3)\n",
    "    #clf.fit(X_train, Y_train)\n",
    "    # sort le best model pour fit et score dessus\n",
    "    #best_model = clf.best_estimator_\n",
    "    #print(best_model)\n",
    "      \n",
    "    #print(\"Score of the SVM model:   \" + str(model.score(X_test,Y_test)))\n",
    "    \n",
    "    return model"
   ]
  },
  {
   "cell_type": "code",
   "execution_count": 32,
   "metadata": {},
   "outputs": [],
   "source": [
    "def encode_labels(Y) :\n",
    "    \"\"\"\n",
    "    Args:\n",
    "        X_train (list): the train sample\n",
    "        X_test (list): the test sample\n",
    "        Y_train (list): the train output\n",
    "        Y_test (list): the test output\n",
    "    Returns:\n",
    "        \n",
    "    \"\"\"\n",
    "    encoder = preprocessing.LabelEncoder()\n",
    "    encoder.fit(Y)\n",
    "    Y_train_l = encoder.transform(Y)\n",
    "    return Y_train_l"
   ]
  },
  {
   "cell_type": "code",
   "execution_count": 28,
   "metadata": {},
   "outputs": [],
   "source": [
    "df = read_csv(r\"C:\\Users\\gaspa\\OneDrive\\Bureau\\COURS\\ING 5\\Semestre 1\\Machine Learning\\GTI770\\labs\\lab4\\music\\tagged_feature_sets\\msd-ssd_dev\\msd-ssd_dev.csv\")\n",
    "\n",
    "name_df = df[[0,1]]\n",
    "labels = df.loc[:,df.columns == 170]\n",
    "labels = labels.to_numpy()\n",
    "y = []\n",
    "df = df.drop(170,axis=1)\n",
    "\n",
    "for e in labels:\n",
    "    y.append(music_class[e[0]])\n",
    "y_df=pd.DataFrame(y)\n",
    "X_train, X_test, Y_train, Y_test = train_test_split(df.iloc[:,2:169], y_df, test_size=0.9,stratify=y_df)"
   ]
  },
  {
   "cell_type": "code",
   "execution_count": 33,
   "metadata": {},
   "outputs": [
    {
     "name": "stdout",
     "output_type": "stream",
     "text": [
      "10\n",
      "(17955, 14)\n",
      "(17955, 10)\n"
     ]
    }
   ],
   "source": [
    "# scale the data : réduire le execution time\n",
    "scaling = MinMaxScaler(feature_range=(-1,1)).fit(X_train)\n",
    "X_train = scaling.transform(X_train)\n",
    "X_test = scaling.transform(X_test)\n",
    "\n",
    "# Create an LDA that will reduce the data down to 1 feature\n",
    "lda = LinearDiscriminantAnalysis(n_components=None)\n",
    "# run an LDA and use it to transform the features\n",
    "lda.fit(X_train, Y_train)\n",
    "nb_components = select_n_components(lda.explained_variance_ratio_, 0.95)\n",
    "print(nb_components)\n",
    "\n",
    "# dimensional reduction\n",
    "lda = LinearDiscriminantAnalysis(n_components=nb_components)\n",
    "lda.fit(X_train, Y_train)\n",
    "print(X_train.shape)\n",
    "X_train = lda.transform(X_train)\n",
    "X_test = lda.transform(X_test)\n",
    "print(X_train.shape)\n",
    "\n",
    "# encoding train labels and test labels\n",
    "Y_train = encode_labels(Y_train)\n",
    "Y_test = encode_labels(Y_test)"
   ]
  },
  {
   "cell_type": "code",
   "execution_count": null,
   "metadata": {},
   "outputs": [],
   "source": [
    "# make the SVM model\n",
    "model = SVM(X_train,Y_train,X_test,Y_test,['balanced'])\n",
    "predictions = model.predict(X_test)"
   ]
  },
  {
   "cell_type": "code",
   "execution_count": 16,
   "metadata": {},
   "outputs": [
    {
     "ename": "SyntaxError",
     "evalue": "(unicode error) 'unicodeescape' codec can't decode bytes in position 19-20: truncated \\UXXXXXXXX escape (<ipython-input-16-461024361bda>, line 14)",
     "output_type": "error",
     "traceback": [
      "\u001b[1;36m  File \u001b[1;32m\"<ipython-input-16-461024361bda>\"\u001b[1;36m, line \u001b[1;32m14\u001b[0m\n\u001b[1;33m    \"\"\"\u001b[0m\n\u001b[1;37m      ^\u001b[0m\n\u001b[1;31mSyntaxError\u001b[0m\u001b[1;31m:\u001b[0m (unicode error) 'unicodeescape' codec can't decode bytes in position 19-20: truncated \\UXXXXXXXX escape\n"
     ]
    }
   ],
   "source": [
    "\"\"\"\n",
    "df = read_csv(r\"C:\\Users\\gaspa\\OneDrive\\Bureau\\COURS\\ING 5\\Semestre 1\\Machine Learning\\GTI770\\labs\\lab4\\music\\tagged_feature_sets\\msd-jmirmfccs_dev\\msd-jmirmfccs_dev.csv\")\n",
    "\n",
    "name_df = df[[0,1]]\n",
    "labels = df.loc[:,df.columns == 28]\n",
    "labels = labels.to_numpy()\n",
    "y = []\n",
    "df = df.drop(28,axis=1)\n",
    "\n",
    "for e in labels:\n",
    "    y.append(music_class[e[0]])\n",
    "y_df=pd.DataFrame(y)\n",
    "X_train, X_test, Y_train, Y_test = train_test_split(df.iloc[:,2:27], y_df, test_size=0.3,stratify=y_df)\n",
    "\"\"\""
   ]
  }
 ],
 "metadata": {
  "kernelspec": {
   "display_name": "Python 3",
   "language": "python",
   "name": "python3"
  },
  "language_info": {
   "codemirror_mode": {
    "name": "ipython",
    "version": 3
   },
   "file_extension": ".py",
   "mimetype": "text/x-python",
   "name": "python",
   "nbconvert_exporter": "python",
   "pygments_lexer": "ipython3",
   "version": "3.7.3"
  }
 },
 "nbformat": 4,
 "nbformat_minor": 2
}
