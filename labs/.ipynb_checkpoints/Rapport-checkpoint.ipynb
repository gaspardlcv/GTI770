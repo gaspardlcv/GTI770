{
 "cells": [
  {
   "cell_type": "markdown",
   "metadata": {},
   "source": [
    "### Question 1 - \n",
    "Quelle a été votre approche de manipulation de données? Comment avez-vous créé\n",
    "vos ensembles de données? Quels en ont été les résultats? Détaillez les ensembles\n",
    "produits et leur forme (exemple: le nombre d’éléments de chaque classe dans chaque\n",
    "ensemble, un vecteur de shape (N, M), etc.) Vous pouvez appuyer vos écrits par une\n",
    "représentation graphique."
   ]
  },
  {
   "cell_type": "markdown",
   "metadata": {},
   "source": [
    "Nous avons décidé de manier les données selon la méthode Hold-out. Pour cela nous répartissons en deux sets de données distaints train et test. La des technique utilisée pour séparer les données train_test_split de la libraire sklearn.model_selection. Cette fonction possède le paramètre \"stratify\". Celui-ci permet de sélectionner une colonne pour garder la même proportion de classe de les deux sets de données divisés train et test. En activant stratify sur l'output nous obtenons donc deux ensembles avec le même pourcentage de chaque classe. <br /><br />\n",
    "Pour les spams les primitives étaient déjà prédéfinies avec le label en dernière colonne. La forme du vecteur est explicité en dessous. <br />\n",
    "Forme dataframe : (2760, 58) <br />\n",
    "Xtrain.shape : (2208, 57) <br />\n",
    "Xtest.shape : (552, 57)  <br />"
   ]
  },
  {
   "cell_type": "code",
   "execution_count": null,
   "metadata": {},
   "outputs": [],
   "source": []
  },
  {
   "cell_type": "code",
   "execution_count": null,
   "metadata": {},
   "outputs": [],
   "source": []
  },
  {
   "cell_type": "markdown",
   "metadata": {},
   "source": [
    "### Question 2 - \n",
    "\n",
    "Parmi les méthodes de validation (Leave-one-out cross-validation, Leave-p-out crossvalidation, k-fold cross-validation, holdout), présentez les approches de validation que\n",
    "vous avez utilisées. Quels ont été les résultats de votre comparaison des méthodes?"
   ]
  },
  {
   "cell_type": "markdown",
   "metadata": {},
   "source": [
    "### Question 3 - \n",
    "Pour chacun des modèles d’apprentissage élaborés, expliquez l’impact des\n",
    "hyperparamètres et des prétraitements sur les performances des modèles. "
   ]
  },
  {
   "cell_type": "markdown",
   "metadata": {},
   "source": [
    "### Question 4 - \n",
    "Faites une discussion mettant en parallèle la nature des données. Est-ce qu’un\n",
    "ensemble de données se démarque par rapport à un algorithme de classification?\n",
    "Creuser sur la nature intrinsèque des données, sur le processus d’extraction des\n",
    "primitives, sur les distributions des données. Au besoin, tracez un graphique montrant\n",
    "la distribution de quelques primitives afin d’illustrer vos explications."
   ]
  },
  {
   "attachments": {},
   "cell_type": "markdown",
   "metadata": {},
   "source": [
    "### Question 5 - \n",
    "\n",
    "Quel type de classificateur recommanderiez-vous pour l’une et l’autre des ensembles\n",
    "de données et dans quelles conditions? "
   ]
  },
  {
   "cell_type": "markdown",
   "metadata": {},
   "source": [
    "### Question 6 -\n",
    "Formulez quelques pistes d’amélioration des classificateurs. "
   ]
  },
  {
   "cell_type": "markdown",
   "metadata": {},
   "source": [
    "### Bibliographie\n"
   ]
  },
  {
   "cell_type": "code",
   "execution_count": null,
   "metadata": {},
   "outputs": [],
   "source": []
  }
 ],
 "metadata": {
  "kernelspec": {
   "display_name": "Python 3",
   "language": "python",
   "name": "python3"
  },
  "language_info": {
   "codemirror_mode": {
    "name": "ipython",
    "version": 3
   },
   "file_extension": ".py",
   "mimetype": "text/x-python",
   "name": "python",
   "nbconvert_exporter": "python",
   "pygments_lexer": "ipython3",
   "version": "3.7.1"
  }
 },
 "nbformat": 4,
 "nbformat_minor": 2
}
