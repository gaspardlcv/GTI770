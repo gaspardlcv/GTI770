{
 "cells": [
  {
   "cell_type": "code",
   "execution_count": 1,
   "metadata": {},
   "outputs": [],
   "source": [
    "import numpy as np\n",
    "import random\n",
    "import math\n",
    "import csv\n",
    "import matplotlib\n",
    "import matplotlib.pyplot as plt\n",
    "from mpl_toolkits.mplot3d import Axes3D\n",
    "import cv2\n",
    "import pandas as pd\n",
    "from sklearn import svm\n",
    "from sklearn.preprocessing import MinMaxScaler\n",
    "from sklearn.model_selection import train_test_split\n",
    "from sklearn.metrics import f1_score\n",
    "from sklearn.model_selection import cross_val_score\n",
    "from sklearn.model_selection import GridSearchCV\n",
    "from sklearn.metrics import make_scorer, accuracy_score, f1_score"
   ]
  },
  {
   "cell_type": "code",
   "execution_count": 2,
   "metadata": {},
   "outputs": [],
   "source": [
    "def read_csv(url):\n",
    "    \"\"\"\n",
    "    Args:\n",
    "        url (string): the url of the file\n",
    "    Returns:\n",
    "        df: the dataframe filled\n",
    "    \"\"\"\n",
    "    df = pd.read_csv(url, header=None)\n",
    "    df.head()\n",
    "    return df"
   ]
  },
  {
   "cell_type": "markdown",
   "metadata": {},
   "source": [
    "# Réseaux neuronaux avec TensorFlow \n",
    "Multi-Layer Perceptron"
   ]
  },
  {
   "cell_type": "markdown",
   "metadata": {},
   "source": [
    "| Hyperparametre | valeur de base   |\n",
    "|------|------|\n",
    "|   Nombre de couches total | 4, y compris la couche d’entrée (input) et la couche de sortie (output) |\n",
    "|   Nombre de perceptrons dans la couche cachée (hidden layer) | 100, 100, 2 |\n",
    "|   Nombre d’itérations (epochs) | 60 |\n",
    "|   Taux d’apprentissage (learningrate) | 0.0005 |\n",
    "|   Batch size | 100 |"
   ]
  },
  {
   "cell_type": "code",
   "execution_count": 3,
   "metadata": {},
   "outputs": [],
   "source": [
    "nb_layers = 4\n",
    "nb_perceptron = [100,100,2]\n",
    "nb_iteration = 60\n",
    "learning_rate = 0.0005\n",
    "batch_size = 100"
   ]
  },
  {
   "cell_type": "markdown",
   "metadata": {},
   "source": [
    "## Version longue\n",
    "1. Faire for loop pour Avec la librairie TensorFlow (avec l’API tf.keras) \n",
    "    1. Vous pouvez vous inspirer de la littérature, de recherches Internet, de la documentation de TensorFlow ou d’autres sources\n",
    "    2. Ce modèle doit être original\n",
    "    3. Il s’agit ici de construire un Multi-Layer Perceptron model.\n",
    "    4. Faites attention aux nombres de perceptrons à l’entrée et à la sortie; la première valeur doit concorder avec le  nombre de caractéristiques [features] que votre vecteur en entrée comporte [son nombre de dimensions] alors que la deuxième doit concorder avec le nombre de classes que vous avez à la sortie.\n",
    "        \n",
    "2. Dans votre code source, vous devrez ajouter le code nécessaire à l’outil TensorBoard (TensorFlow) Cet outil vous permettra alors de suivre l’évolution des hyperparamètres, via un serveur Web local sur votre machine, et vous facilitera grandement  la tâche dans votre étude des réseaux neuronaux. Vous devez ajouter le code permettant de capturer les valeurs de la précision [accuracy] et la mesure de l’inconsistance entre la valeur prédite et la vraie valeur [loss].\n",
    "3. Voir tableau Hyperparametre, vous devez sélectionner trois valeurs différentes et lancer l’apprentissage avec ces valeurs. **Vous aurez alors 12 modèles d’apprentissages différents**. Notez les résultats de la précision [accuracy] que vous avez obtenue au final. À la fin de vos manipulations, vous devriez avoir, par le biais de TensorBoard, des graphiques comme ci-dessous décrivant la précision [accuracy] et le loss. \n",
    "    1. *Aller voir enoncé pour exemples de graph*"
   ]
  },
  {
   "cell_type": "markdown",
   "metadata": {},
   "source": [
    "## Version courte\n",
    "1. Faire une for loop qui joue avec les hyperparametres\n",
    "    1. Creer un reseau de neuronne avec les hyperparametres\n",
    "    2. Utiliser TensorBoard pour capturer les valeurs de précision, de loss, le score F1 de chaque reseau\n",
    "    3. Prenez en note le temps d’exécution de vos modèles autant en phase d’apprentissage qu’en phase de test.\n",
    "    4. Afficher les graphiques"
   ]
  },
  {
   "cell_type": "code",
   "execution_count": 4,
   "metadata": {},
   "outputs": [
    {
     "data": {
      "text/plain": [
       "'\\nCode here\\n'"
      ]
     },
     "execution_count": 4,
     "metadata": {},
     "output_type": "execute_result"
    }
   ],
   "source": [
    "\"\"\"\n",
    "Code here\n",
    "\"\"\""
   ]
  },
  {
   "cell_type": "markdown",
   "metadata": {},
   "source": [
    "# Machines à vecteur de support "
   ]
  },
  {
   "cell_type": "markdown",
   "metadata": {},
   "source": [
    "## Version Longue\n",
    "1. À l’aide de la librairie scikit-learn, produisez un code source permettant de classifier les galaxies avec l’aide de l’algorithme SVM.\n",
    "2. Plusieurs modèles calculés à l’aide de SVM avec différentes valeurs d’hyperparamètres sont demandés. Fiez-vous aux matrices ci-dessous afin de les réaliser\n",
    "\n",
    "Tableau 5.2 : Matrice des hyperparemètres - SVM kernel = ‘linear’\n",
    "\n",
    "| Poids des classes / Variable C  | class_weight= {‘balanced’}   | \n",
    "|------|------|\n",
    "|   1E-03 | X | \n",
    "|   1E-01 | X | \n",
    "|   1.0 | X | \n",
    "|   10.0 | X | \n",
    "\n",
    "Tableau 5.3 : Matrice des hyperparemètres - SVM kernel = ‘rbf’\n",
    "\n",
    "| Paramètre ɣ(gamma)  / Variable C  | Ɣ=1E-03 | Ɣ=1E-01 | Ɣ=1.0 | Ɣ=10.0 |\n",
    "|------|------|------|------|------|\n",
    "|   1E-03 | X | X | X | X |\n",
    "|   1E-01 | X | X | X | X |\n",
    "|   1.0 | X | X | X | X |\n",
    "|   10.0 | X | X | X | X |\n",
    "\n",
    "Note sur SVM:\n",
    "3. Vous pouvez utiliser la classe sklearn.model_selection.GridSearchCV afin d’effectuer la recherche des meilleurs hyperparamètres. De ce fait, vous n’aurez pas besoin de changer manuellement les valeurs à chaque exécution. De plus, vous pouvez utiliser la classe sklearn.model_selection. StratifiedShuffleSplit afin de diviser l’ensemble de données en un n d’ensembles afin d’effectuer une validation croisée, le tout de manière automatique et aléatoire. Pour plus d’information, fiez-vous à l’exemple donné à la page RBF SVM Parameters disponible en annexe.\n",
    "\n",
    "4. De plus, vous pouvez augmenter la vitesse d’exécution en parallélisant la recherche des hyperparamètres. En effet, la fonction GridSearchCV possède l’argument n_jobs=X où X est le nombre d’exécutions parallèle désiré (généralement proportionnel au nombre de coeurs x86 de la machine sur lequel s’exécute le code Python). Aussi, assurez-vous que votre appel de méthode spécifie une taille de cache suffisante pour le noyau SVM. Par l’intermédiaire du paramètre cache_size, vous serez en mesure de spécifier la taille de la cache désirée, ce qui peut réduire considérablement le temps de résolution de l’optimisation quadratique du problème. Ainsi, en spécifiant cache_size=2048 dans la déclaration de votre classificateur, vous spécifiez que l’algorithme peut utiliser jusqu’à 2 Go de mémoire vive [RAM] à titre de cache pour le noyau. Attention : votre ordinateur doit avoir suffisamment de mémoire vive. Assurez-vous de ne pas spécifier une valeur trop haute pour ne pas saturer la mémoire vive de votre ordinateur.\n",
    "\n",
    "• Notez bien tous les résultats de la précision [accuracy] et le score F1 de chaque modèle calculé. Vous\n",
    "devrez représenter ces résultats dans un tableau dans votre rapport. Prenez en note le temps d’exécution de vos modèles autant en phase d’apprentissage qu’en phase de test."
   ]
  },
  {
   "cell_type": "markdown",
   "metadata": {},
   "source": [
    "## Version courte \n",
    "1. Utiliser sklearn.model_selection.GridSearchCV pour trouver les meilleurs hyperparametres\n",
    "2. sklearn.model_selection\n",
    "3. StratifiedShuffleSplit afin de diviser l’ensemble de données en un n d’ensembles afin d’effectuer une validation croisée\n",
    "4. Pour chaque modele calculé noté:\n",
    "    1. Accuracy\n",
    "    2. score F1\n",
    "    3. Temps d'execution en phase apprentissage et en phase test"
   ]
  },
  {
   "cell_type": "code",
   "execution_count": 5,
   "metadata": {},
   "outputs": [],
   "source": [
    "df = read_csv(r\"C:\\Users\\gaspa\\OneDrive\\Bureau\\COURS\\ING 5\\Semestre 1\\Machine Learning\\GTI770\\labs\\galaxy_feature_vectors.csv\")\n",
    "\n",
    "# get the train and test sample\n",
    "df = df.drop(0, axis=1)\n",
    "X_train, X_test, Y_train, Y_test = train_test_split(df.loc[:, df.columns != 75], df[75], test_size=0.2,stratify=df[75])"
   ]
  },
  {
   "cell_type": "code",
   "execution_count": 23,
   "metadata": {},
   "outputs": [
    {
     "name": "stderr",
     "output_type": "stream",
     "text": [
      "C:\\Users\\gaspa\\Anaconda3\\lib\\site-packages\\sklearn\\model_selection\\_split.py:2053: FutureWarning: You should specify a value for 'cv' instead of relying on the default value. The default value will change from 3 to 5 in version 0.22.\n",
      "  warnings.warn(CV_WARNING, FutureWarning)\n"
     ]
    },
    {
     "name": "stdout",
     "output_type": "stream",
     "text": [
      "SVC(C=0.001, cache_size=6000, class_weight='balanced', coef0=0.0,\n",
      "  decision_function_shape='ovr', degree=3, gamma='auto_deprecated',\n",
      "  kernel='linear', max_iter=-1, probability=False, random_state=None,\n",
      "  shrinking=True, tol=0.001, verbose=False)\n",
      "Score :   0.8290952099349498\n"
     ]
    }
   ],
   "source": [
    "def SVM(X_train,Y_train,X_test,Y_test,k,c,weight,g) :\n",
    "    \"\"\"\n",
    "    Args:\n",
    "        X_train (list): the train sample\n",
    "        X_test (list): the test sample\n",
    "        Y_train (list): the train output\n",
    "        Y_test (list): the test output\n",
    "    Returns:\n",
    "        \n",
    "    \"\"\"\n",
    "    acc_scorer = make_scorer(accuracy_score)\n",
    "    f1_scorer = make_scorer(f1_score)\n",
    "    scores = {'F1': f1_scorer, 'Accuracy': acc_scorer}\n",
    "\n",
    "    # scale the data : réduire le execution time\n",
    "    scaling = MinMaxScaler(feature_range=(-1,1)).fit(X_train)\n",
    "    X_train = scaling.transform(X_train)\n",
    "    X_test = scaling.transform(X_test)\n",
    "    \n",
    "    # implemente le gridsearchcv\n",
    "    parameters = {'class_weight':weight,'cache_size':[6000],'C':[0.001,0.1,1,10],'gamma':[0.001,0.1,1,10],'kernel':('linear', 'rbf')}\n",
    "    #parameters = {'class_weight':weight,'cache_size':[6000],'C':[0.001],'kernel':['linear']}\n",
    "    model  = svm.SVC()\n",
    "    clf = GridSearchCV(model, parameters, scoring=scores,refit='Accuracy')\n",
    "    clf.fit(X_train, Y_train)\n",
    "    \n",
    "    # sort le best model pour fit et score dessus\n",
    "    best_model = clf.best_estimator_\n",
    "    best_model.fit(X_train, Y_train)\n",
    "    print(best_model)\n",
    "    print(\"Score :   \" + str(best_model.score(X_test,Y_test)))\n",
    "    \n",
    "    return clf\n",
    "\n",
    "grid = SVM(X_train,Y_train,X_test,Y_test,'linear',10.0,['balanced'],'auto')"
   ]
  },
  {
   "cell_type": "code",
   "execution_count": 27,
   "metadata": {},
   "outputs": [
    {
     "data": {
      "text/html": [
       "<div>\n",
       "<style scoped>\n",
       "    .dataframe tbody tr th:only-of-type {\n",
       "        vertical-align: middle;\n",
       "    }\n",
       "\n",
       "    .dataframe tbody tr th {\n",
       "        vertical-align: top;\n",
       "    }\n",
       "\n",
       "    .dataframe thead th {\n",
       "        text-align: right;\n",
       "    }\n",
       "</style>\n",
       "<table border=\"1\" class=\"dataframe\">\n",
       "  <thead>\n",
       "    <tr style=\"text-align: right;\">\n",
       "      <th></th>\n",
       "      <th>param_kernel</th>\n",
       "      <th>param_C</th>\n",
       "      <th>mean_test_F1</th>\n",
       "      <th>std_test_F1</th>\n",
       "      <th>mean_test_Accuracy</th>\n",
       "      <th>std_test_Accuracy</th>\n",
       "      <th>rank_test_Accuracy</th>\n",
       "      <th>mean_fit_time</th>\n",
       "      <th>std_fit_time</th>\n",
       "      <th>mean_score_time</th>\n",
       "      <th>std_score_time</th>\n",
       "    </tr>\n",
       "  </thead>\n",
       "  <tbody>\n",
       "    <tr>\n",
       "      <th>0</th>\n",
       "      <td>linear</td>\n",
       "      <td>0.001</td>\n",
       "      <td>0.822805</td>\n",
       "      <td>0.001054</td>\n",
       "      <td>0.823081</td>\n",
       "      <td>0.001082</td>\n",
       "      <td>1</td>\n",
       "      <td>10.576027</td>\n",
       "      <td>0.290444</td>\n",
       "      <td>4.351</td>\n",
       "      <td>0.007875</td>\n",
       "    </tr>\n",
       "  </tbody>\n",
       "</table>\n",
       "</div>"
      ],
      "text/plain": [
       "  param_kernel param_C  mean_test_F1  std_test_F1  mean_test_Accuracy  \\\n",
       "0       linear   0.001      0.822805     0.001054            0.823081   \n",
       "\n",
       "   std_test_Accuracy  rank_test_Accuracy  mean_fit_time  std_fit_time  \\\n",
       "0           0.001082                   1      10.576027      0.290444   \n",
       "\n",
       "   mean_score_time  std_score_time  \n",
       "0            4.351        0.007875  "
      ]
     },
     "execution_count": 27,
     "metadata": {},
     "output_type": "execute_result"
    }
   ],
   "source": [
    "df = pd.DataFrame(grid.cv_results_)\n",
    "df1 = df[['param_kernel','param_C','mean_test_F1','std_test_F1','mean_test_Accuracy','std_test_Accuracy','rank_test_Accuracy','mean_fit_time','std_fit_time','mean_score_time','std_score_time']]\n",
    "df1"
   ]
  },
  {
   "cell_type": "markdown",
   "metadata": {},
   "source": [
    "# Rapport"
   ]
  },
  {
   "cell_type": "markdown",
   "metadata": {},
   "source": [
    "### Introduction"
   ]
  },
  {
   "cell_type": "markdown",
   "metadata": {},
   "source": []
  },
  {
   "cell_type": "markdown",
   "metadata": {},
   "source": [
    "### Question 1 - \n",
    "Parmi les méthodes de validation (Leave-one-out cross-validation, Leave-p-out crossvalidation, k-fold cross-validation), présentez l’approche de validation que vous avez utilisée et pourquoi vous l’avez utilisée. Faites des liens avec les modèles d’apprentissage à l’étude. Rappelez-vous que vous pouvez sélectionner plus qu’une méthode qui servira à la validation des deux modèles à l’études dans ce laboratoire"
   ]
  },
  {
   "cell_type": "markdown",
   "metadata": {},
   "source": []
  },
  {
   "cell_type": "markdown",
   "metadata": {},
   "source": [
    "### Question 2 - \n",
    "Décrivez la méthode de normalisation de donnés utilisée. "
   ]
  },
  {
   "cell_type": "markdown",
   "metadata": {},
   "source": []
  },
  {
   "cell_type": "markdown",
   "metadata": {},
   "source": [
    "### Question 3 - \n",
    "Décrivez la structure et le choix de votre modèle d’apprentissage MLP. Faites un parallèle entre votre description et votre implémentation. Quelle est la fonction de coût utilisée ? Pourquoi avez-vous utilisé cette fonction plutôt qu’une autre (quels sont les avantages et inconvénients ?) "
   ]
  },
  {
   "cell_type": "markdown",
   "metadata": {},
   "source": []
  },
  {
   "cell_type": "markdown",
   "metadata": {},
   "source": [
    "### Question 4 - \n",
    "Avec les graphiques créés par TensorBoard (TensorFlow) ou Visdom (PyTorch), après combien d’itérations/epochs êtes-vous en état de surapprentissage [overfitting]? À votre avis, quel est le nombre d’epochs optimal pour votre modèle?"
   ]
  },
  {
   "cell_type": "markdown",
   "metadata": {},
   "source": []
  },
  {
   "cell_type": "markdown",
   "metadata": {},
   "source": [
    "### Question 5 - \n",
    "Pour chacun des modèles d’apprentissage élaborés, présentez sous forme de tableau et de graphique les résultats de la précision (accuracy) et du score F1. Expliquez l’impact des hyperparamètres sur les performances du modèle MLP. Comment se traduisent les divers changements de paramètres ou pourquoi ont-il cet impact sur la performance du modèle ? Prenez en note le temps d’exécution de vos modèles autant en phase d’apprentissage qu’en phase de test."
   ]
  },
  {
   "cell_type": "markdown",
   "metadata": {},
   "source": []
  },
  {
   "cell_type": "markdown",
   "metadata": {},
   "source": [
    "### Question 6 - \n",
    "Présentez brièvement la méthode que vous avez utilisée afin de trouver le meilleur modèle SVM. Quels ont été vos résultats? Quels sont les impacts des hyperparamètres et leur utilité respective?"
   ]
  },
  {
   "cell_type": "markdown",
   "metadata": {},
   "source": []
  },
  {
   "cell_type": "markdown",
   "metadata": {},
   "source": [
    "### Question 7 - \n",
    "Quel est l’impact de la taille de l’ensemble d’apprentissages sur la performance de classification des différents modèles?"
   ]
  },
  {
   "cell_type": "markdown",
   "metadata": {},
   "source": []
  },
  {
   "cell_type": "markdown",
   "metadata": {},
   "source": [
    "### Question 8 - \n",
    "Quel type de classificateur recommanderiez-vous pour l’ensemble de données des\n",
    "galaxies et dans quelles conditions (par exemple mais non exhaustif, le nombre de données privilégié, les hyperparamètres, le temps de calcul, le matériel nécessaire, les scores de performance)? Discutez des performances que vous avez obtenues entre les modèles d’apprentissage utilisant les réseaux de neurones et les modèles SVM."
   ]
  },
  {
   "cell_type": "markdown",
   "metadata": {},
   "source": []
  },
  {
   "cell_type": "markdown",
   "metadata": {},
   "source": [
    "### Question 9 - \n",
    "Formulez quelques pistes d’amélioration des classificateurs. "
   ]
  },
  {
   "cell_type": "markdown",
   "metadata": {},
   "source": []
  },
  {
   "cell_type": "markdown",
   "metadata": {},
   "source": [
    "### Conclusion"
   ]
  },
  {
   "cell_type": "markdown",
   "metadata": {},
   "source": []
  }
 ],
 "metadata": {
  "kernelspec": {
   "display_name": "Python 3",
   "language": "python",
   "name": "python3"
  },
  "language_info": {
   "codemirror_mode": {
    "name": "ipython",
    "version": 3
   },
   "file_extension": ".py",
   "mimetype": "text/x-python",
   "name": "python",
   "nbconvert_exporter": "python",
   "pygments_lexer": "ipython3",
   "version": "3.7.1"
  }
 },
 "nbformat": 4,
 "nbformat_minor": 2
}
